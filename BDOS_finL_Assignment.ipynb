{
  "nbformat": 4,
  "nbformat_minor": 0,
  "metadata": {
    "colab": {
      "name": "BDOS_Assignment",
      "provenance": [],
      "collapsed_sections": [
        "cYkXEQSjqZEF",
        "JaIrjRR0rKoV",
        "7n_y7YvF4iAK",
        "ID0aohMuHTLK",
        "3bAV3-WlPZju",
        "GiY3oDc_STqC",
        "kyQ3ypFFkOL-",
        "f4i_RRFwmgge",
        "9adggUPYunK_",
        "ktIGCEWOvgRW",
        "chvwZ7fYI7V8",
        "IxUoCbNw8tKK",
        "Nc4ifg0b_Pob",
        "3_5vxanF_Toq",
        "26c9-cWEv1iv",
        "o5su82XGn3u4",
        "Mvtudm9ax-s5"
      ]
    },
    "kernelspec": {
      "name": "python3",
      "display_name": "Python 3"
    },
    "widgets": {
      "application/vnd.jupyter.widget-state+json": {
        "1aba723f901e415d88dc60c522e37b31": {
          "model_module": "@jupyter-widgets/controls",
          "model_name": "IntProgressModel",
          "state": {
            "_view_name": "ProgressView",
            "style": "IPY_MODEL_3f2250f225004d9aabd44c2996b52121",
            "_dom_classes": [],
            "description": "Processing: ",
            "_model_name": "IntProgressModel",
            "bar_style": "",
            "max": 3,
            "_view_module": "@jupyter-widgets/controls",
            "_model_module_version": "1.5.0",
            "value": 3,
            "_view_count": null,
            "_view_module_version": "1.5.0",
            "orientation": "horizontal",
            "min": 0,
            "description_tooltip": null,
            "_model_module": "@jupyter-widgets/controls",
            "layout": "IPY_MODEL_e0250a8f07804569bc2e95f3959d1b40"
          }
        },
        "3f2250f225004d9aabd44c2996b52121": {
          "model_module": "@jupyter-widgets/controls",
          "model_name": "ProgressStyleModel",
          "state": {
            "_view_name": "StyleView",
            "_model_name": "ProgressStyleModel",
            "description_width": "",
            "_view_module": "@jupyter-widgets/base",
            "_model_module_version": "1.5.0",
            "_view_count": null,
            "_view_module_version": "1.2.0",
            "bar_color": null,
            "_model_module": "@jupyter-widgets/controls"
          }
        },
        "e0250a8f07804569bc2e95f3959d1b40": {
          "model_module": "@jupyter-widgets/base",
          "model_name": "LayoutModel",
          "state": {
            "_view_name": "LayoutView",
            "grid_template_rows": null,
            "right": null,
            "justify_content": null,
            "_view_module": "@jupyter-widgets/base",
            "overflow": null,
            "_model_module_version": "1.2.0",
            "_view_count": null,
            "flex_flow": null,
            "width": null,
            "min_width": null,
            "border": null,
            "align_items": null,
            "bottom": null,
            "_model_module": "@jupyter-widgets/base",
            "top": null,
            "grid_column": null,
            "overflow_y": null,
            "overflow_x": null,
            "grid_auto_flow": null,
            "grid_area": null,
            "grid_template_columns": null,
            "flex": null,
            "_model_name": "LayoutModel",
            "justify_items": null,
            "grid_row": null,
            "max_height": null,
            "align_content": null,
            "visibility": null,
            "align_self": null,
            "height": null,
            "min_height": null,
            "padding": null,
            "grid_auto_rows": null,
            "grid_gap": null,
            "max_width": null,
            "order": null,
            "_view_module_version": "1.2.0",
            "grid_template_areas": null,
            "object_position": null,
            "object_fit": null,
            "grid_auto_columns": null,
            "margin": null,
            "display": null,
            "left": null
          }
        },
        "c5397b133fa2453b9f4a76f41e3e8b1a": {
          "model_module": "@jupyter-widgets/controls",
          "model_name": "TextModel",
          "state": {
            "_view_name": "TextView",
            "style": "IPY_MODEL_d107d6ba74ab477b852f2d8a8533c178",
            "_dom_classes": [],
            "description": "",
            "_model_name": "TextModel",
            "placeholder": "​",
            "_view_module": "@jupyter-widgets/controls",
            "_model_module_version": "1.5.0",
            "value": "Following data types have been inferred automatically, if they are correct press enter to continue or type 'quit' otherwise.",
            "_view_count": null,
            "disabled": false,
            "_view_module_version": "1.5.0",
            "continuous_update": true,
            "description_tooltip": null,
            "_model_module": "@jupyter-widgets/controls",
            "layout": "IPY_MODEL_6eafffbbd8d048d5a86d8bbfee83b306"
          }
        },
        "d107d6ba74ab477b852f2d8a8533c178": {
          "model_module": "@jupyter-widgets/controls",
          "model_name": "DescriptionStyleModel",
          "state": {
            "_view_name": "StyleView",
            "_model_name": "DescriptionStyleModel",
            "description_width": "",
            "_view_module": "@jupyter-widgets/base",
            "_model_module_version": "1.5.0",
            "_view_count": null,
            "_view_module_version": "1.2.0",
            "_model_module": "@jupyter-widgets/controls"
          }
        },
        "6eafffbbd8d048d5a86d8bbfee83b306": {
          "model_module": "@jupyter-widgets/base",
          "model_name": "LayoutModel",
          "state": {
            "_view_name": "LayoutView",
            "grid_template_rows": null,
            "right": null,
            "justify_content": null,
            "_view_module": "@jupyter-widgets/base",
            "overflow": null,
            "_model_module_version": "1.2.0",
            "_view_count": null,
            "flex_flow": null,
            "width": "100%",
            "min_width": null,
            "border": null,
            "align_items": null,
            "bottom": null,
            "_model_module": "@jupyter-widgets/base",
            "top": null,
            "grid_column": null,
            "overflow_y": null,
            "overflow_x": null,
            "grid_auto_flow": null,
            "grid_area": null,
            "grid_template_columns": null,
            "flex": null,
            "_model_name": "LayoutModel",
            "justify_items": null,
            "grid_row": null,
            "max_height": null,
            "align_content": null,
            "visibility": null,
            "align_self": null,
            "height": null,
            "min_height": null,
            "padding": null,
            "grid_auto_rows": null,
            "grid_gap": null,
            "max_width": null,
            "order": null,
            "_view_module_version": "1.2.0",
            "grid_template_areas": null,
            "object_position": null,
            "object_fit": null,
            "grid_auto_columns": null,
            "margin": null,
            "display": null,
            "left": null
          }
        },
        "6bf52610750b4d13bb62416de56462a3": {
          "model_module": "@jupyter-widgets/controls",
          "model_name": "IntProgressModel",
          "state": {
            "_view_name": "ProgressView",
            "style": "IPY_MODEL_0f2f5faf73c34798bb8de934a0fcfc12",
            "_dom_classes": [],
            "description": "Processing: ",
            "_model_name": "IntProgressModel",
            "bar_style": "",
            "max": 4,
            "_view_module": "@jupyter-widgets/controls",
            "_model_module_version": "1.5.0",
            "value": 4,
            "_view_count": null,
            "_view_module_version": "1.5.0",
            "orientation": "horizontal",
            "min": 0,
            "description_tooltip": null,
            "_model_module": "@jupyter-widgets/controls",
            "layout": "IPY_MODEL_bd33f94ee5cf4945906ba3d90f32157e"
          }
        },
        "0f2f5faf73c34798bb8de934a0fcfc12": {
          "model_module": "@jupyter-widgets/controls",
          "model_name": "ProgressStyleModel",
          "state": {
            "_view_name": "StyleView",
            "_model_name": "ProgressStyleModel",
            "description_width": "",
            "_view_module": "@jupyter-widgets/base",
            "_model_module_version": "1.5.0",
            "_view_count": null,
            "_view_module_version": "1.2.0",
            "bar_color": null,
            "_model_module": "@jupyter-widgets/controls"
          }
        },
        "bd33f94ee5cf4945906ba3d90f32157e": {
          "model_module": "@jupyter-widgets/base",
          "model_name": "LayoutModel",
          "state": {
            "_view_name": "LayoutView",
            "grid_template_rows": null,
            "right": null,
            "justify_content": null,
            "_view_module": "@jupyter-widgets/base",
            "overflow": null,
            "_model_module_version": "1.2.0",
            "_view_count": null,
            "flex_flow": null,
            "width": null,
            "min_width": null,
            "border": null,
            "align_items": null,
            "bottom": null,
            "_model_module": "@jupyter-widgets/base",
            "top": null,
            "grid_column": null,
            "overflow_y": null,
            "overflow_x": null,
            "grid_auto_flow": null,
            "grid_area": null,
            "grid_template_columns": null,
            "flex": null,
            "_model_name": "LayoutModel",
            "justify_items": null,
            "grid_row": null,
            "max_height": null,
            "align_content": null,
            "visibility": null,
            "align_self": null,
            "height": null,
            "min_height": null,
            "padding": null,
            "grid_auto_rows": null,
            "grid_gap": null,
            "max_width": null,
            "order": null,
            "_view_module_version": "1.2.0",
            "grid_template_areas": null,
            "object_position": null,
            "object_fit": null,
            "grid_auto_columns": null,
            "margin": null,
            "display": null,
            "left": null
          }
        },
        "6178632a2c324f4eaf7f4253d8a4f6b9": {
          "model_module": "@jupyter-widgets/controls",
          "model_name": "IntProgressModel",
          "state": {
            "_view_name": "ProgressView",
            "style": "IPY_MODEL_dd599166251f4e4cbe6b236345d60952",
            "_dom_classes": [],
            "description": "Processing: ",
            "_model_name": "IntProgressModel",
            "bar_style": "",
            "max": 4,
            "_view_module": "@jupyter-widgets/controls",
            "_model_module_version": "1.5.0",
            "value": 4,
            "_view_count": null,
            "_view_module_version": "1.5.0",
            "orientation": "horizontal",
            "min": 0,
            "description_tooltip": null,
            "_model_module": "@jupyter-widgets/controls",
            "layout": "IPY_MODEL_91d9dfefcfdb4490b6c2154f18f37ca4"
          }
        },
        "dd599166251f4e4cbe6b236345d60952": {
          "model_module": "@jupyter-widgets/controls",
          "model_name": "ProgressStyleModel",
          "state": {
            "_view_name": "StyleView",
            "_model_name": "ProgressStyleModel",
            "description_width": "",
            "_view_module": "@jupyter-widgets/base",
            "_model_module_version": "1.5.0",
            "_view_count": null,
            "_view_module_version": "1.2.0",
            "bar_color": null,
            "_model_module": "@jupyter-widgets/controls"
          }
        },
        "91d9dfefcfdb4490b6c2154f18f37ca4": {
          "model_module": "@jupyter-widgets/base",
          "model_name": "LayoutModel",
          "state": {
            "_view_name": "LayoutView",
            "grid_template_rows": null,
            "right": null,
            "justify_content": null,
            "_view_module": "@jupyter-widgets/base",
            "overflow": null,
            "_model_module_version": "1.2.0",
            "_view_count": null,
            "flex_flow": null,
            "width": null,
            "min_width": null,
            "border": null,
            "align_items": null,
            "bottom": null,
            "_model_module": "@jupyter-widgets/base",
            "top": null,
            "grid_column": null,
            "overflow_y": null,
            "overflow_x": null,
            "grid_auto_flow": null,
            "grid_area": null,
            "grid_template_columns": null,
            "flex": null,
            "_model_name": "LayoutModel",
            "justify_items": null,
            "grid_row": null,
            "max_height": null,
            "align_content": null,
            "visibility": null,
            "align_self": null,
            "height": null,
            "min_height": null,
            "padding": null,
            "grid_auto_rows": null,
            "grid_gap": null,
            "max_width": null,
            "order": null,
            "_view_module_version": "1.2.0",
            "grid_template_areas": null,
            "object_position": null,
            "object_fit": null,
            "grid_auto_columns": null,
            "margin": null,
            "display": null,
            "left": null
          }
        },
        "eefd39af256146d990b55b99be697d89": {
          "model_module": "@jupyter-widgets/controls",
          "model_name": "IntProgressModel",
          "state": {
            "_view_name": "ProgressView",
            "style": "IPY_MODEL_b582f8826d5445eaa854f5a273c87e4a",
            "_dom_classes": [],
            "description": "Processing: ",
            "_model_name": "IntProgressModel",
            "bar_style": "",
            "max": 5,
            "_view_module": "@jupyter-widgets/controls",
            "_model_module_version": "1.5.0",
            "value": 5,
            "_view_count": null,
            "_view_module_version": "1.5.0",
            "orientation": "horizontal",
            "min": 0,
            "description_tooltip": null,
            "_model_module": "@jupyter-widgets/controls",
            "layout": "IPY_MODEL_930d8ae7e8a849ab91a5b9f851305c2f"
          }
        },
        "b582f8826d5445eaa854f5a273c87e4a": {
          "model_module": "@jupyter-widgets/controls",
          "model_name": "ProgressStyleModel",
          "state": {
            "_view_name": "StyleView",
            "_model_name": "ProgressStyleModel",
            "description_width": "",
            "_view_module": "@jupyter-widgets/base",
            "_model_module_version": "1.5.0",
            "_view_count": null,
            "_view_module_version": "1.2.0",
            "bar_color": null,
            "_model_module": "@jupyter-widgets/controls"
          }
        },
        "930d8ae7e8a849ab91a5b9f851305c2f": {
          "model_module": "@jupyter-widgets/base",
          "model_name": "LayoutModel",
          "state": {
            "_view_name": "LayoutView",
            "grid_template_rows": null,
            "right": null,
            "justify_content": null,
            "_view_module": "@jupyter-widgets/base",
            "overflow": null,
            "_model_module_version": "1.2.0",
            "_view_count": null,
            "flex_flow": null,
            "width": null,
            "min_width": null,
            "border": null,
            "align_items": null,
            "bottom": null,
            "_model_module": "@jupyter-widgets/base",
            "top": null,
            "grid_column": null,
            "overflow_y": null,
            "overflow_x": null,
            "grid_auto_flow": null,
            "grid_area": null,
            "grid_template_columns": null,
            "flex": null,
            "_model_name": "LayoutModel",
            "justify_items": null,
            "grid_row": null,
            "max_height": null,
            "align_content": null,
            "visibility": null,
            "align_self": null,
            "height": null,
            "min_height": null,
            "padding": null,
            "grid_auto_rows": null,
            "grid_gap": null,
            "max_width": null,
            "order": null,
            "_view_module_version": "1.2.0",
            "grid_template_areas": null,
            "object_position": null,
            "object_fit": null,
            "grid_auto_columns": null,
            "margin": null,
            "display": null,
            "left": null
          }
        },
        "09a5bd8d47df4faf9f77b93591682561": {
          "model_module": "@jupyter-widgets/controls",
          "model_name": "IntProgressModel",
          "state": {
            "_view_name": "ProgressView",
            "style": "IPY_MODEL_e895f66e3e3f428592038be2354bdbd0",
            "_dom_classes": [],
            "description": "Processing: ",
            "_model_name": "IntProgressModel",
            "bar_style": "",
            "max": 7,
            "_view_module": "@jupyter-widgets/controls",
            "_model_module_version": "1.5.0",
            "value": 7,
            "_view_count": null,
            "_view_module_version": "1.5.0",
            "orientation": "horizontal",
            "min": 0,
            "description_tooltip": null,
            "_model_module": "@jupyter-widgets/controls",
            "layout": "IPY_MODEL_56e2a508ed9e47e3bb5879eb8a5b5862"
          }
        },
        "e895f66e3e3f428592038be2354bdbd0": {
          "model_module": "@jupyter-widgets/controls",
          "model_name": "ProgressStyleModel",
          "state": {
            "_view_name": "StyleView",
            "_model_name": "ProgressStyleModel",
            "description_width": "",
            "_view_module": "@jupyter-widgets/base",
            "_model_module_version": "1.5.0",
            "_view_count": null,
            "_view_module_version": "1.2.0",
            "bar_color": null,
            "_model_module": "@jupyter-widgets/controls"
          }
        },
        "56e2a508ed9e47e3bb5879eb8a5b5862": {
          "model_module": "@jupyter-widgets/base",
          "model_name": "LayoutModel",
          "state": {
            "_view_name": "LayoutView",
            "grid_template_rows": null,
            "right": null,
            "justify_content": null,
            "_view_module": "@jupyter-widgets/base",
            "overflow": null,
            "_model_module_version": "1.2.0",
            "_view_count": null,
            "flex_flow": null,
            "width": null,
            "min_width": null,
            "border": null,
            "align_items": null,
            "bottom": null,
            "_model_module": "@jupyter-widgets/base",
            "top": null,
            "grid_column": null,
            "overflow_y": null,
            "overflow_x": null,
            "grid_auto_flow": null,
            "grid_area": null,
            "grid_template_columns": null,
            "flex": null,
            "_model_name": "LayoutModel",
            "justify_items": null,
            "grid_row": null,
            "max_height": null,
            "align_content": null,
            "visibility": null,
            "align_self": null,
            "height": null,
            "min_height": null,
            "padding": null,
            "grid_auto_rows": null,
            "grid_gap": null,
            "max_width": null,
            "order": null,
            "_view_module_version": "1.2.0",
            "grid_template_areas": null,
            "object_position": null,
            "object_fit": null,
            "grid_auto_columns": null,
            "margin": null,
            "display": null,
            "left": null
          }
        },
        "8d63a00045514a69867c748b004b791b": {
          "model_module": "@jupyter-widgets/controls",
          "model_name": "IntProgressModel",
          "state": {
            "_view_name": "ProgressView",
            "style": "IPY_MODEL_baefe0eec87941e5852951e9f77d5226",
            "_dom_classes": [],
            "description": "Processing: ",
            "_model_name": "IntProgressModel",
            "bar_style": "",
            "max": 7,
            "_view_module": "@jupyter-widgets/controls",
            "_model_module_version": "1.5.0",
            "value": 7,
            "_view_count": null,
            "_view_module_version": "1.5.0",
            "orientation": "horizontal",
            "min": 0,
            "description_tooltip": null,
            "_model_module": "@jupyter-widgets/controls",
            "layout": "IPY_MODEL_535ce7e3ea1e486cba3d491eebf21a98"
          }
        },
        "baefe0eec87941e5852951e9f77d5226": {
          "model_module": "@jupyter-widgets/controls",
          "model_name": "ProgressStyleModel",
          "state": {
            "_view_name": "StyleView",
            "_model_name": "ProgressStyleModel",
            "description_width": "",
            "_view_module": "@jupyter-widgets/base",
            "_model_module_version": "1.5.0",
            "_view_count": null,
            "_view_module_version": "1.2.0",
            "bar_color": null,
            "_model_module": "@jupyter-widgets/controls"
          }
        },
        "535ce7e3ea1e486cba3d491eebf21a98": {
          "model_module": "@jupyter-widgets/base",
          "model_name": "LayoutModel",
          "state": {
            "_view_name": "LayoutView",
            "grid_template_rows": null,
            "right": null,
            "justify_content": null,
            "_view_module": "@jupyter-widgets/base",
            "overflow": null,
            "_model_module_version": "1.2.0",
            "_view_count": null,
            "flex_flow": null,
            "width": null,
            "min_width": null,
            "border": null,
            "align_items": null,
            "bottom": null,
            "_model_module": "@jupyter-widgets/base",
            "top": null,
            "grid_column": null,
            "overflow_y": null,
            "overflow_x": null,
            "grid_auto_flow": null,
            "grid_area": null,
            "grid_template_columns": null,
            "flex": null,
            "_model_name": "LayoutModel",
            "justify_items": null,
            "grid_row": null,
            "max_height": null,
            "align_content": null,
            "visibility": null,
            "align_self": null,
            "height": null,
            "min_height": null,
            "padding": null,
            "grid_auto_rows": null,
            "grid_gap": null,
            "max_width": null,
            "order": null,
            "_view_module_version": "1.2.0",
            "grid_template_areas": null,
            "object_position": null,
            "object_fit": null,
            "grid_auto_columns": null,
            "margin": null,
            "display": null,
            "left": null
          }
        },
        "9324d6fc8a9a42bd90ef851839c3a2dd": {
          "model_module": "@jupyter-widgets/controls",
          "model_name": "IntProgressModel",
          "state": {
            "_view_name": "ProgressView",
            "style": "IPY_MODEL_54bfe4d42d584a2f8155b2087274ae49",
            "_dom_classes": [],
            "description": "Processing: ",
            "_model_name": "IntProgressModel",
            "bar_style": "",
            "max": 79,
            "_view_module": "@jupyter-widgets/controls",
            "_model_module_version": "1.5.0",
            "value": 79,
            "_view_count": null,
            "_view_module_version": "1.5.0",
            "orientation": "horizontal",
            "min": 0,
            "description_tooltip": null,
            "_model_module": "@jupyter-widgets/controls",
            "layout": "IPY_MODEL_15940e7101424401b7d5eff97479c0de"
          }
        },
        "54bfe4d42d584a2f8155b2087274ae49": {
          "model_module": "@jupyter-widgets/controls",
          "model_name": "ProgressStyleModel",
          "state": {
            "_view_name": "StyleView",
            "_model_name": "ProgressStyleModel",
            "description_width": "",
            "_view_module": "@jupyter-widgets/base",
            "_model_module_version": "1.5.0",
            "_view_count": null,
            "_view_module_version": "1.2.0",
            "bar_color": null,
            "_model_module": "@jupyter-widgets/controls"
          }
        },
        "15940e7101424401b7d5eff97479c0de": {
          "model_module": "@jupyter-widgets/base",
          "model_name": "LayoutModel",
          "state": {
            "_view_name": "LayoutView",
            "grid_template_rows": null,
            "right": null,
            "justify_content": null,
            "_view_module": "@jupyter-widgets/base",
            "overflow": null,
            "_model_module_version": "1.2.0",
            "_view_count": null,
            "flex_flow": null,
            "width": null,
            "min_width": null,
            "border": null,
            "align_items": null,
            "bottom": null,
            "_model_module": "@jupyter-widgets/base",
            "top": null,
            "grid_column": null,
            "overflow_y": null,
            "overflow_x": null,
            "grid_auto_flow": null,
            "grid_area": null,
            "grid_template_columns": null,
            "flex": null,
            "_model_name": "LayoutModel",
            "justify_items": null,
            "grid_row": null,
            "max_height": null,
            "align_content": null,
            "visibility": null,
            "align_self": null,
            "height": null,
            "min_height": null,
            "padding": null,
            "grid_auto_rows": null,
            "grid_gap": null,
            "max_width": null,
            "order": null,
            "_view_module_version": "1.2.0",
            "grid_template_areas": null,
            "object_position": null,
            "object_fit": null,
            "grid_auto_columns": null,
            "margin": null,
            "display": null,
            "left": null
          }
        }
      }
    }
  },
  "cells": [
    {
      "cell_type": "markdown",
      "metadata": {
        "id": "TSQTn-8xqh3Q"
      },
      "source": [
        "# Loading Dataset and Importing library"
      ]
    },
    {
      "cell_type": "code",
      "metadata": {
        "id": "VfBMMM0wQ2p1",
        "colab": {
          "base_uri": "https://localhost:8080/"
        },
        "outputId": "40e554aa-7db7-4616-e170-4c3ca90cffe4"
      },
      "source": [
        "!pip install pycaret"
      ],
      "execution_count": null,
      "outputs": [
        {
          "output_type": "stream",
          "text": [
            "Collecting pycaret\n",
            "\u001b[?25l  Downloading https://files.pythonhosted.org/packages/da/99/18f151991b0f06107af9723417c64e304ae2133587f85ea734a90136b4ae/pycaret-2.3.1-py3-none-any.whl (261kB)\n",
            "\u001b[K     |████████████████████████████████| 266kB 7.4MB/s \n",
            "\u001b[?25hCollecting lightgbm>=2.3.1\n",
            "\u001b[?25l  Downloading https://files.pythonhosted.org/packages/18/b2/fff8370f48549ce223f929fe8cab4ee6bf285a41f86037d91312b48ed95b/lightgbm-3.2.1-py3-none-manylinux1_x86_64.whl (2.0MB)\n",
            "\u001b[K     |████████████████████████████████| 2.0MB 14.6MB/s \n",
            "\u001b[?25hRequirement already satisfied: IPython in /usr/local/lib/python3.7/dist-packages (from pycaret) (5.5.0)\n",
            "Collecting mlxtend>=0.17.0\n",
            "\u001b[?25l  Downloading https://files.pythonhosted.org/packages/86/30/781c0b962a70848db83339567ecab656638c62f05adb064cb33c0ae49244/mlxtend-0.18.0-py2.py3-none-any.whl (1.3MB)\n",
            "\u001b[K     |████████████████████████████████| 1.4MB 33.1MB/s \n",
            "\u001b[?25hRequirement already satisfied: gensim<4.0.0 in /usr/local/lib/python3.7/dist-packages (from pycaret) (3.6.0)\n",
            "Requirement already satisfied: spacy<2.4.0 in /usr/local/lib/python3.7/dist-packages (from pycaret) (2.2.4)\n",
            "Requirement already satisfied: textblob in /usr/local/lib/python3.7/dist-packages (from pycaret) (0.15.3)\n",
            "Requirement already satisfied: cufflinks>=0.17.0 in /usr/local/lib/python3.7/dist-packages (from pycaret) (0.17.3)\n",
            "Collecting umap-learn\n",
            "\u001b[?25l  Downloading https://files.pythonhosted.org/packages/75/69/85e7f950bb75792ad5d666d86c5f3e62eedbb942848e7e3126513af9999c/umap-learn-0.5.1.tar.gz (80kB)\n",
            "\u001b[K     |████████████████████████████████| 81kB 8.5MB/s \n",
            "\u001b[?25hCollecting scikit-learn==0.23.2\n",
            "\u001b[?25l  Downloading https://files.pythonhosted.org/packages/f4/cb/64623369f348e9bfb29ff898a57ac7c91ed4921f228e9726546614d63ccb/scikit_learn-0.23.2-cp37-cp37m-manylinux1_x86_64.whl (6.8MB)\n",
            "\u001b[K     |████████████████████████████████| 6.8MB 31.2MB/s \n",
            "\u001b[?25hCollecting Boruta\n",
            "\u001b[?25l  Downloading https://files.pythonhosted.org/packages/b2/11/583f4eac99d802c79af9217e1eff56027742a69e6c866b295cce6a5a8fc2/Boruta-0.3-py3-none-any.whl (56kB)\n",
            "\u001b[K     |████████████████████████████████| 61kB 7.7MB/s \n",
            "\u001b[?25hCollecting pyod\n",
            "\u001b[?25l  Downloading https://files.pythonhosted.org/packages/81/dd/1cef53031ad8926df628e78d7cc9d57bb2aee62bc2f66215b2bef4deae64/pyod-0.8.9.tar.gz (104kB)\n",
            "\u001b[K     |████████████████████████████████| 112kB 51.0MB/s \n",
            "\u001b[?25hCollecting scikit-plot\n",
            "  Downloading https://files.pythonhosted.org/packages/7c/47/32520e259340c140a4ad27c1b97050dd3254fdc517b1d59974d47037510e/scikit_plot-0.3.7-py3-none-any.whl\n",
            "Requirement already satisfied: scipy<=1.5.4 in /usr/local/lib/python3.7/dist-packages (from pycaret) (1.4.1)\n",
            "Requirement already satisfied: wordcloud in /usr/local/lib/python3.7/dist-packages (from pycaret) (1.5.0)\n",
            "Collecting kmodes>=0.10.1\n",
            "  Downloading https://files.pythonhosted.org/packages/9b/34/fffc601aa4d44b94e945a7cc72f477e09dffa7dce888898f2ffd9f4e343e/kmodes-0.11.0-py2.py3-none-any.whl\n",
            "Collecting mlflow\n",
            "\u001b[?25l  Downloading https://files.pythonhosted.org/packages/78/95/66f2e43a3662b27409fdce1775e1fbe8fdb5557140467d9e6654a87cc22e/mlflow-1.17.0-py3-none-any.whl (14.2MB)\n",
            "\u001b[K     |████████████████████████████████| 14.2MB 221kB/s \n",
            "\u001b[?25hRequirement already satisfied: matplotlib in /usr/local/lib/python3.7/dist-packages (from pycaret) (3.2.2)\n",
            "Requirement already satisfied: nltk in /usr/local/lib/python3.7/dist-packages (from pycaret) (3.2.5)\n",
            "Collecting pyLDAvis\n",
            "\u001b[?25l  Downloading https://files.pythonhosted.org/packages/03/a5/15a0da6b0150b8b68610cc78af80364a80a9a4c8b6dd5ee549b8989d4b60/pyLDAvis-3.3.1.tar.gz (1.7MB)\n",
            "\u001b[K     |████████████████████████████████| 1.7MB 25.6MB/s \n",
            "\u001b[?25h  Installing build dependencies ... \u001b[?25l\u001b[?25hdone\n",
            "  Getting requirements to build wheel ... \u001b[?25l\u001b[?25hdone\n",
            "  Installing backend dependencies ... \u001b[?25l\u001b[?25hdone\n",
            "    Preparing wheel metadata ... \u001b[?25l\u001b[?25hdone\n",
            "Requirement already satisfied: ipywidgets in /usr/local/lib/python3.7/dist-packages (from pycaret) (7.6.3)\n",
            "Requirement already satisfied: plotly>=4.4.1 in /usr/local/lib/python3.7/dist-packages (from pycaret) (4.4.1)\n",
            "Collecting imbalanced-learn==0.7.0\n",
            "\u001b[?25l  Downloading https://files.pythonhosted.org/packages/c8/81/8db4d87b03b998fda7c6f835d807c9ae4e3b141f978597b8d7f31600be15/imbalanced_learn-0.7.0-py3-none-any.whl (167kB)\n",
            "\u001b[K     |████████████████████████████████| 174kB 41.6MB/s \n",
            "\u001b[?25hRequirement already satisfied: joblib in /usr/local/lib/python3.7/dist-packages (from pycaret) (1.0.1)\n",
            "Collecting pandas-profiling>=2.8.0\n",
            "\u001b[?25l  Downloading https://files.pythonhosted.org/packages/3b/a3/34519d16e5ebe69bad30c5526deea2c3912634ced7f9b5e6e0bb9dbbd567/pandas_profiling-3.0.0-py2.py3-none-any.whl (248kB)\n",
            "\u001b[K     |████████████████████████████████| 256kB 40.0MB/s \n",
            "\u001b[?25hRequirement already satisfied: pandas in /usr/local/lib/python3.7/dist-packages (from pycaret) (1.1.5)\n",
            "Collecting yellowbrick>=1.0.1\n",
            "\u001b[?25l  Downloading https://files.pythonhosted.org/packages/3a/15/58feb940b6a2f52d3335cccf9e5d00704ec5ba62782da83f7e2abeca5e4b/yellowbrick-1.3.post1-py3-none-any.whl (271kB)\n",
            "\u001b[K     |████████████████████████████████| 276kB 40.1MB/s \n",
            "\u001b[?25hRequirement already satisfied: numpy==1.19.5 in /usr/local/lib/python3.7/dist-packages (from pycaret) (1.19.5)\n",
            "Requirement already satisfied: seaborn in /usr/local/lib/python3.7/dist-packages (from pycaret) (0.11.1)\n",
            "Requirement already satisfied: wheel in /usr/local/lib/python3.7/dist-packages (from lightgbm>=2.3.1->pycaret) (0.36.2)\n",
            "Requirement already satisfied: prompt-toolkit<2.0.0,>=1.0.4 in /usr/local/lib/python3.7/dist-packages (from IPython->pycaret) (1.0.18)\n",
            "Requirement already satisfied: traitlets>=4.2 in /usr/local/lib/python3.7/dist-packages (from IPython->pycaret) (5.0.5)\n",
            "Requirement already satisfied: simplegeneric>0.8 in /usr/local/lib/python3.7/dist-packages (from IPython->pycaret) (0.8.1)\n",
            "Requirement already satisfied: pexpect; sys_platform != \"win32\" in /usr/local/lib/python3.7/dist-packages (from IPython->pycaret) (4.8.0)\n",
            "Requirement already satisfied: pickleshare in /usr/local/lib/python3.7/dist-packages (from IPython->pycaret) (0.7.5)\n",
            "Requirement already satisfied: setuptools>=18.5 in /usr/local/lib/python3.7/dist-packages (from IPython->pycaret) (57.0.0)\n",
            "Requirement already satisfied: pygments in /usr/local/lib/python3.7/dist-packages (from IPython->pycaret) (2.6.1)\n",
            "Requirement already satisfied: decorator in /usr/local/lib/python3.7/dist-packages (from IPython->pycaret) (4.4.2)\n",
            "Requirement already satisfied: six>=1.5.0 in /usr/local/lib/python3.7/dist-packages (from gensim<4.0.0->pycaret) (1.15.0)\n",
            "Requirement already satisfied: smart-open>=1.2.1 in /usr/local/lib/python3.7/dist-packages (from gensim<4.0.0->pycaret) (5.1.0)\n",
            "Requirement already satisfied: wasabi<1.1.0,>=0.4.0 in /usr/local/lib/python3.7/dist-packages (from spacy<2.4.0->pycaret) (0.8.2)\n",
            "Requirement already satisfied: thinc==7.4.0 in /usr/local/lib/python3.7/dist-packages (from spacy<2.4.0->pycaret) (7.4.0)\n",
            "Requirement already satisfied: requests<3.0.0,>=2.13.0 in /usr/local/lib/python3.7/dist-packages (from spacy<2.4.0->pycaret) (2.23.0)\n",
            "Requirement already satisfied: murmurhash<1.1.0,>=0.28.0 in /usr/local/lib/python3.7/dist-packages (from spacy<2.4.0->pycaret) (1.0.5)\n",
            "Requirement already satisfied: srsly<1.1.0,>=1.0.2 in /usr/local/lib/python3.7/dist-packages (from spacy<2.4.0->pycaret) (1.0.5)\n",
            "Requirement already satisfied: cymem<2.1.0,>=2.0.2 in /usr/local/lib/python3.7/dist-packages (from spacy<2.4.0->pycaret) (2.0.5)\n",
            "Requirement already satisfied: blis<0.5.0,>=0.4.0 in /usr/local/lib/python3.7/dist-packages (from spacy<2.4.0->pycaret) (0.4.1)\n",
            "Requirement already satisfied: preshed<3.1.0,>=3.0.2 in /usr/local/lib/python3.7/dist-packages (from spacy<2.4.0->pycaret) (3.0.5)\n",
            "Requirement already satisfied: plac<1.2.0,>=0.9.6 in /usr/local/lib/python3.7/dist-packages (from spacy<2.4.0->pycaret) (1.1.3)\n",
            "Requirement already satisfied: tqdm<5.0.0,>=4.38.0 in /usr/local/lib/python3.7/dist-packages (from spacy<2.4.0->pycaret) (4.41.1)\n",
            "Requirement already satisfied: catalogue<1.1.0,>=0.0.7 in /usr/local/lib/python3.7/dist-packages (from spacy<2.4.0->pycaret) (1.0.0)\n",
            "Requirement already satisfied: colorlover>=0.2.1 in /usr/local/lib/python3.7/dist-packages (from cufflinks>=0.17.0->pycaret) (0.3.0)\n",
            "Requirement already satisfied: numba>=0.49 in /usr/local/lib/python3.7/dist-packages (from umap-learn->pycaret) (0.51.2)\n",
            "Collecting pynndescent>=0.5\n",
            "\u001b[?25l  Downloading https://files.pythonhosted.org/packages/af/65/8189298dd3a05bbad716ee8e249764ff8800e365d8dc652ad2192ca01b4a/pynndescent-0.5.2.tar.gz (1.1MB)\n",
            "\u001b[K     |████████████████████████████████| 1.2MB 23.0MB/s \n",
            "\u001b[?25hCollecting threadpoolctl>=2.0.0\n",
            "  Downloading https://files.pythonhosted.org/packages/f7/12/ec3f2e203afa394a149911729357aa48affc59c20e2c1c8297a60f33f133/threadpoolctl-2.1.0-py3-none-any.whl\n",
            "Requirement already satisfied: statsmodels in /usr/local/lib/python3.7/dist-packages (from pyod->pycaret) (0.10.2)\n",
            "Requirement already satisfied: pillow in /usr/local/lib/python3.7/dist-packages (from wordcloud->pycaret) (7.1.2)\n",
            "Requirement already satisfied: cloudpickle in /usr/local/lib/python3.7/dist-packages (from mlflow->pycaret) (1.3.0)\n",
            "Collecting querystring-parser\n",
            "  Downloading https://files.pythonhosted.org/packages/88/6b/572b2590fd55114118bf08bde63c0a421dcc82d593700f3e2ad89908a8a9/querystring_parser-1.2.4-py2.py3-none-any.whl\n",
            "Collecting prometheus-flask-exporter\n",
            "  Downloading https://files.pythonhosted.org/packages/f3/c1/2cc385fadf18dc75fe24c18899269eda4dcc60221d61eff7da4a6cc5c01d/prometheus_flask_exporter-0.18.2.tar.gz\n",
            "Requirement already satisfied: Flask in /usr/local/lib/python3.7/dist-packages (from mlflow->pycaret) (1.1.4)\n",
            "Collecting gunicorn; platform_system != \"Windows\"\n",
            "\u001b[?25l  Downloading https://files.pythonhosted.org/packages/e4/dd/5b190393e6066286773a67dfcc2f9492058e9b57c4867a95f1ba5caf0a83/gunicorn-20.1.0-py3-none-any.whl (79kB)\n",
            "\u001b[K     |████████████████████████████████| 81kB 7.9MB/s \n",
            "\u001b[?25hRequirement already satisfied: entrypoints in /usr/local/lib/python3.7/dist-packages (from mlflow->pycaret) (0.3)\n",
            "Collecting alembic<=1.4.1\n",
            "\u001b[?25l  Downloading https://files.pythonhosted.org/packages/e0/e9/359dbb77c35c419df0aedeb1d53e71e7e3f438ff64a8fdb048c907404de3/alembic-1.4.1.tar.gz (1.1MB)\n",
            "\u001b[K     |████████████████████████████████| 1.1MB 26.5MB/s \n",
            "\u001b[?25hCollecting docker>=4.0.0\n",
            "\u001b[?25l  Downloading https://files.pythonhosted.org/packages/b2/5a/f988909dfed18c1ac42ad8d9e611e6c5657e270aa6eb68559985dbb69c13/docker-5.0.0-py2.py3-none-any.whl (146kB)\n",
            "\u001b[K     |████████████████████████████████| 153kB 42.1MB/s \n",
            "\u001b[?25hCollecting databricks-cli>=0.8.7\n",
            "\u001b[?25l  Downloading https://files.pythonhosted.org/packages/bc/af/631375abc29e59cedfa4467a5f7755503ba19898890751e1f2636ef02f92/databricks-cli-0.14.3.tar.gz (54kB)\n",
            "\u001b[K     |████████████████████████████████| 61kB 7.5MB/s \n",
            "\u001b[?25hRequirement already satisfied: protobuf>=3.6.0 in /usr/local/lib/python3.7/dist-packages (from mlflow->pycaret) (3.12.4)\n",
            "Requirement already satisfied: sqlalchemy in /usr/local/lib/python3.7/dist-packages (from mlflow->pycaret) (1.4.18)\n",
            "Requirement already satisfied: pyyaml in /usr/local/lib/python3.7/dist-packages (from mlflow->pycaret) (3.13)\n",
            "Requirement already satisfied: click>=7.0 in /usr/local/lib/python3.7/dist-packages (from mlflow->pycaret) (7.1.2)\n",
            "Requirement already satisfied: sqlparse>=0.3.1 in /usr/local/lib/python3.7/dist-packages (from mlflow->pycaret) (0.4.1)\n",
            "Requirement already satisfied: pytz in /usr/local/lib/python3.7/dist-packages (from mlflow->pycaret) (2018.9)\n",
            "Collecting gitpython>=2.1.0\n",
            "\u001b[?25l  Downloading https://files.pythonhosted.org/packages/a6/99/98019716955ba243657daedd1de8f3a88ca1f5b75057c38e959db22fb87b/GitPython-3.1.14-py3-none-any.whl (159kB)\n",
            "\u001b[K     |████████████████████████████████| 163kB 42.6MB/s \n",
            "\u001b[?25hRequirement already satisfied: pyparsing!=2.0.4,!=2.1.2,!=2.1.6,>=2.0.1 in /usr/local/lib/python3.7/dist-packages (from matplotlib->pycaret) (2.4.7)\n",
            "Requirement already satisfied: cycler>=0.10 in /usr/local/lib/python3.7/dist-packages (from matplotlib->pycaret) (0.10.0)\n",
            "Requirement already satisfied: python-dateutil>=2.1 in /usr/local/lib/python3.7/dist-packages (from matplotlib->pycaret) (2.8.1)\n",
            "Requirement already satisfied: kiwisolver>=1.0.1 in /usr/local/lib/python3.7/dist-packages (from matplotlib->pycaret) (1.3.1)\n",
            "Collecting funcy\n",
            "  Downloading https://files.pythonhosted.org/packages/44/52/5cf7401456a461e4b481650dfb8279bc000f31a011d0918904f86e755947/funcy-1.16-py2.py3-none-any.whl\n",
            "Requirement already satisfied: future in /usr/local/lib/python3.7/dist-packages (from pyLDAvis->pycaret) (0.16.0)\n",
            "Requirement already satisfied: numexpr in /usr/local/lib/python3.7/dist-packages (from pyLDAvis->pycaret) (2.7.3)\n",
            "Requirement already satisfied: sklearn in /usr/local/lib/python3.7/dist-packages (from pyLDAvis->pycaret) (0.0)\n",
            "Requirement already satisfied: jinja2 in /usr/local/lib/python3.7/dist-packages (from pyLDAvis->pycaret) (2.11.3)\n",
            "Requirement already satisfied: widgetsnbextension~=3.5.0 in /usr/local/lib/python3.7/dist-packages (from ipywidgets->pycaret) (3.5.1)\n",
            "Requirement already satisfied: jupyterlab-widgets>=1.0.0; python_version >= \"3.6\" in /usr/local/lib/python3.7/dist-packages (from ipywidgets->pycaret) (1.0.0)\n",
            "Requirement already satisfied: nbformat>=4.2.0 in /usr/local/lib/python3.7/dist-packages (from ipywidgets->pycaret) (5.1.3)\n",
            "Requirement already satisfied: ipykernel>=4.5.1 in /usr/local/lib/python3.7/dist-packages (from ipywidgets->pycaret) (4.10.1)\n",
            "Requirement already satisfied: retrying>=1.3.3 in /usr/local/lib/python3.7/dist-packages (from plotly>=4.4.1->pycaret) (1.3.3)\n",
            "Collecting htmlmin>=0.1.12\n",
            "  Downloading https://files.pythonhosted.org/packages/b3/e7/fcd59e12169de19f0131ff2812077f964c6b960e7c09804d30a7bf2ab461/htmlmin-0.1.12.tar.gz\n",
            "Collecting visions[type_image_path]==0.7.1\n",
            "\u001b[?25l  Downloading https://files.pythonhosted.org/packages/80/96/01e4ba22cef96ae5035dbcf0451c2f4f859f8f17393b98406b23f0034279/visions-0.7.1-py3-none-any.whl (102kB)\n",
            "\u001b[K     |████████████████████████████████| 112kB 39.0MB/s \n",
            "\u001b[?25hRequirement already satisfied: missingno>=0.4.2 in /usr/local/lib/python3.7/dist-packages (from pandas-profiling>=2.8.0->pycaret) (0.4.2)\n",
            "Collecting phik>=0.11.1\n",
            "\u001b[?25l  Downloading https://files.pythonhosted.org/packages/b7/ce/193e8ddf62d4be643b9b4b20e8e9c63b2f6a20f92778c0410c629f89bdaa/phik-0.11.2.tar.gz (1.1MB)\n",
            "\u001b[K     |████████████████████████████████| 1.1MB 26.3MB/s \n",
            "\u001b[?25hCollecting tangled-up-in-unicode==0.1.0\n",
            "\u001b[?25l  Downloading https://files.pythonhosted.org/packages/93/3e/cb354fb2097fcf2fd5b5a342b10ae2a6e9363ba435b64e3e00c414064bc7/tangled_up_in_unicode-0.1.0-py3-none-any.whl (3.1MB)\n",
            "\u001b[K     |████████████████████████████████| 3.1MB 23.9MB/s \n",
            "\u001b[?25hCollecting pydantic>=1.8.1\n",
            "\u001b[?25l  Downloading https://files.pythonhosted.org/packages/9f/f2/2d5425efe57f6c4e06cbe5e587c1fd16929dcf0eb90bd4d3d1e1c97d1151/pydantic-1.8.2-cp37-cp37m-manylinux2014_x86_64.whl (10.1MB)\n",
            "\u001b[K     |████████████████████████████████| 10.1MB 25.1MB/s \n",
            "\u001b[?25hRequirement already satisfied: wcwidth in /usr/local/lib/python3.7/dist-packages (from prompt-toolkit<2.0.0,>=1.0.4->IPython->pycaret) (0.2.5)\n",
            "Requirement already satisfied: ipython-genutils in /usr/local/lib/python3.7/dist-packages (from traitlets>=4.2->IPython->pycaret) (0.2.0)\n",
            "Requirement already satisfied: ptyprocess>=0.5 in /usr/local/lib/python3.7/dist-packages (from pexpect; sys_platform != \"win32\"->IPython->pycaret) (0.7.0)\n",
            "Requirement already satisfied: urllib3!=1.25.0,!=1.25.1,<1.26,>=1.21.1 in /usr/local/lib/python3.7/dist-packages (from requests<3.0.0,>=2.13.0->spacy<2.4.0->pycaret) (1.24.3)\n",
            "Requirement already satisfied: chardet<4,>=3.0.2 in /usr/local/lib/python3.7/dist-packages (from requests<3.0.0,>=2.13.0->spacy<2.4.0->pycaret) (3.0.4)\n",
            "Requirement already satisfied: idna<3,>=2.5 in /usr/local/lib/python3.7/dist-packages (from requests<3.0.0,>=2.13.0->spacy<2.4.0->pycaret) (2.10)\n",
            "Requirement already satisfied: certifi>=2017.4.17 in /usr/local/lib/python3.7/dist-packages (from requests<3.0.0,>=2.13.0->spacy<2.4.0->pycaret) (2021.5.30)\n",
            "Requirement already satisfied: importlib-metadata>=0.20; python_version < \"3.8\" in /usr/local/lib/python3.7/dist-packages (from catalogue<1.1.0,>=0.0.7->spacy<2.4.0->pycaret) (4.5.0)\n",
            "Requirement already satisfied: llvmlite<0.35,>=0.34.0.dev0 in /usr/local/lib/python3.7/dist-packages (from numba>=0.49->umap-learn->pycaret) (0.34.0)\n",
            "Requirement already satisfied: patsy>=0.4.0 in /usr/local/lib/python3.7/dist-packages (from statsmodels->pyod->pycaret) (0.5.1)\n",
            "Requirement already satisfied: prometheus_client in /usr/local/lib/python3.7/dist-packages (from prometheus-flask-exporter->mlflow->pycaret) (0.11.0)\n",
            "Requirement already satisfied: itsdangerous<2.0,>=0.24 in /usr/local/lib/python3.7/dist-packages (from Flask->mlflow->pycaret) (1.1.0)\n",
            "Requirement already satisfied: Werkzeug<2.0,>=0.15 in /usr/local/lib/python3.7/dist-packages (from Flask->mlflow->pycaret) (1.0.1)\n",
            "Collecting Mako\n",
            "\u001b[?25l  Downloading https://files.pythonhosted.org/packages/f3/54/dbc07fbb20865d3b78fdb7cf7fa713e2cba4f87f71100074ef2dc9f9d1f7/Mako-1.1.4-py2.py3-none-any.whl (75kB)\n",
            "\u001b[K     |████████████████████████████████| 81kB 9.3MB/s \n",
            "\u001b[?25hCollecting python-editor>=0.3\n",
            "  Downloading https://files.pythonhosted.org/packages/c6/d3/201fc3abe391bbae6606e6f1d598c15d367033332bd54352b12f35513717/python_editor-1.0.4-py3-none-any.whl\n",
            "Collecting websocket-client>=0.32.0\n",
            "\u001b[?25l  Downloading https://files.pythonhosted.org/packages/ca/5f/3c211d168b2e9f9342cfb53bcfc26aab0eac63b998015e7af7bcae66119d/websocket_client-1.1.0-py2.py3-none-any.whl (68kB)\n",
            "\u001b[K     |████████████████████████████████| 71kB 8.3MB/s \n",
            "\u001b[?25hRequirement already satisfied: tabulate>=0.7.7 in /usr/local/lib/python3.7/dist-packages (from databricks-cli>=0.8.7->mlflow->pycaret) (0.8.9)\n",
            "Requirement already satisfied: greenlet!=0.4.17; python_version >= \"3\" in /usr/local/lib/python3.7/dist-packages (from sqlalchemy->mlflow->pycaret) (1.1.0)\n",
            "Collecting gitdb<5,>=4.0.1\n",
            "\u001b[?25l  Downloading https://files.pythonhosted.org/packages/ea/e8/f414d1a4f0bbc668ed441f74f44c116d9816833a48bf81d22b697090dba8/gitdb-4.0.7-py3-none-any.whl (63kB)\n",
            "\u001b[K     |████████████████████████████████| 71kB 8.2MB/s \n",
            "\u001b[?25hRequirement already satisfied: MarkupSafe>=0.23 in /usr/local/lib/python3.7/dist-packages (from jinja2->pyLDAvis->pycaret) (2.0.1)\n",
            "Requirement already satisfied: notebook>=4.4.1 in /usr/local/lib/python3.7/dist-packages (from widgetsnbextension~=3.5.0->ipywidgets->pycaret) (5.3.1)\n",
            "Requirement already satisfied: jupyter-core in /usr/local/lib/python3.7/dist-packages (from nbformat>=4.2.0->ipywidgets->pycaret) (4.7.1)\n",
            "Requirement already satisfied: jsonschema!=2.5.0,>=2.4 in /usr/local/lib/python3.7/dist-packages (from nbformat>=4.2.0->ipywidgets->pycaret) (2.6.0)\n",
            "Requirement already satisfied: jupyter-client in /usr/local/lib/python3.7/dist-packages (from ipykernel>=4.5.1->ipywidgets->pycaret) (5.3.5)\n",
            "Requirement already satisfied: tornado>=4.0 in /usr/local/lib/python3.7/dist-packages (from ipykernel>=4.5.1->ipywidgets->pycaret) (5.1.1)\n",
            "Requirement already satisfied: networkx>=2.4 in /usr/local/lib/python3.7/dist-packages (from visions[type_image_path]==0.7.1->pandas-profiling>=2.8.0->pycaret) (2.5.1)\n",
            "Requirement already satisfied: attrs>=19.3.0 in /usr/local/lib/python3.7/dist-packages (from visions[type_image_path]==0.7.1->pandas-profiling>=2.8.0->pycaret) (21.2.0)\n",
            "Requirement already satisfied: bottleneck in /usr/local/lib/python3.7/dist-packages (from visions[type_image_path]==0.7.1->pandas-profiling>=2.8.0->pycaret) (1.3.2)\n",
            "Collecting multimethod==1.4\n",
            "  Downloading https://files.pythonhosted.org/packages/7a/d0/ce5ad0392aa12645b7ad91a5983d6b625b704b021d9cd48c587630c1a9ac/multimethod-1.4-py2.py3-none-any.whl\n",
            "Collecting imagehash; extra == \"type_image_path\"\n",
            "\u001b[?25l  Downloading https://files.pythonhosted.org/packages/8e/18/9dbb772b5ef73a3069c66bb5bf29b9fb4dd57af0d5790c781c3f559bcca6/ImageHash-4.2.0-py2.py3-none-any.whl (295kB)\n",
            "\u001b[K     |████████████████████████████████| 296kB 41.1MB/s \n",
            "\u001b[?25hRequirement already satisfied: typing-extensions>=3.7.4.3 in /usr/local/lib/python3.7/dist-packages (from pydantic>=1.8.1->pandas-profiling>=2.8.0->pycaret) (3.7.4.3)\n",
            "Requirement already satisfied: zipp>=0.5 in /usr/local/lib/python3.7/dist-packages (from importlib-metadata>=0.20; python_version < \"3.8\"->catalogue<1.1.0,>=0.0.7->spacy<2.4.0->pycaret) (3.4.1)\n",
            "Collecting smmap<5,>=3.0.1\n",
            "  Downloading https://files.pythonhosted.org/packages/68/ee/d540eb5e5996eb81c26ceffac6ee49041d473bc5125f2aa995cf51ec1cf1/smmap-4.0.0-py2.py3-none-any.whl\n",
            "Requirement already satisfied: Send2Trash in /usr/local/lib/python3.7/dist-packages (from notebook>=4.4.1->widgetsnbextension~=3.5.0->ipywidgets->pycaret) (1.5.0)\n",
            "Requirement already satisfied: terminado>=0.8.1 in /usr/local/lib/python3.7/dist-packages (from notebook>=4.4.1->widgetsnbextension~=3.5.0->ipywidgets->pycaret) (0.10.1)\n",
            "Requirement already satisfied: nbconvert in /usr/local/lib/python3.7/dist-packages (from notebook>=4.4.1->widgetsnbextension~=3.5.0->ipywidgets->pycaret) (5.6.1)\n",
            "Requirement already satisfied: pyzmq>=13 in /usr/local/lib/python3.7/dist-packages (from jupyter-client->ipykernel>=4.5.1->ipywidgets->pycaret) (22.1.0)\n",
            "Requirement already satisfied: PyWavelets in /usr/local/lib/python3.7/dist-packages (from imagehash; extra == \"type_image_path\"->visions[type_image_path]==0.7.1->pandas-profiling>=2.8.0->pycaret) (1.1.1)\n",
            "Requirement already satisfied: mistune<2,>=0.8.1 in /usr/local/lib/python3.7/dist-packages (from nbconvert->notebook>=4.4.1->widgetsnbextension~=3.5.0->ipywidgets->pycaret) (0.8.4)\n",
            "Requirement already satisfied: bleach in /usr/local/lib/python3.7/dist-packages (from nbconvert->notebook>=4.4.1->widgetsnbextension~=3.5.0->ipywidgets->pycaret) (3.3.0)\n",
            "Requirement already satisfied: testpath in /usr/local/lib/python3.7/dist-packages (from nbconvert->notebook>=4.4.1->widgetsnbextension~=3.5.0->ipywidgets->pycaret) (0.5.0)\n",
            "Requirement already satisfied: pandocfilters>=1.4.1 in /usr/local/lib/python3.7/dist-packages (from nbconvert->notebook>=4.4.1->widgetsnbextension~=3.5.0->ipywidgets->pycaret) (1.4.3)\n",
            "Requirement already satisfied: defusedxml in /usr/local/lib/python3.7/dist-packages (from nbconvert->notebook>=4.4.1->widgetsnbextension~=3.5.0->ipywidgets->pycaret) (0.7.1)\n",
            "Requirement already satisfied: webencodings in /usr/local/lib/python3.7/dist-packages (from bleach->nbconvert->notebook>=4.4.1->widgetsnbextension~=3.5.0->ipywidgets->pycaret) (0.5.1)\n",
            "Requirement already satisfied: packaging in /usr/local/lib/python3.7/dist-packages (from bleach->nbconvert->notebook>=4.4.1->widgetsnbextension~=3.5.0->ipywidgets->pycaret) (20.9)\n",
            "Building wheels for collected packages: pyLDAvis\n",
            "  Building wheel for pyLDAvis (PEP 517) ... \u001b[?25l\u001b[?25hdone\n",
            "  Created wheel for pyLDAvis: filename=pyLDAvis-3.3.1-cp37-none-any.whl size=136897 sha256=719754265f1c256151b0c5be5a1d2bf4be441a409e8e5f1e18628e43588ea710\n",
            "  Stored in directory: /root/.cache/pip/wheels/a0/9c/fc/c6e00689d35c82cf96a8adc70edfe7ba7904374fdac3240ac2\n",
            "Successfully built pyLDAvis\n",
            "Building wheels for collected packages: umap-learn, pyod, pynndescent, prometheus-flask-exporter, alembic, databricks-cli, htmlmin, phik\n",
            "  Building wheel for umap-learn (setup.py) ... \u001b[?25l\u001b[?25hdone\n",
            "  Created wheel for umap-learn: filename=umap_learn-0.5.1-cp37-none-any.whl size=76569 sha256=6a7e56eafd0f29a63a716bdb92b51b626d5d93b449513a4076bc5fade566abfb\n",
            "  Stored in directory: /root/.cache/pip/wheels/ad/df/d5/a3691296ff779f25cd1cf415a3af954b987fb53111e3392cf4\n",
            "  Building wheel for pyod (setup.py) ... \u001b[?25l\u001b[?25hdone\n",
            "  Created wheel for pyod: filename=pyod-0.8.9-cp37-none-any.whl size=121413 sha256=8389e76ebe1a42b1afb1bfabf2efc0c8405150fa79b70bbcef6347cfffa17405\n",
            "  Stored in directory: /root/.cache/pip/wheels/9b/31/18/f12932b880f1ce4c181cbe51454ddaaa02665ad7cfc663f639\n",
            "  Building wheel for pynndescent (setup.py) ... \u001b[?25l\u001b[?25hdone\n",
            "  Created wheel for pynndescent: filename=pynndescent-0.5.2-cp37-none-any.whl size=51362 sha256=6d19a6f64c622805b63aed4caa6d1967036c921803e3bd84a9eb469ae7982904\n",
            "  Stored in directory: /root/.cache/pip/wheels/ba/52/4e/4c28d04d144a28f89e2575fb63628df6e6d49b56c5ddd0c74e\n",
            "  Building wheel for prometheus-flask-exporter (setup.py) ... \u001b[?25l\u001b[?25hdone\n",
            "  Created wheel for prometheus-flask-exporter: filename=prometheus_flask_exporter-0.18.2-cp37-none-any.whl size=17415 sha256=0ff0763207b6411d71f39e53d23b8c835fc38e2682ebdf1e797ab8afaa1c9cdb\n",
            "  Stored in directory: /root/.cache/pip/wheels/c0/e2/9c/4f3ee23964802940f81a8b476d0b9be6fb6348cb12df2e2226\n",
            "  Building wheel for alembic (setup.py) ... \u001b[?25l\u001b[?25hdone\n",
            "  Created wheel for alembic: filename=alembic-1.4.1-py2.py3-none-any.whl size=158170 sha256=aea66efae047010ea7f4971632aaa95cc515bbbb619ef7ae7856a4a5d6a5085e\n",
            "  Stored in directory: /root/.cache/pip/wheels/84/07/f7/12f7370ca47a66030c2edeedcc23dec26ea0ac22dcb4c4a0f3\n",
            "  Building wheel for databricks-cli (setup.py) ... \u001b[?25l\u001b[?25hdone\n",
            "  Created wheel for databricks-cli: filename=databricks_cli-0.14.3-cp37-none-any.whl size=100560 sha256=8307a69f02d0ecd0f6522f388f4f1cbe8d30ff277b8ce7ccc6ac526d4ad94580\n",
            "  Stored in directory: /root/.cache/pip/wheels/5b/24/f3/34d8e3964dac4ba849d844273c49a679111b00d5799ebb934a\n",
            "  Building wheel for htmlmin (setup.py) ... \u001b[?25l\u001b[?25hdone\n",
            "  Created wheel for htmlmin: filename=htmlmin-0.1.12-cp37-none-any.whl size=27099 sha256=eff1608094a66c4b72f659da0b7181dd5eb1ed2658db803f21f7b89c9dc66c97\n",
            "  Stored in directory: /root/.cache/pip/wheels/43/07/ac/7c5a9d708d65247ac1f94066cf1db075540b85716c30255459\n",
            "  Building wheel for phik (setup.py) ... \u001b[?25l\u001b[?25hdone\n",
            "  Created wheel for phik: filename=phik-0.11.2-cp37-none-any.whl size=1107437 sha256=e0fc0bafa6d91f412735b0891ac70db6768c5970535eedec897f49114093ba09\n",
            "  Stored in directory: /root/.cache/pip/wheels/c0/a3/b0/f27b1cfe32ea131a3715169132ff6d85653789e80e966c3bf6\n",
            "Successfully built umap-learn pyod pynndescent prometheus-flask-exporter alembic databricks-cli htmlmin phik\n",
            "\u001b[31mERROR: pandas-profiling 3.0.0 has requirement PyYAML>=5.0.0, but you'll have pyyaml 3.13 which is incompatible.\u001b[0m\n",
            "\u001b[31mERROR: pandas-profiling 3.0.0 has requirement requests>=2.24.0, but you'll have requests 2.23.0 which is incompatible.\u001b[0m\n",
            "\u001b[31mERROR: pandas-profiling 3.0.0 has requirement tqdm>=4.48.2, but you'll have tqdm 4.41.1 which is incompatible.\u001b[0m\n",
            "\u001b[31mERROR: pyldavis 3.3.1 has requirement numpy>=1.20.0, but you'll have numpy 1.19.5 which is incompatible.\u001b[0m\n",
            "\u001b[31mERROR: pyldavis 3.3.1 has requirement pandas>=1.2.0, but you'll have pandas 1.1.5 which is incompatible.\u001b[0m\n",
            "\u001b[31mERROR: phik 0.11.2 has requirement scipy>=1.5.2, but you'll have scipy 1.4.1 which is incompatible.\u001b[0m\n",
            "Installing collected packages: threadpoolctl, scikit-learn, lightgbm, mlxtend, pynndescent, umap-learn, Boruta, pyod, scikit-plot, kmodes, querystring-parser, prometheus-flask-exporter, gunicorn, Mako, python-editor, alembic, websocket-client, docker, databricks-cli, smmap, gitdb, gitpython, mlflow, funcy, pyLDAvis, imbalanced-learn, htmlmin, tangled-up-in-unicode, multimethod, imagehash, visions, phik, pydantic, pandas-profiling, yellowbrick, pycaret\n",
            "  Found existing installation: scikit-learn 0.22.2.post1\n",
            "    Uninstalling scikit-learn-0.22.2.post1:\n",
            "      Successfully uninstalled scikit-learn-0.22.2.post1\n",
            "  Found existing installation: lightgbm 2.2.3\n",
            "    Uninstalling lightgbm-2.2.3:\n",
            "      Successfully uninstalled lightgbm-2.2.3\n",
            "  Found existing installation: mlxtend 0.14.0\n",
            "    Uninstalling mlxtend-0.14.0:\n",
            "      Successfully uninstalled mlxtend-0.14.0\n",
            "  Found existing installation: imbalanced-learn 0.4.3\n",
            "    Uninstalling imbalanced-learn-0.4.3:\n",
            "      Successfully uninstalled imbalanced-learn-0.4.3\n",
            "  Found existing installation: pandas-profiling 1.4.1\n",
            "    Uninstalling pandas-profiling-1.4.1:\n",
            "      Successfully uninstalled pandas-profiling-1.4.1\n",
            "  Found existing installation: yellowbrick 0.9.1\n",
            "    Uninstalling yellowbrick-0.9.1:\n",
            "      Successfully uninstalled yellowbrick-0.9.1\n",
            "Successfully installed Boruta-0.3 Mako-1.1.4 alembic-1.4.1 databricks-cli-0.14.3 docker-5.0.0 funcy-1.16 gitdb-4.0.7 gitpython-3.1.14 gunicorn-20.1.0 htmlmin-0.1.12 imagehash-4.2.0 imbalanced-learn-0.7.0 kmodes-0.11.0 lightgbm-3.2.1 mlflow-1.17.0 mlxtend-0.18.0 multimethod-1.4 pandas-profiling-3.0.0 phik-0.11.2 prometheus-flask-exporter-0.18.2 pyLDAvis-3.3.1 pycaret-2.3.1 pydantic-1.8.2 pynndescent-0.5.2 pyod-0.8.9 python-editor-1.0.4 querystring-parser-1.2.4 scikit-learn-0.23.2 scikit-plot-0.3.7 smmap-4.0.0 tangled-up-in-unicode-0.1.0 threadpoolctl-2.1.0 umap-learn-0.5.1 visions-0.7.1 websocket-client-1.1.0 yellowbrick-1.3.post1\n"
          ],
          "name": "stdout"
        }
      ]
    },
    {
      "cell_type": "code",
      "metadata": {
        "id": "TObJVglTqytE"
      },
      "source": [
        "# libraries for importing dataset  \n",
        "import pandas as pd\n",
        "import numpy as np\n",
        "import urllib.request as urllib\n",
        "\n",
        "# libraries for plotting\n",
        "import matplotlib.pyplot as plt\n",
        "import seaborn as sns\n",
        "\n",
        "# Preprocessing\n",
        "from sklearn import preprocessing, metrics\n",
        "from sklearn.preprocessing import StandardScaler \n",
        "from scipy.stats import chi2_contingency\n",
        "from scipy.stats import chi2\n",
        "\n",
        "\n",
        "# Modelling\n",
        "from sklearn.linear_model import LogisticRegression\n",
        "from sklearn.metrics import accuracy_score\n",
        "from sklearn.ensemble import RandomForestClassifier\n",
        "from sklearn.neighbors import KNeighborsClassifier\n",
        "from sklearn.tree import DecisionTreeClassifier\n",
        "from sklearn.naive_bayes import GaussianNB\n",
        "import keras\n",
        "from keras.models import Sequential\n",
        "from keras.layers import Dense\n",
        "\n",
        "# Metrices\n",
        "from sklearn.metrics import confusion_matrix, classification_report, mean_squared_error, mean_absolute_error, f1_score, r2_score\n",
        "from sklearn.model_selection import cross_val_score\n",
        "from sklearn.metrics import precision_score, recall_score\n",
        "\n",
        "# Hyperparameter tuning\n",
        "from sklearn.model_selection import GridSearchCV\n",
        "from sklearn.model_selection import RandomizedSearchCV\n",
        "from sklearn.model_selection import RepeatedStratifiedKFold"
      ],
      "execution_count": null,
      "outputs": []
    },
    {
      "cell_type": "code",
      "metadata": {
        "colab": {
          "base_uri": "https://localhost:8080/"
        },
        "id": "tGi4N1nzmAl4",
        "outputId": "5ba773b5-03c7-4b90-eca0-060e67062cc3"
      },
      "source": [
        "!wget https://archive.ics.uci.edu/ml/machine-learning-databases/census-income/census-income.data"
      ],
      "execution_count": null,
      "outputs": [
        {
          "output_type": "stream",
          "text": [
            "--2021-06-17 13:03:15--  https://archive.ics.uci.edu/ml/machine-learning-databases/census-income/census-income.data\n",
            "Resolving archive.ics.uci.edu (archive.ics.uci.edu)... 128.195.10.252\n",
            "Connecting to archive.ics.uci.edu (archive.ics.uci.edu)|128.195.10.252|:443... connected.\n",
            "HTTP request sent, awaiting response... 200 OK\n",
            "Length: 3974305 (3.8M) [application/x-httpd-php]\n",
            "Saving to: ‘census-income.data’\n",
            "\n",
            "census-income.data  100%[===================>]   3.79M  15.5MB/s    in 0.2s    \n",
            "\n",
            "2021-06-17 13:03:16 (15.5 MB/s) - ‘census-income.data’ saved [3974305/3974305]\n",
            "\n"
          ],
          "name": "stdout"
        }
      ]
    },
    {
      "cell_type": "code",
      "metadata": {
        "colab": {
          "base_uri": "https://localhost:8080/"
        },
        "id": "7LnRZF2832FP",
        "outputId": "408565e0-3a0b-4009-9b94-9d0c71c3767b"
      },
      "source": [
        "!wget https://archive.ics.uci.edu/ml/machine-learning-databases/census-income/census-income.test"
      ],
      "execution_count": null,
      "outputs": [
        {
          "output_type": "stream",
          "text": [
            "--2021-06-17 13:03:17--  https://archive.ics.uci.edu/ml/machine-learning-databases/census-income/census-income.test\n",
            "Resolving archive.ics.uci.edu (archive.ics.uci.edu)... 128.195.10.252\n",
            "Connecting to archive.ics.uci.edu (archive.ics.uci.edu)|128.195.10.252|:443... connected.\n",
            "HTTP request sent, awaiting response... 200 OK\n",
            "Length: 2003153 (1.9M) [application/x-httpd-php]\n",
            "Saving to: ‘census-income.test’\n",
            "\n",
            "census-income.test  100%[===================>]   1.91M  9.00MB/s    in 0.2s    \n",
            "\n",
            "2021-06-17 13:03:17 (9.00 MB/s) - ‘census-income.test’ saved [2003153/2003153]\n",
            "\n"
          ],
          "name": "stdout"
        }
      ]
    },
    {
      "cell_type": "code",
      "metadata": {
        "id": "J24J8Yi9hBQc"
      },
      "source": [
        "column = [\"age\", \"workclass\", \"fnlwgt\", \"education\", \"education_num\", \"marital-status\", \"occupation\", \"relationship\",\n",
        "          \"race\", \"sex\", \"capital-gain\", \"capital-loss\", \"hours-per-week\", \"native-country\", \"income\"] "
      ],
      "execution_count": null,
      "outputs": []
    },
    {
      "cell_type": "code",
      "metadata": {
        "id": "EvYZE_SZlm_W"
      },
      "source": [
        "train = pd.read_csv(\"census-income.data\", header = None, names = column)"
      ],
      "execution_count": null,
      "outputs": []
    },
    {
      "cell_type": "code",
      "metadata": {
        "colab": {
          "base_uri": "https://localhost:8080/",
          "height": 383
        },
        "id": "Ig8JRNP-xicQ",
        "outputId": "606a7d62-a677-4482-b11a-bb51f5952b8b"
      },
      "source": [
        "train.head()"
      ],
      "execution_count": null,
      "outputs": [
        {
          "output_type": "execute_result",
          "data": {
            "text/html": [
              "<div>\n",
              "<style scoped>\n",
              "    .dataframe tbody tr th:only-of-type {\n",
              "        vertical-align: middle;\n",
              "    }\n",
              "\n",
              "    .dataframe tbody tr th {\n",
              "        vertical-align: top;\n",
              "    }\n",
              "\n",
              "    .dataframe thead th {\n",
              "        text-align: right;\n",
              "    }\n",
              "</style>\n",
              "<table border=\"1\" class=\"dataframe\">\n",
              "  <thead>\n",
              "    <tr style=\"text-align: right;\">\n",
              "      <th></th>\n",
              "      <th>age</th>\n",
              "      <th>workclass</th>\n",
              "      <th>fnlwgt</th>\n",
              "      <th>education</th>\n",
              "      <th>education_num</th>\n",
              "      <th>marital-status</th>\n",
              "      <th>occupation</th>\n",
              "      <th>relationship</th>\n",
              "      <th>race</th>\n",
              "      <th>sex</th>\n",
              "      <th>capital-gain</th>\n",
              "      <th>capital-loss</th>\n",
              "      <th>hours-per-week</th>\n",
              "      <th>native-country</th>\n",
              "      <th>income</th>\n",
              "    </tr>\n",
              "  </thead>\n",
              "  <tbody>\n",
              "    <tr>\n",
              "      <th>0</th>\n",
              "      <td>39</td>\n",
              "      <td>State-gov</td>\n",
              "      <td>77516</td>\n",
              "      <td>Bachelors</td>\n",
              "      <td>13</td>\n",
              "      <td>Never-married</td>\n",
              "      <td>Adm-clerical</td>\n",
              "      <td>Not-in-family</td>\n",
              "      <td>White</td>\n",
              "      <td>Male</td>\n",
              "      <td>2174</td>\n",
              "      <td>0</td>\n",
              "      <td>40</td>\n",
              "      <td>United-States</td>\n",
              "      <td>&lt;=50K</td>\n",
              "    </tr>\n",
              "    <tr>\n",
              "      <th>1</th>\n",
              "      <td>50</td>\n",
              "      <td>Self-emp-not-inc</td>\n",
              "      <td>83311</td>\n",
              "      <td>Bachelors</td>\n",
              "      <td>13</td>\n",
              "      <td>Married-civ-spouse</td>\n",
              "      <td>Exec-managerial</td>\n",
              "      <td>Husband</td>\n",
              "      <td>White</td>\n",
              "      <td>Male</td>\n",
              "      <td>0</td>\n",
              "      <td>0</td>\n",
              "      <td>13</td>\n",
              "      <td>United-States</td>\n",
              "      <td>&lt;=50K</td>\n",
              "    </tr>\n",
              "    <tr>\n",
              "      <th>2</th>\n",
              "      <td>38</td>\n",
              "      <td>Private</td>\n",
              "      <td>215646</td>\n",
              "      <td>HS-grad</td>\n",
              "      <td>9</td>\n",
              "      <td>Divorced</td>\n",
              "      <td>Handlers-cleaners</td>\n",
              "      <td>Not-in-family</td>\n",
              "      <td>White</td>\n",
              "      <td>Male</td>\n",
              "      <td>0</td>\n",
              "      <td>0</td>\n",
              "      <td>40</td>\n",
              "      <td>United-States</td>\n",
              "      <td>&lt;=50K</td>\n",
              "    </tr>\n",
              "    <tr>\n",
              "      <th>3</th>\n",
              "      <td>53</td>\n",
              "      <td>Private</td>\n",
              "      <td>234721</td>\n",
              "      <td>11th</td>\n",
              "      <td>7</td>\n",
              "      <td>Married-civ-spouse</td>\n",
              "      <td>Handlers-cleaners</td>\n",
              "      <td>Husband</td>\n",
              "      <td>Black</td>\n",
              "      <td>Male</td>\n",
              "      <td>0</td>\n",
              "      <td>0</td>\n",
              "      <td>40</td>\n",
              "      <td>United-States</td>\n",
              "      <td>&lt;=50K</td>\n",
              "    </tr>\n",
              "    <tr>\n",
              "      <th>4</th>\n",
              "      <td>28</td>\n",
              "      <td>Private</td>\n",
              "      <td>338409</td>\n",
              "      <td>Bachelors</td>\n",
              "      <td>13</td>\n",
              "      <td>Married-civ-spouse</td>\n",
              "      <td>Prof-specialty</td>\n",
              "      <td>Wife</td>\n",
              "      <td>Black</td>\n",
              "      <td>Female</td>\n",
              "      <td>0</td>\n",
              "      <td>0</td>\n",
              "      <td>40</td>\n",
              "      <td>Cuba</td>\n",
              "      <td>&lt;=50K</td>\n",
              "    </tr>\n",
              "  </tbody>\n",
              "</table>\n",
              "</div>"
            ],
            "text/plain": [
              "   age          workclass  fnlwgt  ... hours-per-week  native-country  income\n",
              "0   39          State-gov   77516  ...             40   United-States   <=50K\n",
              "1   50   Self-emp-not-inc   83311  ...             13   United-States   <=50K\n",
              "2   38            Private  215646  ...             40   United-States   <=50K\n",
              "3   53            Private  234721  ...             40   United-States   <=50K\n",
              "4   28            Private  338409  ...             40            Cuba   <=50K\n",
              "\n",
              "[5 rows x 15 columns]"
            ]
          },
          "metadata": {
            "tags": []
          },
          "execution_count": 7
        }
      ]
    },
    {
      "cell_type": "code",
      "metadata": {
        "colab": {
          "base_uri": "https://localhost:8080/"
        },
        "id": "P-0tLz57xawZ",
        "outputId": "609b6b76-b20e-4064-c217-4924eb3594a7"
      },
      "source": [
        "train.shape"
      ],
      "execution_count": null,
      "outputs": [
        {
          "output_type": "execute_result",
          "data": {
            "text/plain": [
              "(32561, 15)"
            ]
          },
          "metadata": {
            "tags": []
          },
          "execution_count": 8
        }
      ]
    },
    {
      "cell_type": "code",
      "metadata": {
        "id": "R7pHQpJ2l1vf"
      },
      "source": [
        "test = pd.read_csv(\"census-income.test\", skiprows = 1, sep = \",\", names = column)"
      ],
      "execution_count": null,
      "outputs": []
    },
    {
      "cell_type": "code",
      "metadata": {
        "colab": {
          "base_uri": "https://localhost:8080/",
          "height": 383
        },
        "id": "OGVKpsY_l-Oz",
        "outputId": "7cd35e73-cff7-43d5-aa6a-80525eea3f81"
      },
      "source": [
        "test.head()"
      ],
      "execution_count": null,
      "outputs": [
        {
          "output_type": "execute_result",
          "data": {
            "text/html": [
              "<div>\n",
              "<style scoped>\n",
              "    .dataframe tbody tr th:only-of-type {\n",
              "        vertical-align: middle;\n",
              "    }\n",
              "\n",
              "    .dataframe tbody tr th {\n",
              "        vertical-align: top;\n",
              "    }\n",
              "\n",
              "    .dataframe thead th {\n",
              "        text-align: right;\n",
              "    }\n",
              "</style>\n",
              "<table border=\"1\" class=\"dataframe\">\n",
              "  <thead>\n",
              "    <tr style=\"text-align: right;\">\n",
              "      <th></th>\n",
              "      <th>age</th>\n",
              "      <th>workclass</th>\n",
              "      <th>fnlwgt</th>\n",
              "      <th>education</th>\n",
              "      <th>education_num</th>\n",
              "      <th>marital-status</th>\n",
              "      <th>occupation</th>\n",
              "      <th>relationship</th>\n",
              "      <th>race</th>\n",
              "      <th>sex</th>\n",
              "      <th>capital-gain</th>\n",
              "      <th>capital-loss</th>\n",
              "      <th>hours-per-week</th>\n",
              "      <th>native-country</th>\n",
              "      <th>income</th>\n",
              "    </tr>\n",
              "  </thead>\n",
              "  <tbody>\n",
              "    <tr>\n",
              "      <th>0</th>\n",
              "      <td>25</td>\n",
              "      <td>Private</td>\n",
              "      <td>226802</td>\n",
              "      <td>11th</td>\n",
              "      <td>7</td>\n",
              "      <td>Never-married</td>\n",
              "      <td>Machine-op-inspct</td>\n",
              "      <td>Own-child</td>\n",
              "      <td>Black</td>\n",
              "      <td>Male</td>\n",
              "      <td>0</td>\n",
              "      <td>0</td>\n",
              "      <td>40</td>\n",
              "      <td>United-States</td>\n",
              "      <td>&lt;=50K.</td>\n",
              "    </tr>\n",
              "    <tr>\n",
              "      <th>1</th>\n",
              "      <td>38</td>\n",
              "      <td>Private</td>\n",
              "      <td>89814</td>\n",
              "      <td>HS-grad</td>\n",
              "      <td>9</td>\n",
              "      <td>Married-civ-spouse</td>\n",
              "      <td>Farming-fishing</td>\n",
              "      <td>Husband</td>\n",
              "      <td>White</td>\n",
              "      <td>Male</td>\n",
              "      <td>0</td>\n",
              "      <td>0</td>\n",
              "      <td>50</td>\n",
              "      <td>United-States</td>\n",
              "      <td>&lt;=50K.</td>\n",
              "    </tr>\n",
              "    <tr>\n",
              "      <th>2</th>\n",
              "      <td>28</td>\n",
              "      <td>Local-gov</td>\n",
              "      <td>336951</td>\n",
              "      <td>Assoc-acdm</td>\n",
              "      <td>12</td>\n",
              "      <td>Married-civ-spouse</td>\n",
              "      <td>Protective-serv</td>\n",
              "      <td>Husband</td>\n",
              "      <td>White</td>\n",
              "      <td>Male</td>\n",
              "      <td>0</td>\n",
              "      <td>0</td>\n",
              "      <td>40</td>\n",
              "      <td>United-States</td>\n",
              "      <td>&gt;50K.</td>\n",
              "    </tr>\n",
              "    <tr>\n",
              "      <th>3</th>\n",
              "      <td>44</td>\n",
              "      <td>Private</td>\n",
              "      <td>160323</td>\n",
              "      <td>Some-college</td>\n",
              "      <td>10</td>\n",
              "      <td>Married-civ-spouse</td>\n",
              "      <td>Machine-op-inspct</td>\n",
              "      <td>Husband</td>\n",
              "      <td>Black</td>\n",
              "      <td>Male</td>\n",
              "      <td>7688</td>\n",
              "      <td>0</td>\n",
              "      <td>40</td>\n",
              "      <td>United-States</td>\n",
              "      <td>&gt;50K.</td>\n",
              "    </tr>\n",
              "    <tr>\n",
              "      <th>4</th>\n",
              "      <td>18</td>\n",
              "      <td>?</td>\n",
              "      <td>103497</td>\n",
              "      <td>Some-college</td>\n",
              "      <td>10</td>\n",
              "      <td>Never-married</td>\n",
              "      <td>?</td>\n",
              "      <td>Own-child</td>\n",
              "      <td>White</td>\n",
              "      <td>Female</td>\n",
              "      <td>0</td>\n",
              "      <td>0</td>\n",
              "      <td>30</td>\n",
              "      <td>United-States</td>\n",
              "      <td>&lt;=50K.</td>\n",
              "    </tr>\n",
              "  </tbody>\n",
              "</table>\n",
              "</div>"
            ],
            "text/plain": [
              "   age   workclass  fnlwgt  ... hours-per-week  native-country   income\n",
              "0   25     Private  226802  ...             40   United-States   <=50K.\n",
              "1   38     Private   89814  ...             50   United-States   <=50K.\n",
              "2   28   Local-gov  336951  ...             40   United-States    >50K.\n",
              "3   44     Private  160323  ...             40   United-States    >50K.\n",
              "4   18           ?  103497  ...             30   United-States   <=50K.\n",
              "\n",
              "[5 rows x 15 columns]"
            ]
          },
          "metadata": {
            "tags": []
          },
          "execution_count": 10
        }
      ]
    },
    {
      "cell_type": "code",
      "metadata": {
        "colab": {
          "base_uri": "https://localhost:8080/"
        },
        "id": "iyJe22QgeA5s",
        "outputId": "8711ad68-3710-42fc-d432-27c9b0aa8d61"
      },
      "source": [
        "test.shape"
      ],
      "execution_count": null,
      "outputs": [
        {
          "output_type": "execute_result",
          "data": {
            "text/plain": [
              "(16281, 15)"
            ]
          },
          "metadata": {
            "tags": []
          },
          "execution_count": 11
        }
      ]
    },
    {
      "cell_type": "markdown",
      "metadata": {
        "id": "cYkXEQSjqZEF"
      },
      "source": [
        "# Explanatory Data Analysis"
      ]
    },
    {
      "cell_type": "markdown",
      "metadata": {
        "id": "JaIrjRR0rKoV"
      },
      "source": [
        "### 1. Missing value:\n",
        "The value count for each column and replacing the \"?\" with mode for the train dataset\n",
        "\n",
        "\n"
      ]
    },
    {
      "cell_type": "code",
      "metadata": {
        "colab": {
          "base_uri": "https://localhost:8080/"
        },
        "id": "pSrtc_LflUmj",
        "outputId": "1a2d0d29-e2b9-45ae-a0f1-510823b69568"
      },
      "source": [
        "# Function to obtain the value count for all the columns\n",
        "col_names = train.columns\n",
        "for i in col_names:\n",
        "  count = train[i].value_counts()\n",
        "  print(i)\n",
        "  print(count)"
      ],
      "execution_count": null,
      "outputs": [
        {
          "output_type": "stream",
          "text": [
            "age\n",
            "36    898\n",
            "31    888\n",
            "34    886\n",
            "23    877\n",
            "35    876\n",
            "     ... \n",
            "83      6\n",
            "85      3\n",
            "88      3\n",
            "87      1\n",
            "86      1\n",
            "Name: age, Length: 73, dtype: int64\n",
            "workclass\n",
            " Private             22696\n",
            " Self-emp-not-inc     2541\n",
            " Local-gov            2093\n",
            " ?                    1836\n",
            " State-gov            1298\n",
            " Self-emp-inc         1116\n",
            " Federal-gov           960\n",
            " Without-pay            14\n",
            " Never-worked            7\n",
            "Name: workclass, dtype: int64\n",
            "fnlwgt\n",
            "164190    13\n",
            "203488    13\n",
            "123011    13\n",
            "113364    12\n",
            "121124    12\n",
            "          ..\n",
            "284211     1\n",
            "312881     1\n",
            "177711     1\n",
            "179758     1\n",
            "229376     1\n",
            "Name: fnlwgt, Length: 21648, dtype: int64\n",
            "education\n",
            " HS-grad         10501\n",
            " Some-college     7291\n",
            " Bachelors        5355\n",
            " Masters          1723\n",
            " Assoc-voc        1382\n",
            " 11th             1175\n",
            " Assoc-acdm       1067\n",
            " 10th              933\n",
            " 7th-8th           646\n",
            " Prof-school       576\n",
            " 9th               514\n",
            " 12th              433\n",
            " Doctorate         413\n",
            " 5th-6th           333\n",
            " 1st-4th           168\n",
            " Preschool          51\n",
            "Name: education, dtype: int64\n",
            "education_num\n",
            "9     10501\n",
            "10     7291\n",
            "13     5355\n",
            "14     1723\n",
            "11     1382\n",
            "7      1175\n",
            "12     1067\n",
            "6       933\n",
            "4       646\n",
            "15      576\n",
            "5       514\n",
            "8       433\n",
            "16      413\n",
            "3       333\n",
            "2       168\n",
            "1        51\n",
            "Name: education_num, dtype: int64\n",
            "marital-status\n",
            " Married-civ-spouse       14976\n",
            " Never-married            10683\n",
            " Divorced                  4443\n",
            " Separated                 1025\n",
            " Widowed                    993\n",
            " Married-spouse-absent      418\n",
            " Married-AF-spouse           23\n",
            "Name: marital-status, dtype: int64\n",
            "occupation\n",
            " Prof-specialty       4140\n",
            " Craft-repair         4099\n",
            " Exec-managerial      4066\n",
            " Adm-clerical         3770\n",
            " Sales                3650\n",
            " Other-service        3295\n",
            " Machine-op-inspct    2002\n",
            " ?                    1843\n",
            " Transport-moving     1597\n",
            " Handlers-cleaners    1370\n",
            " Farming-fishing       994\n",
            " Tech-support          928\n",
            " Protective-serv       649\n",
            " Priv-house-serv       149\n",
            " Armed-Forces            9\n",
            "Name: occupation, dtype: int64\n",
            "relationship\n",
            " Husband           13193\n",
            " Not-in-family      8305\n",
            " Own-child          5068\n",
            " Unmarried          3446\n",
            " Wife               1568\n",
            " Other-relative      981\n",
            "Name: relationship, dtype: int64\n",
            "race\n",
            " White                 27816\n",
            " Black                  3124\n",
            " Asian-Pac-Islander     1039\n",
            " Amer-Indian-Eskimo      311\n",
            " Other                   271\n",
            "Name: race, dtype: int64\n",
            "sex\n",
            " Male      21790\n",
            " Female    10771\n",
            "Name: sex, dtype: int64\n",
            "capital-gain\n",
            "0        29849\n",
            "15024      347\n",
            "7688       284\n",
            "7298       246\n",
            "99999      159\n",
            "         ...  \n",
            "4931         1\n",
            "1455         1\n",
            "6097         1\n",
            "22040        1\n",
            "1111         1\n",
            "Name: capital-gain, Length: 119, dtype: int64\n",
            "capital-loss\n",
            "0       31042\n",
            "1902      202\n",
            "1977      168\n",
            "1887      159\n",
            "1848       51\n",
            "        ...  \n",
            "1411        1\n",
            "1539        1\n",
            "2472        1\n",
            "1944        1\n",
            "2201        1\n",
            "Name: capital-loss, Length: 92, dtype: int64\n",
            "hours-per-week\n",
            "40    15217\n",
            "50     2819\n",
            "45     1824\n",
            "60     1475\n",
            "35     1297\n",
            "      ...  \n",
            "92        1\n",
            "94        1\n",
            "87        1\n",
            "74        1\n",
            "82        1\n",
            "Name: hours-per-week, Length: 94, dtype: int64\n",
            "native-country\n",
            " United-States                 29170\n",
            " Mexico                          643\n",
            " ?                               583\n",
            " Philippines                     198\n",
            " Germany                         137\n",
            " Canada                          121\n",
            " Puerto-Rico                     114\n",
            " El-Salvador                     106\n",
            " India                           100\n",
            " Cuba                             95\n",
            " England                          90\n",
            " Jamaica                          81\n",
            " South                            80\n",
            " China                            75\n",
            " Italy                            73\n",
            " Dominican-Republic               70\n",
            " Vietnam                          67\n",
            " Guatemala                        64\n",
            " Japan                            62\n",
            " Poland                           60\n",
            " Columbia                         59\n",
            " Taiwan                           51\n",
            " Haiti                            44\n",
            " Iran                             43\n",
            " Portugal                         37\n",
            " Nicaragua                        34\n",
            " Peru                             31\n",
            " France                           29\n",
            " Greece                           29\n",
            " Ecuador                          28\n",
            " Ireland                          24\n",
            " Hong                             20\n",
            " Trinadad&Tobago                  19\n",
            " Cambodia                         19\n",
            " Thailand                         18\n",
            " Laos                             18\n",
            " Yugoslavia                       16\n",
            " Outlying-US(Guam-USVI-etc)       14\n",
            " Honduras                         13\n",
            " Hungary                          13\n",
            " Scotland                         12\n",
            " Holand-Netherlands                1\n",
            "Name: native-country, dtype: int64\n",
            "income\n",
            " <=50K    24720\n",
            " >50K      7841\n",
            "Name: income, dtype: int64\n"
          ],
          "name": "stdout"
        }
      ]
    },
    {
      "cell_type": "markdown",
      "metadata": {
        "id": "RX94lbaHqnCj"
      },
      "source": [
        "From  the above result it is evident that \"?\" comes in 3 columns, that is, workclass, occupation and native country. We will change \"?\" by the mode "
      ]
    },
    {
      "cell_type": "code",
      "metadata": {
        "id": "2R2sBRY2mDC9"
      },
      "source": [
        "# Replacing ? with mode\n",
        "\n",
        "train['workclass'] = train['workclass'].replace(' ?', 'Private')\n",
        "train['occupation'] = train['occupation'].replace(' ?', 'Prof-specialty')\n",
        "train['native-country'] = train['native-country'].replace(' ?', 'United-States')"
      ],
      "execution_count": null,
      "outputs": []
    },
    {
      "cell_type": "code",
      "metadata": {
        "colab": {
          "base_uri": "https://localhost:8080/",
          "height": 383
        },
        "id": "LD6Mnz2Alirc",
        "outputId": "4ca66ac5-4b84-4865-f998-60211f27509b"
      },
      "source": [
        "train.head()"
      ],
      "execution_count": null,
      "outputs": [
        {
          "output_type": "execute_result",
          "data": {
            "text/html": [
              "<div>\n",
              "<style scoped>\n",
              "    .dataframe tbody tr th:only-of-type {\n",
              "        vertical-align: middle;\n",
              "    }\n",
              "\n",
              "    .dataframe tbody tr th {\n",
              "        vertical-align: top;\n",
              "    }\n",
              "\n",
              "    .dataframe thead th {\n",
              "        text-align: right;\n",
              "    }\n",
              "</style>\n",
              "<table border=\"1\" class=\"dataframe\">\n",
              "  <thead>\n",
              "    <tr style=\"text-align: right;\">\n",
              "      <th></th>\n",
              "      <th>age</th>\n",
              "      <th>workclass</th>\n",
              "      <th>fnlwgt</th>\n",
              "      <th>education</th>\n",
              "      <th>education_num</th>\n",
              "      <th>marital-status</th>\n",
              "      <th>occupation</th>\n",
              "      <th>relationship</th>\n",
              "      <th>race</th>\n",
              "      <th>sex</th>\n",
              "      <th>capital-gain</th>\n",
              "      <th>capital-loss</th>\n",
              "      <th>hours-per-week</th>\n",
              "      <th>native-country</th>\n",
              "      <th>income</th>\n",
              "    </tr>\n",
              "  </thead>\n",
              "  <tbody>\n",
              "    <tr>\n",
              "      <th>0</th>\n",
              "      <td>39</td>\n",
              "      <td>State-gov</td>\n",
              "      <td>77516</td>\n",
              "      <td>Bachelors</td>\n",
              "      <td>13</td>\n",
              "      <td>Never-married</td>\n",
              "      <td>Adm-clerical</td>\n",
              "      <td>Not-in-family</td>\n",
              "      <td>White</td>\n",
              "      <td>Male</td>\n",
              "      <td>2174</td>\n",
              "      <td>0</td>\n",
              "      <td>40</td>\n",
              "      <td>United-States</td>\n",
              "      <td>&lt;=50K</td>\n",
              "    </tr>\n",
              "    <tr>\n",
              "      <th>1</th>\n",
              "      <td>50</td>\n",
              "      <td>Self-emp-not-inc</td>\n",
              "      <td>83311</td>\n",
              "      <td>Bachelors</td>\n",
              "      <td>13</td>\n",
              "      <td>Married-civ-spouse</td>\n",
              "      <td>Exec-managerial</td>\n",
              "      <td>Husband</td>\n",
              "      <td>White</td>\n",
              "      <td>Male</td>\n",
              "      <td>0</td>\n",
              "      <td>0</td>\n",
              "      <td>13</td>\n",
              "      <td>United-States</td>\n",
              "      <td>&lt;=50K</td>\n",
              "    </tr>\n",
              "    <tr>\n",
              "      <th>2</th>\n",
              "      <td>38</td>\n",
              "      <td>Private</td>\n",
              "      <td>215646</td>\n",
              "      <td>HS-grad</td>\n",
              "      <td>9</td>\n",
              "      <td>Divorced</td>\n",
              "      <td>Handlers-cleaners</td>\n",
              "      <td>Not-in-family</td>\n",
              "      <td>White</td>\n",
              "      <td>Male</td>\n",
              "      <td>0</td>\n",
              "      <td>0</td>\n",
              "      <td>40</td>\n",
              "      <td>United-States</td>\n",
              "      <td>&lt;=50K</td>\n",
              "    </tr>\n",
              "    <tr>\n",
              "      <th>3</th>\n",
              "      <td>53</td>\n",
              "      <td>Private</td>\n",
              "      <td>234721</td>\n",
              "      <td>11th</td>\n",
              "      <td>7</td>\n",
              "      <td>Married-civ-spouse</td>\n",
              "      <td>Handlers-cleaners</td>\n",
              "      <td>Husband</td>\n",
              "      <td>Black</td>\n",
              "      <td>Male</td>\n",
              "      <td>0</td>\n",
              "      <td>0</td>\n",
              "      <td>40</td>\n",
              "      <td>United-States</td>\n",
              "      <td>&lt;=50K</td>\n",
              "    </tr>\n",
              "    <tr>\n",
              "      <th>4</th>\n",
              "      <td>28</td>\n",
              "      <td>Private</td>\n",
              "      <td>338409</td>\n",
              "      <td>Bachelors</td>\n",
              "      <td>13</td>\n",
              "      <td>Married-civ-spouse</td>\n",
              "      <td>Prof-specialty</td>\n",
              "      <td>Wife</td>\n",
              "      <td>Black</td>\n",
              "      <td>Female</td>\n",
              "      <td>0</td>\n",
              "      <td>0</td>\n",
              "      <td>40</td>\n",
              "      <td>Cuba</td>\n",
              "      <td>&lt;=50K</td>\n",
              "    </tr>\n",
              "  </tbody>\n",
              "</table>\n",
              "</div>"
            ],
            "text/plain": [
              "   age          workclass  fnlwgt  ... hours-per-week  native-country  income\n",
              "0   39          State-gov   77516  ...             40   United-States   <=50K\n",
              "1   50   Self-emp-not-inc   83311  ...             13   United-States   <=50K\n",
              "2   38            Private  215646  ...             40   United-States   <=50K\n",
              "3   53            Private  234721  ...             40   United-States   <=50K\n",
              "4   28            Private  338409  ...             40            Cuba   <=50K\n",
              "\n",
              "[5 rows x 15 columns]"
            ]
          },
          "metadata": {
            "tags": []
          },
          "execution_count": 14
        }
      ]
    },
    {
      "cell_type": "markdown",
      "metadata": {
        "id": "FYG5UM3ihnwf"
      },
      "source": [
        "The value count for each column and replacing the \"?\" with mode for the test dataset"
      ]
    },
    {
      "cell_type": "code",
      "metadata": {
        "colab": {
          "base_uri": "https://localhost:8080/"
        },
        "id": "DPMojoMorf9K",
        "outputId": "8de80398-b15c-4ae4-c3ee-771a37a34213"
      },
      "source": [
        "# Function to obtain the value count for all the columns\n",
        "col_names = test.columns\n",
        "for i in col_names:\n",
        "  count = test[i].value_counts()\n",
        "  print(i)\n",
        "  print(count)"
      ],
      "execution_count": null,
      "outputs": [
        {
          "output_type": "stream",
          "text": [
            "age\n",
            "35    461\n",
            "33    460\n",
            "23    452\n",
            "36    450\n",
            "38    437\n",
            "     ... \n",
            "88      3\n",
            "84      3\n",
            "89      2\n",
            "85      2\n",
            "87      2\n",
            "Name: age, Length: 73, dtype: int64\n",
            "workclass\n",
            " Private             11210\n",
            " Self-emp-not-inc     1321\n",
            " Local-gov            1043\n",
            " ?                     963\n",
            " State-gov             683\n",
            " Self-emp-inc          579\n",
            " Federal-gov           472\n",
            " Without-pay             7\n",
            " Never-worked            3\n",
            "Name: workclass, dtype: int64\n",
            "fnlwgt\n",
            "136986    9\n",
            "127651    8\n",
            "203488    8\n",
            "190290    8\n",
            "120277    8\n",
            "         ..\n",
            "119344    1\n",
            "240175    1\n",
            "45612     1\n",
            "346478    1\n",
            "235523    1\n",
            "Name: fnlwgt, Length: 12787, dtype: int64\n",
            "education\n",
            " HS-grad         5283\n",
            " Some-college    3587\n",
            " Bachelors       2670\n",
            " Masters          934\n",
            " Assoc-voc        679\n",
            " 11th             637\n",
            " Assoc-acdm       534\n",
            " 10th             456\n",
            " 7th-8th          309\n",
            " Prof-school      258\n",
            " 9th              242\n",
            " 12th             224\n",
            " Doctorate        181\n",
            " 5th-6th          176\n",
            " 1st-4th           79\n",
            " Preschool         32\n",
            "Name: education, dtype: int64\n",
            "education_num\n",
            "9     5283\n",
            "10    3587\n",
            "13    2670\n",
            "14     934\n",
            "11     679\n",
            "7      637\n",
            "12     534\n",
            "6      456\n",
            "4      309\n",
            "15     258\n",
            "5      242\n",
            "8      224\n",
            "16     181\n",
            "3      176\n",
            "2       79\n",
            "1       32\n",
            "Name: education_num, dtype: int64\n",
            "marital-status\n",
            " Married-civ-spouse       7403\n",
            " Never-married            5434\n",
            " Divorced                 2190\n",
            " Widowed                   525\n",
            " Separated                 505\n",
            " Married-spouse-absent     210\n",
            " Married-AF-spouse          14\n",
            "Name: marital-status, dtype: int64\n",
            "occupation\n",
            " Prof-specialty       2032\n",
            " Exec-managerial      2020\n",
            " Craft-repair         2013\n",
            " Sales                1854\n",
            " Adm-clerical         1841\n",
            " Other-service        1628\n",
            " Machine-op-inspct    1020\n",
            " ?                     966\n",
            " Transport-moving      758\n",
            " Handlers-cleaners     702\n",
            " Tech-support          518\n",
            " Farming-fishing       496\n",
            " Protective-serv       334\n",
            " Priv-house-serv        93\n",
            " Armed-Forces            6\n",
            "Name: occupation, dtype: int64\n",
            "relationship\n",
            " Husband           6523\n",
            " Not-in-family     4278\n",
            " Own-child         2513\n",
            " Unmarried         1679\n",
            " Wife               763\n",
            " Other-relative     525\n",
            "Name: relationship, dtype: int64\n",
            "race\n",
            " White                 13946\n",
            " Black                  1561\n",
            " Asian-Pac-Islander      480\n",
            " Amer-Indian-Eskimo      159\n",
            " Other                   135\n",
            "Name: race, dtype: int64\n",
            "sex\n",
            " Male      10860\n",
            " Female     5421\n",
            "Name: sex, dtype: int64\n",
            "capital-gain\n",
            "0        14958\n",
            "15024      166\n",
            "7688       126\n",
            "7298       118\n",
            "99999       85\n",
            "         ...  \n",
            "6097         1\n",
            "7978         1\n",
            "1731         1\n",
            "7896         1\n",
            "3273         1\n",
            "Name: capital-gain, Length: 113, dtype: int64\n",
            "capital-loss\n",
            "0       15518\n",
            "1902      102\n",
            "1977       85\n",
            "1887       74\n",
            "2415       23\n",
            "        ...  \n",
            "1594        1\n",
            "2282        1\n",
            "1421        1\n",
            "653         1\n",
            "1911        1\n",
            "Name: capital-loss, Length: 82, dtype: int64\n",
            "hours-per-week\n",
            "40    7586\n",
            "50    1427\n",
            "45     893\n",
            "60     702\n",
            "35     640\n",
            "      ... \n",
            "73       2\n",
            "76       1\n",
            "89       1\n",
            "69       1\n",
            "79       1\n",
            "Name: hours-per-week, Length: 89, dtype: int64\n",
            "native-country\n",
            " United-States                 14662\n",
            " Mexico                          308\n",
            " ?                               274\n",
            " Philippines                      97\n",
            " Puerto-Rico                      70\n",
            " Germany                          69\n",
            " Canada                           61\n",
            " India                            51\n",
            " El-Salvador                      49\n",
            " China                            47\n",
            " Cuba                             43\n",
            " England                          37\n",
            " South                            35\n",
            " Dominican-Republic               33\n",
            " Italy                            32\n",
            " Haiti                            31\n",
            " Japan                            30\n",
            " Portugal                         30\n",
            " Poland                           27\n",
            " Columbia                         26\n",
            " Jamaica                          25\n",
            " Guatemala                        24\n",
            " Greece                           20\n",
            " Vietnam                          19\n",
            " Ecuador                          17\n",
            " Iran                             16\n",
            " Peru                             15\n",
            " Nicaragua                        15\n",
            " Taiwan                           14\n",
            " Ireland                          13\n",
            " Thailand                         12\n",
            " Hong                             10\n",
            " Scotland                          9\n",
            " France                            9\n",
            " Outlying-US(Guam-USVI-etc)        9\n",
            " Cambodia                          9\n",
            " Trinadad&Tobago                   8\n",
            " Honduras                          7\n",
            " Yugoslavia                        7\n",
            " Hungary                           6\n",
            " Laos                              5\n",
            "Name: native-country, dtype: int64\n",
            "income\n",
            " <=50K.    12435\n",
            " >50K.      3846\n",
            "Name: income, dtype: int64\n"
          ],
          "name": "stdout"
        }
      ]
    },
    {
      "cell_type": "markdown",
      "metadata": {
        "id": "JyBLCpDVhJnf"
      },
      "source": [
        "From  the above result it is evident that \"?\" comes in 3 columns, that is, workclass, occupation and native country. We will change \"?\" by the mode "
      ]
    },
    {
      "cell_type": "code",
      "metadata": {
        "id": "XAmU-ikkaxAw"
      },
      "source": [
        "# Replacing ? with mode\n",
        "\n",
        "test['workclass'] = test['workclass'].replace(' ?', 'Private')\n",
        "test['occupation'] = test['occupation'].replace(' ?', 'Prof-specialty')\n",
        "test['native-country'] = test['native-country'].replace(' ?', 'United-States')"
      ],
      "execution_count": null,
      "outputs": []
    },
    {
      "cell_type": "code",
      "metadata": {
        "colab": {
          "base_uri": "https://localhost:8080/",
          "height": 383
        },
        "id": "lL_AAGgbu0rO",
        "outputId": "bf3bf788-6083-403f-a75e-bbd8bab1922f"
      },
      "source": [
        "test.head()"
      ],
      "execution_count": null,
      "outputs": [
        {
          "output_type": "execute_result",
          "data": {
            "text/html": [
              "<div>\n",
              "<style scoped>\n",
              "    .dataframe tbody tr th:only-of-type {\n",
              "        vertical-align: middle;\n",
              "    }\n",
              "\n",
              "    .dataframe tbody tr th {\n",
              "        vertical-align: top;\n",
              "    }\n",
              "\n",
              "    .dataframe thead th {\n",
              "        text-align: right;\n",
              "    }\n",
              "</style>\n",
              "<table border=\"1\" class=\"dataframe\">\n",
              "  <thead>\n",
              "    <tr style=\"text-align: right;\">\n",
              "      <th></th>\n",
              "      <th>age</th>\n",
              "      <th>workclass</th>\n",
              "      <th>fnlwgt</th>\n",
              "      <th>education</th>\n",
              "      <th>education_num</th>\n",
              "      <th>marital-status</th>\n",
              "      <th>occupation</th>\n",
              "      <th>relationship</th>\n",
              "      <th>race</th>\n",
              "      <th>sex</th>\n",
              "      <th>capital-gain</th>\n",
              "      <th>capital-loss</th>\n",
              "      <th>hours-per-week</th>\n",
              "      <th>native-country</th>\n",
              "      <th>income</th>\n",
              "    </tr>\n",
              "  </thead>\n",
              "  <tbody>\n",
              "    <tr>\n",
              "      <th>0</th>\n",
              "      <td>25</td>\n",
              "      <td>Private</td>\n",
              "      <td>226802</td>\n",
              "      <td>11th</td>\n",
              "      <td>7</td>\n",
              "      <td>Never-married</td>\n",
              "      <td>Machine-op-inspct</td>\n",
              "      <td>Own-child</td>\n",
              "      <td>Black</td>\n",
              "      <td>Male</td>\n",
              "      <td>0</td>\n",
              "      <td>0</td>\n",
              "      <td>40</td>\n",
              "      <td>United-States</td>\n",
              "      <td>&lt;=50K.</td>\n",
              "    </tr>\n",
              "    <tr>\n",
              "      <th>1</th>\n",
              "      <td>38</td>\n",
              "      <td>Private</td>\n",
              "      <td>89814</td>\n",
              "      <td>HS-grad</td>\n",
              "      <td>9</td>\n",
              "      <td>Married-civ-spouse</td>\n",
              "      <td>Farming-fishing</td>\n",
              "      <td>Husband</td>\n",
              "      <td>White</td>\n",
              "      <td>Male</td>\n",
              "      <td>0</td>\n",
              "      <td>0</td>\n",
              "      <td>50</td>\n",
              "      <td>United-States</td>\n",
              "      <td>&lt;=50K.</td>\n",
              "    </tr>\n",
              "    <tr>\n",
              "      <th>2</th>\n",
              "      <td>28</td>\n",
              "      <td>Local-gov</td>\n",
              "      <td>336951</td>\n",
              "      <td>Assoc-acdm</td>\n",
              "      <td>12</td>\n",
              "      <td>Married-civ-spouse</td>\n",
              "      <td>Protective-serv</td>\n",
              "      <td>Husband</td>\n",
              "      <td>White</td>\n",
              "      <td>Male</td>\n",
              "      <td>0</td>\n",
              "      <td>0</td>\n",
              "      <td>40</td>\n",
              "      <td>United-States</td>\n",
              "      <td>&gt;50K.</td>\n",
              "    </tr>\n",
              "    <tr>\n",
              "      <th>3</th>\n",
              "      <td>44</td>\n",
              "      <td>Private</td>\n",
              "      <td>160323</td>\n",
              "      <td>Some-college</td>\n",
              "      <td>10</td>\n",
              "      <td>Married-civ-spouse</td>\n",
              "      <td>Machine-op-inspct</td>\n",
              "      <td>Husband</td>\n",
              "      <td>Black</td>\n",
              "      <td>Male</td>\n",
              "      <td>7688</td>\n",
              "      <td>0</td>\n",
              "      <td>40</td>\n",
              "      <td>United-States</td>\n",
              "      <td>&gt;50K.</td>\n",
              "    </tr>\n",
              "    <tr>\n",
              "      <th>4</th>\n",
              "      <td>18</td>\n",
              "      <td>Private</td>\n",
              "      <td>103497</td>\n",
              "      <td>Some-college</td>\n",
              "      <td>10</td>\n",
              "      <td>Never-married</td>\n",
              "      <td>Prof-specialty</td>\n",
              "      <td>Own-child</td>\n",
              "      <td>White</td>\n",
              "      <td>Female</td>\n",
              "      <td>0</td>\n",
              "      <td>0</td>\n",
              "      <td>30</td>\n",
              "      <td>United-States</td>\n",
              "      <td>&lt;=50K.</td>\n",
              "    </tr>\n",
              "  </tbody>\n",
              "</table>\n",
              "</div>"
            ],
            "text/plain": [
              "   age   workclass  fnlwgt  ... hours-per-week  native-country   income\n",
              "0   25     Private  226802  ...             40   United-States   <=50K.\n",
              "1   38     Private   89814  ...             50   United-States   <=50K.\n",
              "2   28   Local-gov  336951  ...             40   United-States    >50K.\n",
              "3   44     Private  160323  ...             40   United-States    >50K.\n",
              "4   18     Private  103497  ...             30   United-States   <=50K.\n",
              "\n",
              "[5 rows x 15 columns]"
            ]
          },
          "metadata": {
            "tags": []
          },
          "execution_count": 17
        }
      ]
    },
    {
      "cell_type": "markdown",
      "metadata": {
        "id": "7n_y7YvF4iAK"
      },
      "source": [
        "### 2. Visualization of columns having numerical values and categorical values"
      ]
    },
    {
      "cell_type": "code",
      "metadata": {
        "colab": {
          "base_uri": "https://localhost:8080/"
        },
        "id": "i2U0e59S5DPK",
        "outputId": "173b8387-1188-4ffb-a592-0f0cb88f3bab"
      },
      "source": [
        "train.info()"
      ],
      "execution_count": null,
      "outputs": [
        {
          "output_type": "stream",
          "text": [
            "<class 'pandas.core.frame.DataFrame'>\n",
            "RangeIndex: 32561 entries, 0 to 32560\n",
            "Data columns (total 15 columns):\n",
            " #   Column          Non-Null Count  Dtype \n",
            "---  ------          --------------  ----- \n",
            " 0   age             32561 non-null  int64 \n",
            " 1   workclass       32561 non-null  object\n",
            " 2   fnlwgt          32561 non-null  int64 \n",
            " 3   education       32561 non-null  object\n",
            " 4   education_num   32561 non-null  int64 \n",
            " 5   marital-status  32561 non-null  object\n",
            " 6   occupation      32561 non-null  object\n",
            " 7   relationship    32561 non-null  object\n",
            " 8   race            32561 non-null  object\n",
            " 9   sex             32561 non-null  object\n",
            " 10  capital-gain    32561 non-null  int64 \n",
            " 11  capital-loss    32561 non-null  int64 \n",
            " 12  hours-per-week  32561 non-null  int64 \n",
            " 13  native-country  32561 non-null  object\n",
            " 14  income          32561 non-null  object\n",
            "dtypes: int64(6), object(9)\n",
            "memory usage: 3.7+ MB\n"
          ],
          "name": "stdout"
        }
      ]
    },
    {
      "cell_type": "code",
      "metadata": {
        "colab": {
          "base_uri": "https://localhost:8080/"
        },
        "id": "cbw8K9nt5dX6",
        "outputId": "77a31914-5035-4f38-9548-0b27a8fb4f8b"
      },
      "source": [
        "# Obtaining the columns having numerical values\n",
        "\n",
        "num_columns = train.select_dtypes(include=['int'])\n",
        "print(num_columns.columns)"
      ],
      "execution_count": null,
      "outputs": [
        {
          "output_type": "stream",
          "text": [
            "Index(['age', 'fnlwgt', 'education_num', 'capital-gain', 'capital-loss',\n",
            "       'hours-per-week'],\n",
            "      dtype='object')\n"
          ],
          "name": "stdout"
        }
      ]
    },
    {
      "cell_type": "code",
      "metadata": {
        "colab": {
          "base_uri": "https://localhost:8080/",
          "height": 725
        },
        "id": "gwhgt1lg5rxF",
        "outputId": "fbf914cf-7ec5-42f2-f3e7-cf0f63b007be"
      },
      "source": [
        "# Plotting histogram\n",
        "num_columns.hist(figsize=(10,10))"
      ],
      "execution_count": null,
      "outputs": [
        {
          "output_type": "execute_result",
          "data": {
            "text/plain": [
              "array([[<matplotlib.axes._subplots.AxesSubplot object at 0x7fec4b159668>,\n",
              "        <matplotlib.axes._subplots.AxesSubplot object at 0x7fec4b1318d0>],\n",
              "       [<matplotlib.axes._subplots.AxesSubplot object at 0x7fec4b0e7b38>,\n",
              "        <matplotlib.axes._subplots.AxesSubplot object at 0x7fec4b09ada0>],\n",
              "       [<matplotlib.axes._subplots.AxesSubplot object at 0x7fec4b04ffd0>,\n",
              "        <matplotlib.axes._subplots.AxesSubplot object at 0x7fec4b088b70>]],\n",
              "      dtype=object)"
            ]
          },
          "metadata": {
            "tags": []
          },
          "execution_count": 20
        },
        {
          "output_type": "display_data",
          "data": {
            "image/png": "[encoded data removed]",
            "text/plain": [
              "<Figure size 720x720 with 6 Axes>"
            ]
          },
          "metadata": {
            "tags": [],
            "needs_background": "light"
          }
        }
      ]
    },
    {
      "cell_type": "code",
      "metadata": {
        "colab": {
          "base_uri": "https://localhost:8080/"
        },
        "id": "Kf9NNhCa6VLY",
        "outputId": "0d90fb97-ecbe-4089-a4b4-b454c75af479"
      },
      "source": [
        "# Obtaining the categorical columns\n",
        "\n",
        "cat_columns = train.select_dtypes(include=['object'])\n",
        "print(cat_columns.columns)"
      ],
      "execution_count": null,
      "outputs": [
        {
          "output_type": "stream",
          "text": [
            "Index(['workclass', 'education', 'marital-status', 'occupation',\n",
            "       'relationship', 'race', 'sex', 'native-country', 'income'],\n",
            "      dtype='object')\n"
          ],
          "name": "stdout"
        }
      ]
    },
    {
      "cell_type": "code",
      "metadata": {
        "colab": {
          "base_uri": "https://localhost:8080/",
          "height": 343
        },
        "id": "5A0g-EXHEw9l",
        "outputId": "37ac30d8-518a-41ac-fabb-a48164ffd170"
      },
      "source": [
        "# Effect of workclass on income\n",
        "\n",
        "cat_columns.groupby('workclass').count()"
      ],
      "execution_count": null,
      "outputs": [
        {
          "output_type": "execute_result",
          "data": {
            "text/html": [
              "<div>\n",
              "<style scoped>\n",
              "    .dataframe tbody tr th:only-of-type {\n",
              "        vertical-align: middle;\n",
              "    }\n",
              "\n",
              "    .dataframe tbody tr th {\n",
              "        vertical-align: top;\n",
              "    }\n",
              "\n",
              "    .dataframe thead th {\n",
              "        text-align: right;\n",
              "    }\n",
              "</style>\n",
              "<table border=\"1\" class=\"dataframe\">\n",
              "  <thead>\n",
              "    <tr style=\"text-align: right;\">\n",
              "      <th></th>\n",
              "      <th>education</th>\n",
              "      <th>marital-status</th>\n",
              "      <th>occupation</th>\n",
              "      <th>relationship</th>\n",
              "      <th>race</th>\n",
              "      <th>sex</th>\n",
              "      <th>native-country</th>\n",
              "      <th>income</th>\n",
              "    </tr>\n",
              "    <tr>\n",
              "      <th>workclass</th>\n",
              "      <th></th>\n",
              "      <th></th>\n",
              "      <th></th>\n",
              "      <th></th>\n",
              "      <th></th>\n",
              "      <th></th>\n",
              "      <th></th>\n",
              "      <th></th>\n",
              "    </tr>\n",
              "  </thead>\n",
              "  <tbody>\n",
              "    <tr>\n",
              "      <th>Federal-gov</th>\n",
              "      <td>960</td>\n",
              "      <td>960</td>\n",
              "      <td>960</td>\n",
              "      <td>960</td>\n",
              "      <td>960</td>\n",
              "      <td>960</td>\n",
              "      <td>960</td>\n",
              "      <td>960</td>\n",
              "    </tr>\n",
              "    <tr>\n",
              "      <th>Local-gov</th>\n",
              "      <td>2093</td>\n",
              "      <td>2093</td>\n",
              "      <td>2093</td>\n",
              "      <td>2093</td>\n",
              "      <td>2093</td>\n",
              "      <td>2093</td>\n",
              "      <td>2093</td>\n",
              "      <td>2093</td>\n",
              "    </tr>\n",
              "    <tr>\n",
              "      <th>Never-worked</th>\n",
              "      <td>7</td>\n",
              "      <td>7</td>\n",
              "      <td>7</td>\n",
              "      <td>7</td>\n",
              "      <td>7</td>\n",
              "      <td>7</td>\n",
              "      <td>7</td>\n",
              "      <td>7</td>\n",
              "    </tr>\n",
              "    <tr>\n",
              "      <th>Private</th>\n",
              "      <td>22696</td>\n",
              "      <td>22696</td>\n",
              "      <td>22696</td>\n",
              "      <td>22696</td>\n",
              "      <td>22696</td>\n",
              "      <td>22696</td>\n",
              "      <td>22696</td>\n",
              "      <td>22696</td>\n",
              "    </tr>\n",
              "    <tr>\n",
              "      <th>Self-emp-inc</th>\n",
              "      <td>1116</td>\n",
              "      <td>1116</td>\n",
              "      <td>1116</td>\n",
              "      <td>1116</td>\n",
              "      <td>1116</td>\n",
              "      <td>1116</td>\n",
              "      <td>1116</td>\n",
              "      <td>1116</td>\n",
              "    </tr>\n",
              "    <tr>\n",
              "      <th>Self-emp-not-inc</th>\n",
              "      <td>2541</td>\n",
              "      <td>2541</td>\n",
              "      <td>2541</td>\n",
              "      <td>2541</td>\n",
              "      <td>2541</td>\n",
              "      <td>2541</td>\n",
              "      <td>2541</td>\n",
              "      <td>2541</td>\n",
              "    </tr>\n",
              "    <tr>\n",
              "      <th>State-gov</th>\n",
              "      <td>1298</td>\n",
              "      <td>1298</td>\n",
              "      <td>1298</td>\n",
              "      <td>1298</td>\n",
              "      <td>1298</td>\n",
              "      <td>1298</td>\n",
              "      <td>1298</td>\n",
              "      <td>1298</td>\n",
              "    </tr>\n",
              "    <tr>\n",
              "      <th>Without-pay</th>\n",
              "      <td>14</td>\n",
              "      <td>14</td>\n",
              "      <td>14</td>\n",
              "      <td>14</td>\n",
              "      <td>14</td>\n",
              "      <td>14</td>\n",
              "      <td>14</td>\n",
              "      <td>14</td>\n",
              "    </tr>\n",
              "    <tr>\n",
              "      <th>Private</th>\n",
              "      <td>1836</td>\n",
              "      <td>1836</td>\n",
              "      <td>1836</td>\n",
              "      <td>1836</td>\n",
              "      <td>1836</td>\n",
              "      <td>1836</td>\n",
              "      <td>1836</td>\n",
              "      <td>1836</td>\n",
              "    </tr>\n",
              "  </tbody>\n",
              "</table>\n",
              "</div>"
            ],
            "text/plain": [
              "                   education  marital-status  ...  native-country  income\n",
              "workclass                                     ...                        \n",
              " Federal-gov             960             960  ...             960     960\n",
              " Local-gov              2093            2093  ...            2093    2093\n",
              " Never-worked              7               7  ...               7       7\n",
              " Private               22696           22696  ...           22696   22696\n",
              " Self-emp-inc           1116            1116  ...            1116    1116\n",
              " Self-emp-not-inc       2541            2541  ...            2541    2541\n",
              " State-gov              1298            1298  ...            1298    1298\n",
              " Without-pay              14              14  ...              14      14\n",
              "Private                 1836            1836  ...            1836    1836\n",
              "\n",
              "[9 rows x 8 columns]"
            ]
          },
          "metadata": {
            "tags": []
          },
          "execution_count": 22
        }
      ]
    },
    {
      "cell_type": "code",
      "metadata": {
        "colab": {
          "base_uri": "https://localhost:8080/",
          "height": 296
        },
        "id": "4Z8z7AYS6VIb",
        "outputId": "1d9d5754-0695-4400-aeef-2c072c3e5e70"
      },
      "source": [
        "# Plotting workclass vs income\n",
        "\n",
        "sns.countplot(y='workclass', hue='income', data = cat_columns)"
      ],
      "execution_count": null,
      "outputs": [
        {
          "output_type": "execute_result",
          "data": {
            "text/plain": [
              "<matplotlib.axes._subplots.AxesSubplot at 0x7fec4ae14ef0>"
            ]
          },
          "metadata": {
            "tags": []
          },
          "execution_count": 23
        },
        {
          "output_type": "display_data",
          "data": {
            "image/png": "[encoded data removed]",
            "text/plain": [
              "<Figure size 432x288 with 1 Axes>"
            ]
          },
          "metadata": {
            "tags": [],
            "needs_background": "light"
          }
        }
      ]
    },
    {
      "cell_type": "markdown",
      "metadata": {
        "id": "ff2o37M4GiaG"
      },
      "source": [
        "*italicized text*"
      ]
    },
    {
      "cell_type": "code",
      "metadata": {
        "colab": {
          "base_uri": "https://localhost:8080/",
          "height": 521
        },
        "id": "NwwGOE6OE7dt",
        "outputId": "b3c9a76e-f1b6-4b81-b011-14a4a70d638f"
      },
      "source": [
        "# Effect of occupation on income\n",
        "\n",
        "cat_columns.groupby('occupation').count()"
      ],
      "execution_count": null,
      "outputs": [
        {
          "output_type": "execute_result",
          "data": {
            "text/html": [
              "<div>\n",
              "<style scoped>\n",
              "    .dataframe tbody tr th:only-of-type {\n",
              "        vertical-align: middle;\n",
              "    }\n",
              "\n",
              "    .dataframe tbody tr th {\n",
              "        vertical-align: top;\n",
              "    }\n",
              "\n",
              "    .dataframe thead th {\n",
              "        text-align: right;\n",
              "    }\n",
              "</style>\n",
              "<table border=\"1\" class=\"dataframe\">\n",
              "  <thead>\n",
              "    <tr style=\"text-align: right;\">\n",
              "      <th></th>\n",
              "      <th>workclass</th>\n",
              "      <th>education</th>\n",
              "      <th>marital-status</th>\n",
              "      <th>relationship</th>\n",
              "      <th>race</th>\n",
              "      <th>sex</th>\n",
              "      <th>native-country</th>\n",
              "      <th>income</th>\n",
              "    </tr>\n",
              "    <tr>\n",
              "      <th>occupation</th>\n",
              "      <th></th>\n",
              "      <th></th>\n",
              "      <th></th>\n",
              "      <th></th>\n",
              "      <th></th>\n",
              "      <th></th>\n",
              "      <th></th>\n",
              "      <th></th>\n",
              "    </tr>\n",
              "  </thead>\n",
              "  <tbody>\n",
              "    <tr>\n",
              "      <th>Adm-clerical</th>\n",
              "      <td>3770</td>\n",
              "      <td>3770</td>\n",
              "      <td>3770</td>\n",
              "      <td>3770</td>\n",
              "      <td>3770</td>\n",
              "      <td>3770</td>\n",
              "      <td>3770</td>\n",
              "      <td>3770</td>\n",
              "    </tr>\n",
              "    <tr>\n",
              "      <th>Armed-Forces</th>\n",
              "      <td>9</td>\n",
              "      <td>9</td>\n",
              "      <td>9</td>\n",
              "      <td>9</td>\n",
              "      <td>9</td>\n",
              "      <td>9</td>\n",
              "      <td>9</td>\n",
              "      <td>9</td>\n",
              "    </tr>\n",
              "    <tr>\n",
              "      <th>Craft-repair</th>\n",
              "      <td>4099</td>\n",
              "      <td>4099</td>\n",
              "      <td>4099</td>\n",
              "      <td>4099</td>\n",
              "      <td>4099</td>\n",
              "      <td>4099</td>\n",
              "      <td>4099</td>\n",
              "      <td>4099</td>\n",
              "    </tr>\n",
              "    <tr>\n",
              "      <th>Exec-managerial</th>\n",
              "      <td>4066</td>\n",
              "      <td>4066</td>\n",
              "      <td>4066</td>\n",
              "      <td>4066</td>\n",
              "      <td>4066</td>\n",
              "      <td>4066</td>\n",
              "      <td>4066</td>\n",
              "      <td>4066</td>\n",
              "    </tr>\n",
              "    <tr>\n",
              "      <th>Farming-fishing</th>\n",
              "      <td>994</td>\n",
              "      <td>994</td>\n",
              "      <td>994</td>\n",
              "      <td>994</td>\n",
              "      <td>994</td>\n",
              "      <td>994</td>\n",
              "      <td>994</td>\n",
              "      <td>994</td>\n",
              "    </tr>\n",
              "    <tr>\n",
              "      <th>Handlers-cleaners</th>\n",
              "      <td>1370</td>\n",
              "      <td>1370</td>\n",
              "      <td>1370</td>\n",
              "      <td>1370</td>\n",
              "      <td>1370</td>\n",
              "      <td>1370</td>\n",
              "      <td>1370</td>\n",
              "      <td>1370</td>\n",
              "    </tr>\n",
              "    <tr>\n",
              "      <th>Machine-op-inspct</th>\n",
              "      <td>2002</td>\n",
              "      <td>2002</td>\n",
              "      <td>2002</td>\n",
              "      <td>2002</td>\n",
              "      <td>2002</td>\n",
              "      <td>2002</td>\n",
              "      <td>2002</td>\n",
              "      <td>2002</td>\n",
              "    </tr>\n",
              "    <tr>\n",
              "      <th>Other-service</th>\n",
              "      <td>3295</td>\n",
              "      <td>3295</td>\n",
              "      <td>3295</td>\n",
              "      <td>3295</td>\n",
              "      <td>3295</td>\n",
              "      <td>3295</td>\n",
              "      <td>3295</td>\n",
              "      <td>3295</td>\n",
              "    </tr>\n",
              "    <tr>\n",
              "      <th>Priv-house-serv</th>\n",
              "      <td>149</td>\n",
              "      <td>149</td>\n",
              "      <td>149</td>\n",
              "      <td>149</td>\n",
              "      <td>149</td>\n",
              "      <td>149</td>\n",
              "      <td>149</td>\n",
              "      <td>149</td>\n",
              "    </tr>\n",
              "    <tr>\n",
              "      <th>Prof-specialty</th>\n",
              "      <td>4140</td>\n",
              "      <td>4140</td>\n",
              "      <td>4140</td>\n",
              "      <td>4140</td>\n",
              "      <td>4140</td>\n",
              "      <td>4140</td>\n",
              "      <td>4140</td>\n",
              "      <td>4140</td>\n",
              "    </tr>\n",
              "    <tr>\n",
              "      <th>Protective-serv</th>\n",
              "      <td>649</td>\n",
              "      <td>649</td>\n",
              "      <td>649</td>\n",
              "      <td>649</td>\n",
              "      <td>649</td>\n",
              "      <td>649</td>\n",
              "      <td>649</td>\n",
              "      <td>649</td>\n",
              "    </tr>\n",
              "    <tr>\n",
              "      <th>Sales</th>\n",
              "      <td>3650</td>\n",
              "      <td>3650</td>\n",
              "      <td>3650</td>\n",
              "      <td>3650</td>\n",
              "      <td>3650</td>\n",
              "      <td>3650</td>\n",
              "      <td>3650</td>\n",
              "      <td>3650</td>\n",
              "    </tr>\n",
              "    <tr>\n",
              "      <th>Tech-support</th>\n",
              "      <td>928</td>\n",
              "      <td>928</td>\n",
              "      <td>928</td>\n",
              "      <td>928</td>\n",
              "      <td>928</td>\n",
              "      <td>928</td>\n",
              "      <td>928</td>\n",
              "      <td>928</td>\n",
              "    </tr>\n",
              "    <tr>\n",
              "      <th>Transport-moving</th>\n",
              "      <td>1597</td>\n",
              "      <td>1597</td>\n",
              "      <td>1597</td>\n",
              "      <td>1597</td>\n",
              "      <td>1597</td>\n",
              "      <td>1597</td>\n",
              "      <td>1597</td>\n",
              "      <td>1597</td>\n",
              "    </tr>\n",
              "    <tr>\n",
              "      <th>Prof-specialty</th>\n",
              "      <td>1843</td>\n",
              "      <td>1843</td>\n",
              "      <td>1843</td>\n",
              "      <td>1843</td>\n",
              "      <td>1843</td>\n",
              "      <td>1843</td>\n",
              "      <td>1843</td>\n",
              "      <td>1843</td>\n",
              "    </tr>\n",
              "  </tbody>\n",
              "</table>\n",
              "</div>"
            ],
            "text/plain": [
              "                    workclass  education  ...  native-country  income\n",
              "occupation                                ...                        \n",
              " Adm-clerical            3770       3770  ...            3770    3770\n",
              " Armed-Forces               9          9  ...               9       9\n",
              " Craft-repair            4099       4099  ...            4099    4099\n",
              " Exec-managerial         4066       4066  ...            4066    4066\n",
              " Farming-fishing          994        994  ...             994     994\n",
              " Handlers-cleaners       1370       1370  ...            1370    1370\n",
              " Machine-op-inspct       2002       2002  ...            2002    2002\n",
              " Other-service           3295       3295  ...            3295    3295\n",
              " Priv-house-serv          149        149  ...             149     149\n",
              " Prof-specialty          4140       4140  ...            4140    4140\n",
              " Protective-serv          649        649  ...             649     649\n",
              " Sales                   3650       3650  ...            3650    3650\n",
              " Tech-support             928        928  ...             928     928\n",
              " Transport-moving        1597       1597  ...            1597    1597\n",
              "Prof-specialty           1843       1843  ...            1843    1843\n",
              "\n",
              "[15 rows x 8 columns]"
            ]
          },
          "metadata": {
            "tags": []
          },
          "execution_count": 24
        }
      ]
    },
    {
      "cell_type": "code",
      "metadata": {
        "colab": {
          "base_uri": "https://localhost:8080/",
          "height": 296
        },
        "id": "xcsBev8V7IWt",
        "outputId": "d60e1d96-c28f-4eb8-cc24-cf45071fb321"
      },
      "source": [
        "# Plotting occupation vs income\n",
        "\n",
        "sns.countplot(y='occupation', hue='income', data = cat_columns)"
      ],
      "execution_count": null,
      "outputs": [
        {
          "output_type": "execute_result",
          "data": {
            "text/plain": [
              "<matplotlib.axes._subplots.AxesSubplot at 0x7fec4a9623c8>"
            ]
          },
          "metadata": {
            "tags": []
          },
          "execution_count": 25
        },
        {
          "output_type": "display_data",
          "data": {
            "image/png": "[encoded data removed]",
            "text/plain": [
              "<Figure size 432x288 with 1 Axes>"
            ]
          },
          "metadata": {
            "tags": [],
            "needs_background": "light"
          }
        }
      ]
    },
    {
      "cell_type": "code",
      "metadata": {
        "colab": {
          "base_uri": "https://localhost:8080/",
          "height": 136
        },
        "id": "Z3DzL3BzFHyY",
        "outputId": "db729030-e5e4-4e0e-dd92-270c4895e30d"
      },
      "source": [
        "# Effect of sex on income\n",
        "\n",
        "cat_columns.groupby('sex').count()"
      ],
      "execution_count": null,
      "outputs": [
        {
          "output_type": "execute_result",
          "data": {
            "text/html": [
              "<div>\n",
              "<style scoped>\n",
              "    .dataframe tbody tr th:only-of-type {\n",
              "        vertical-align: middle;\n",
              "    }\n",
              "\n",
              "    .dataframe tbody tr th {\n",
              "        vertical-align: top;\n",
              "    }\n",
              "\n",
              "    .dataframe thead th {\n",
              "        text-align: right;\n",
              "    }\n",
              "</style>\n",
              "<table border=\"1\" class=\"dataframe\">\n",
              "  <thead>\n",
              "    <tr style=\"text-align: right;\">\n",
              "      <th></th>\n",
              "      <th>workclass</th>\n",
              "      <th>education</th>\n",
              "      <th>marital-status</th>\n",
              "      <th>occupation</th>\n",
              "      <th>relationship</th>\n",
              "      <th>race</th>\n",
              "      <th>native-country</th>\n",
              "      <th>income</th>\n",
              "    </tr>\n",
              "    <tr>\n",
              "      <th>sex</th>\n",
              "      <th></th>\n",
              "      <th></th>\n",
              "      <th></th>\n",
              "      <th></th>\n",
              "      <th></th>\n",
              "      <th></th>\n",
              "      <th></th>\n",
              "      <th></th>\n",
              "    </tr>\n",
              "  </thead>\n",
              "  <tbody>\n",
              "    <tr>\n",
              "      <th>Female</th>\n",
              "      <td>10771</td>\n",
              "      <td>10771</td>\n",
              "      <td>10771</td>\n",
              "      <td>10771</td>\n",
              "      <td>10771</td>\n",
              "      <td>10771</td>\n",
              "      <td>10771</td>\n",
              "      <td>10771</td>\n",
              "    </tr>\n",
              "    <tr>\n",
              "      <th>Male</th>\n",
              "      <td>21790</td>\n",
              "      <td>21790</td>\n",
              "      <td>21790</td>\n",
              "      <td>21790</td>\n",
              "      <td>21790</td>\n",
              "      <td>21790</td>\n",
              "      <td>21790</td>\n",
              "      <td>21790</td>\n",
              "    </tr>\n",
              "  </tbody>\n",
              "</table>\n",
              "</div>"
            ],
            "text/plain": [
              "         workclass  education  marital-status  ...   race  native-country  income\n",
              "sex                                            ...                               \n",
              " Female      10771      10771           10771  ...  10771           10771   10771\n",
              " Male        21790      21790           21790  ...  21790           21790   21790\n",
              "\n",
              "[2 rows x 8 columns]"
            ]
          },
          "metadata": {
            "tags": []
          },
          "execution_count": 26
        }
      ]
    },
    {
      "cell_type": "code",
      "metadata": {
        "colab": {
          "base_uri": "https://localhost:8080/",
          "height": 296
        },
        "id": "WeMrIW5Q7ICM",
        "outputId": "b1129f51-62db-482b-d2f4-9a27e905e0c2"
      },
      "source": [
        "# Plotting sex vs income\n",
        "\n",
        "sns.countplot(y='sex', hue='income', data = cat_columns)"
      ],
      "execution_count": null,
      "outputs": [
        {
          "output_type": "execute_result",
          "data": {
            "text/plain": [
              "<matplotlib.axes._subplots.AxesSubplot at 0x7fec4a8931d0>"
            ]
          },
          "metadata": {
            "tags": []
          },
          "execution_count": 27
        },
        {
          "output_type": "display_data",
          "data": {
            "image/png": "[encoded data removed]",
            "text/plain": [
              "<Figure size 432x288 with 1 Axes>"
            ]
          },
          "metadata": {
            "tags": [],
            "needs_background": "light"
          }
        }
      ]
    },
    {
      "cell_type": "code",
      "metadata": {
        "colab": {
          "base_uri": "https://localhost:8080/",
          "height": 550
        },
        "id": "YIPVUW20FRdM",
        "outputId": "2ded7646-2431-4f4f-fb59-c1003de79ea4"
      },
      "source": [
        "# Relation between education and sex\n",
        "\n",
        "cat_columns.groupby('education').count()"
      ],
      "execution_count": null,
      "outputs": [
        {
          "output_type": "execute_result",
          "data": {
            "text/html": [
              "<div>\n",
              "<style scoped>\n",
              "    .dataframe tbody tr th:only-of-type {\n",
              "        vertical-align: middle;\n",
              "    }\n",
              "\n",
              "    .dataframe tbody tr th {\n",
              "        vertical-align: top;\n",
              "    }\n",
              "\n",
              "    .dataframe thead th {\n",
              "        text-align: right;\n",
              "    }\n",
              "</style>\n",
              "<table border=\"1\" class=\"dataframe\">\n",
              "  <thead>\n",
              "    <tr style=\"text-align: right;\">\n",
              "      <th></th>\n",
              "      <th>workclass</th>\n",
              "      <th>marital-status</th>\n",
              "      <th>occupation</th>\n",
              "      <th>relationship</th>\n",
              "      <th>race</th>\n",
              "      <th>sex</th>\n",
              "      <th>native-country</th>\n",
              "      <th>income</th>\n",
              "    </tr>\n",
              "    <tr>\n",
              "      <th>education</th>\n",
              "      <th></th>\n",
              "      <th></th>\n",
              "      <th></th>\n",
              "      <th></th>\n",
              "      <th></th>\n",
              "      <th></th>\n",
              "      <th></th>\n",
              "      <th></th>\n",
              "    </tr>\n",
              "  </thead>\n",
              "  <tbody>\n",
              "    <tr>\n",
              "      <th>10th</th>\n",
              "      <td>933</td>\n",
              "      <td>933</td>\n",
              "      <td>933</td>\n",
              "      <td>933</td>\n",
              "      <td>933</td>\n",
              "      <td>933</td>\n",
              "      <td>933</td>\n",
              "      <td>933</td>\n",
              "    </tr>\n",
              "    <tr>\n",
              "      <th>11th</th>\n",
              "      <td>1175</td>\n",
              "      <td>1175</td>\n",
              "      <td>1175</td>\n",
              "      <td>1175</td>\n",
              "      <td>1175</td>\n",
              "      <td>1175</td>\n",
              "      <td>1175</td>\n",
              "      <td>1175</td>\n",
              "    </tr>\n",
              "    <tr>\n",
              "      <th>12th</th>\n",
              "      <td>433</td>\n",
              "      <td>433</td>\n",
              "      <td>433</td>\n",
              "      <td>433</td>\n",
              "      <td>433</td>\n",
              "      <td>433</td>\n",
              "      <td>433</td>\n",
              "      <td>433</td>\n",
              "    </tr>\n",
              "    <tr>\n",
              "      <th>1st-4th</th>\n",
              "      <td>168</td>\n",
              "      <td>168</td>\n",
              "      <td>168</td>\n",
              "      <td>168</td>\n",
              "      <td>168</td>\n",
              "      <td>168</td>\n",
              "      <td>168</td>\n",
              "      <td>168</td>\n",
              "    </tr>\n",
              "    <tr>\n",
              "      <th>5th-6th</th>\n",
              "      <td>333</td>\n",
              "      <td>333</td>\n",
              "      <td>333</td>\n",
              "      <td>333</td>\n",
              "      <td>333</td>\n",
              "      <td>333</td>\n",
              "      <td>333</td>\n",
              "      <td>333</td>\n",
              "    </tr>\n",
              "    <tr>\n",
              "      <th>7th-8th</th>\n",
              "      <td>646</td>\n",
              "      <td>646</td>\n",
              "      <td>646</td>\n",
              "      <td>646</td>\n",
              "      <td>646</td>\n",
              "      <td>646</td>\n",
              "      <td>646</td>\n",
              "      <td>646</td>\n",
              "    </tr>\n",
              "    <tr>\n",
              "      <th>9th</th>\n",
              "      <td>514</td>\n",
              "      <td>514</td>\n",
              "      <td>514</td>\n",
              "      <td>514</td>\n",
              "      <td>514</td>\n",
              "      <td>514</td>\n",
              "      <td>514</td>\n",
              "      <td>514</td>\n",
              "    </tr>\n",
              "    <tr>\n",
              "      <th>Assoc-acdm</th>\n",
              "      <td>1067</td>\n",
              "      <td>1067</td>\n",
              "      <td>1067</td>\n",
              "      <td>1067</td>\n",
              "      <td>1067</td>\n",
              "      <td>1067</td>\n",
              "      <td>1067</td>\n",
              "      <td>1067</td>\n",
              "    </tr>\n",
              "    <tr>\n",
              "      <th>Assoc-voc</th>\n",
              "      <td>1382</td>\n",
              "      <td>1382</td>\n",
              "      <td>1382</td>\n",
              "      <td>1382</td>\n",
              "      <td>1382</td>\n",
              "      <td>1382</td>\n",
              "      <td>1382</td>\n",
              "      <td>1382</td>\n",
              "    </tr>\n",
              "    <tr>\n",
              "      <th>Bachelors</th>\n",
              "      <td>5355</td>\n",
              "      <td>5355</td>\n",
              "      <td>5355</td>\n",
              "      <td>5355</td>\n",
              "      <td>5355</td>\n",
              "      <td>5355</td>\n",
              "      <td>5355</td>\n",
              "      <td>5355</td>\n",
              "    </tr>\n",
              "    <tr>\n",
              "      <th>Doctorate</th>\n",
              "      <td>413</td>\n",
              "      <td>413</td>\n",
              "      <td>413</td>\n",
              "      <td>413</td>\n",
              "      <td>413</td>\n",
              "      <td>413</td>\n",
              "      <td>413</td>\n",
              "      <td>413</td>\n",
              "    </tr>\n",
              "    <tr>\n",
              "      <th>HS-grad</th>\n",
              "      <td>10501</td>\n",
              "      <td>10501</td>\n",
              "      <td>10501</td>\n",
              "      <td>10501</td>\n",
              "      <td>10501</td>\n",
              "      <td>10501</td>\n",
              "      <td>10501</td>\n",
              "      <td>10501</td>\n",
              "    </tr>\n",
              "    <tr>\n",
              "      <th>Masters</th>\n",
              "      <td>1723</td>\n",
              "      <td>1723</td>\n",
              "      <td>1723</td>\n",
              "      <td>1723</td>\n",
              "      <td>1723</td>\n",
              "      <td>1723</td>\n",
              "      <td>1723</td>\n",
              "      <td>1723</td>\n",
              "    </tr>\n",
              "    <tr>\n",
              "      <th>Preschool</th>\n",
              "      <td>51</td>\n",
              "      <td>51</td>\n",
              "      <td>51</td>\n",
              "      <td>51</td>\n",
              "      <td>51</td>\n",
              "      <td>51</td>\n",
              "      <td>51</td>\n",
              "      <td>51</td>\n",
              "    </tr>\n",
              "    <tr>\n",
              "      <th>Prof-school</th>\n",
              "      <td>576</td>\n",
              "      <td>576</td>\n",
              "      <td>576</td>\n",
              "      <td>576</td>\n",
              "      <td>576</td>\n",
              "      <td>576</td>\n",
              "      <td>576</td>\n",
              "      <td>576</td>\n",
              "    </tr>\n",
              "    <tr>\n",
              "      <th>Some-college</th>\n",
              "      <td>7291</td>\n",
              "      <td>7291</td>\n",
              "      <td>7291</td>\n",
              "      <td>7291</td>\n",
              "      <td>7291</td>\n",
              "      <td>7291</td>\n",
              "      <td>7291</td>\n",
              "      <td>7291</td>\n",
              "    </tr>\n",
              "  </tbody>\n",
              "</table>\n",
              "</div>"
            ],
            "text/plain": [
              "               workclass  marital-status  ...  native-country  income\n",
              "education                                 ...                        \n",
              " 10th                933             933  ...             933     933\n",
              " 11th               1175            1175  ...            1175    1175\n",
              " 12th                433             433  ...             433     433\n",
              " 1st-4th             168             168  ...             168     168\n",
              " 5th-6th             333             333  ...             333     333\n",
              " 7th-8th             646             646  ...             646     646\n",
              " 9th                 514             514  ...             514     514\n",
              " Assoc-acdm         1067            1067  ...            1067    1067\n",
              " Assoc-voc          1382            1382  ...            1382    1382\n",
              " Bachelors          5355            5355  ...            5355    5355\n",
              " Doctorate           413             413  ...             413     413\n",
              " HS-grad           10501           10501  ...           10501   10501\n",
              " Masters            1723            1723  ...            1723    1723\n",
              " Preschool            51              51  ...              51      51\n",
              " Prof-school         576             576  ...             576     576\n",
              " Some-college       7291            7291  ...            7291    7291\n",
              "\n",
              "[16 rows x 8 columns]"
            ]
          },
          "metadata": {
            "tags": []
          },
          "execution_count": 28
        }
      ]
    },
    {
      "cell_type": "code",
      "metadata": {
        "colab": {
          "base_uri": "https://localhost:8080/",
          "height": 311
        },
        "id": "MDorJKFu91P_",
        "outputId": "2afec8bb-19a9-4814-f763-29bbbc0666f0"
      },
      "source": [
        "# Plotting sex vs education\n",
        "\n",
        "sns.countplot(y = 'sex', hue = 'education', data = cat_columns)"
      ],
      "execution_count": null,
      "outputs": [
        {
          "output_type": "execute_result",
          "data": {
            "text/plain": [
              "<matplotlib.axes._subplots.AxesSubplot at 0x7fec4a81acf8>"
            ]
          },
          "metadata": {
            "tags": []
          },
          "execution_count": 29
        },
        {
          "output_type": "display_data",
          "data": {
            "image/png": "[encoded data removed]",
            "text/plain": [
              "<Figure size 432x288 with 1 Axes>"
            ]
          },
          "metadata": {
            "tags": [],
            "needs_background": "light"
          }
        }
      ]
    },
    {
      "cell_type": "code",
      "metadata": {
        "colab": {
          "base_uri": "https://localhost:8080/",
          "height": 284
        },
        "id": "joKfOv8R91MT",
        "outputId": "9e3bc5fe-151f-45f6-81d9-38cc34d31164"
      },
      "source": [
        "# Effect of marital status on income\n",
        "\n",
        "cat_columns.groupby('marital-status').count()"
      ],
      "execution_count": null,
      "outputs": [
        {
          "output_type": "execute_result",
          "data": {
            "text/html": [
              "<div>\n",
              "<style scoped>\n",
              "    .dataframe tbody tr th:only-of-type {\n",
              "        vertical-align: middle;\n",
              "    }\n",
              "\n",
              "    .dataframe tbody tr th {\n",
              "        vertical-align: top;\n",
              "    }\n",
              "\n",
              "    .dataframe thead th {\n",
              "        text-align: right;\n",
              "    }\n",
              "</style>\n",
              "<table border=\"1\" class=\"dataframe\">\n",
              "  <thead>\n",
              "    <tr style=\"text-align: right;\">\n",
              "      <th></th>\n",
              "      <th>workclass</th>\n",
              "      <th>education</th>\n",
              "      <th>occupation</th>\n",
              "      <th>relationship</th>\n",
              "      <th>race</th>\n",
              "      <th>sex</th>\n",
              "      <th>native-country</th>\n",
              "      <th>income</th>\n",
              "    </tr>\n",
              "    <tr>\n",
              "      <th>marital-status</th>\n",
              "      <th></th>\n",
              "      <th></th>\n",
              "      <th></th>\n",
              "      <th></th>\n",
              "      <th></th>\n",
              "      <th></th>\n",
              "      <th></th>\n",
              "      <th></th>\n",
              "    </tr>\n",
              "  </thead>\n",
              "  <tbody>\n",
              "    <tr>\n",
              "      <th>Divorced</th>\n",
              "      <td>4443</td>\n",
              "      <td>4443</td>\n",
              "      <td>4443</td>\n",
              "      <td>4443</td>\n",
              "      <td>4443</td>\n",
              "      <td>4443</td>\n",
              "      <td>4443</td>\n",
              "      <td>4443</td>\n",
              "    </tr>\n",
              "    <tr>\n",
              "      <th>Married-AF-spouse</th>\n",
              "      <td>23</td>\n",
              "      <td>23</td>\n",
              "      <td>23</td>\n",
              "      <td>23</td>\n",
              "      <td>23</td>\n",
              "      <td>23</td>\n",
              "      <td>23</td>\n",
              "      <td>23</td>\n",
              "    </tr>\n",
              "    <tr>\n",
              "      <th>Married-civ-spouse</th>\n",
              "      <td>14976</td>\n",
              "      <td>14976</td>\n",
              "      <td>14976</td>\n",
              "      <td>14976</td>\n",
              "      <td>14976</td>\n",
              "      <td>14976</td>\n",
              "      <td>14976</td>\n",
              "      <td>14976</td>\n",
              "    </tr>\n",
              "    <tr>\n",
              "      <th>Married-spouse-absent</th>\n",
              "      <td>418</td>\n",
              "      <td>418</td>\n",
              "      <td>418</td>\n",
              "      <td>418</td>\n",
              "      <td>418</td>\n",
              "      <td>418</td>\n",
              "      <td>418</td>\n",
              "      <td>418</td>\n",
              "    </tr>\n",
              "    <tr>\n",
              "      <th>Never-married</th>\n",
              "      <td>10683</td>\n",
              "      <td>10683</td>\n",
              "      <td>10683</td>\n",
              "      <td>10683</td>\n",
              "      <td>10683</td>\n",
              "      <td>10683</td>\n",
              "      <td>10683</td>\n",
              "      <td>10683</td>\n",
              "    </tr>\n",
              "    <tr>\n",
              "      <th>Separated</th>\n",
              "      <td>1025</td>\n",
              "      <td>1025</td>\n",
              "      <td>1025</td>\n",
              "      <td>1025</td>\n",
              "      <td>1025</td>\n",
              "      <td>1025</td>\n",
              "      <td>1025</td>\n",
              "      <td>1025</td>\n",
              "    </tr>\n",
              "    <tr>\n",
              "      <th>Widowed</th>\n",
              "      <td>993</td>\n",
              "      <td>993</td>\n",
              "      <td>993</td>\n",
              "      <td>993</td>\n",
              "      <td>993</td>\n",
              "      <td>993</td>\n",
              "      <td>993</td>\n",
              "      <td>993</td>\n",
              "    </tr>\n",
              "  </tbody>\n",
              "</table>\n",
              "</div>"
            ],
            "text/plain": [
              "                        workclass  education  ...  native-country  income\n",
              "marital-status                                ...                        \n",
              " Divorced                    4443       4443  ...            4443    4443\n",
              " Married-AF-spouse             23         23  ...              23      23\n",
              " Married-civ-spouse         14976      14976  ...           14976   14976\n",
              " Married-spouse-absent        418        418  ...             418     418\n",
              " Never-married              10683      10683  ...           10683   10683\n",
              " Separated                   1025       1025  ...            1025    1025\n",
              " Widowed                      993        993  ...             993     993\n",
              "\n",
              "[7 rows x 8 columns]"
            ]
          },
          "metadata": {
            "tags": []
          },
          "execution_count": 30
        }
      ]
    },
    {
      "cell_type": "code",
      "metadata": {
        "colab": {
          "base_uri": "https://localhost:8080/",
          "height": 296
        },
        "id": "gMWqjdFtBeL7",
        "outputId": "96d07194-e9bf-41f5-bc9e-f3f090969134"
      },
      "source": [
        "# Plotting marital status vs income\n",
        "\n",
        "sns.countplot(y = 'marital-status', hue = 'income', data = cat_columns)"
      ],
      "execution_count": null,
      "outputs": [
        {
          "output_type": "execute_result",
          "data": {
            "text/plain": [
              "<matplotlib.axes._subplots.AxesSubplot at 0x7fea28606c18>"
            ]
          },
          "metadata": {
            "tags": []
          },
          "execution_count": 40
        },
        {
          "output_type": "display_data",
          "data": {
            "image/png": "[encoded data removed]",
            "text/plain": [
              "<Figure size 432x288 with 1 Axes>"
            ]
          },
          "metadata": {
            "tags": [],
            "needs_background": "light"
          }
        }
      ]
    },
    {
      "cell_type": "markdown",
      "metadata": {
        "id": "ID0aohMuHTLK"
      },
      "source": [
        "### 3. Hypothesis testing\n"
      ]
    },
    {
      "cell_type": "markdown",
      "metadata": {
        "id": "j5k-FYvNHXm5"
      },
      "source": [
        "1. To test the relationship between workclass and income"
      ]
    },
    {
      "cell_type": "markdown",
      "metadata": {
        "id": "SRnQnQN7Hyfg"
      },
      "source": [
        "**Chi-square goodness of fit :** A chi-square goodness of fit test allows us to test whether the observed proportions for a categorical variable differ from hypothesized proportions. The chi-square statistical test is used to determine whether there’s a significant difference between an expected distribution and an actual distribution."
      ]
    },
    {
      "cell_type": "code",
      "metadata": {
        "colab": {
          "base_uri": "https://localhost:8080/",
          "height": 254
        },
        "id": "SkBi6eyBHo7V",
        "outputId": "6ea5029f-2883-48f5-fa2c-1c3a4cfda9c1"
      },
      "source": [
        "# Contingency table\n",
        "\n",
        "contingency_table = pd.crosstab(train['workclass'].sample(frac=0.002, replace=True, random_state=1),\n",
        "                                train['income'].sample(frac=0.002, replace=True, random_state=1),margins = False) \n",
        "contingency_table"
      ],
      "execution_count": null,
      "outputs": [
        {
          "output_type": "execute_result",
          "data": {
            "text/html": [
              "<div>\n",
              "<style scoped>\n",
              "    .dataframe tbody tr th:only-of-type {\n",
              "        vertical-align: middle;\n",
              "    }\n",
              "\n",
              "    .dataframe tbody tr th {\n",
              "        vertical-align: top;\n",
              "    }\n",
              "\n",
              "    .dataframe thead th {\n",
              "        text-align: right;\n",
              "    }\n",
              "</style>\n",
              "<table border=\"1\" class=\"dataframe\">\n",
              "  <thead>\n",
              "    <tr style=\"text-align: right;\">\n",
              "      <th>income</th>\n",
              "      <th>&lt;=50K</th>\n",
              "      <th>&gt;50K</th>\n",
              "    </tr>\n",
              "    <tr>\n",
              "      <th>workclass</th>\n",
              "      <th></th>\n",
              "      <th></th>\n",
              "    </tr>\n",
              "  </thead>\n",
              "  <tbody>\n",
              "    <tr>\n",
              "      <th>Local-gov</th>\n",
              "      <td>2</td>\n",
              "      <td>3</td>\n",
              "    </tr>\n",
              "    <tr>\n",
              "      <th>Private</th>\n",
              "      <td>38</td>\n",
              "      <td>8</td>\n",
              "    </tr>\n",
              "    <tr>\n",
              "      <th>Self-emp-inc</th>\n",
              "      <td>1</td>\n",
              "      <td>1</td>\n",
              "    </tr>\n",
              "    <tr>\n",
              "      <th>Self-emp-not-inc</th>\n",
              "      <td>3</td>\n",
              "      <td>0</td>\n",
              "    </tr>\n",
              "    <tr>\n",
              "      <th>State-gov</th>\n",
              "      <td>5</td>\n",
              "      <td>0</td>\n",
              "    </tr>\n",
              "    <tr>\n",
              "      <th>Private</th>\n",
              "      <td>4</td>\n",
              "      <td>0</td>\n",
              "    </tr>\n",
              "  </tbody>\n",
              "</table>\n",
              "</div>"
            ],
            "text/plain": [
              "income              <=50K   >50K\n",
              "workclass                       \n",
              " Local-gov              2      3\n",
              " Private               38      8\n",
              " Self-emp-inc           1      1\n",
              " Self-emp-not-inc       3      0\n",
              " State-gov              5      0\n",
              "Private                 4      0"
            ]
          },
          "metadata": {
            "tags": []
          },
          "execution_count": 41
        }
      ]
    },
    {
      "cell_type": "markdown",
      "metadata": {
        "id": "tYBk0boSIl6E"
      },
      "source": [
        "The table determines whether one variable is depends on the other variable. This table is called contingency table. We can also determine the dependency using a statistical method called Pearson's Chi-Squared test."
      ]
    },
    {
      "cell_type": "markdown",
      "metadata": {
        "id": "gRSo2LWbJj_q"
      },
      "source": [
        "**H0 :** There is no relationship between workclass and income\\\n",
        "**H1 :** There is a relationship between workclass and income"
      ]
    },
    {
      "cell_type": "code",
      "metadata": {
        "colab": {
          "base_uri": "https://localhost:8080/"
        },
        "id": "Tv2w8z66J0hl",
        "outputId": "84f94e7a-510d-4dbf-b41b-5dc614123c6f"
      },
      "source": [
        "stat, p, dof, expected = chi2_contingency(contingency_table)\n",
        "print('degrees of freedom=%d' % dof)\n",
        "print('p_value', p)\n",
        "print(expected)\n",
        "\n",
        "# interpret test-statistic\n",
        "prob = 0.95\n",
        "critical = chi2.ppf(prob, dof)\n",
        "print('probability=%.3f, critical value=%.3f, statistic=%.3f' % (prob, critical, stat))\n",
        "if abs(stat) >= critical:\n",
        "    print('Result : Dependent (reject H0)')\n",
        "else:\n",
        "    print('Result : Independent (fail to reject H0)')"
      ],
      "execution_count": null,
      "outputs": [
        {
          "output_type": "stream",
          "text": [
            "degrees of freedom=5\n",
            "p_value 0.08096328825908083\n",
            "[[ 4.07692308  0.92307692]\n",
            " [37.50769231  8.49230769]\n",
            " [ 1.63076923  0.36923077]\n",
            " [ 2.44615385  0.55384615]\n",
            " [ 4.07692308  0.92307692]\n",
            " [ 3.26153846  0.73846154]]\n",
            "probability=0.950, critical value=11.070, statistic=9.805\n",
            "Result : Independent (fail to reject H0)\n"
          ],
          "name": "stdout"
        }
      ]
    },
    {
      "cell_type": "markdown",
      "metadata": {
        "id": "eDUpAfaMKRhw"
      },
      "source": [
        "We can interpret the test statistic in the context of the chi-squared distribution with the requisite number of degress of freedom as follows:\\\n",
        "\n",
        "If Statistic >= Critical Value: significant result, reject null hypothesis (H0), dependent.\\\n",
        "If Statistic < Critical Value: not significant result, fail to reject null hypothesis (H0), independent.\n",
        "\n",
        "**Conclusion :** As we have accept the null hypothesis, that is, H0 we can conclude that there is no dependency between workclass and income"
      ]
    },
    {
      "cell_type": "markdown",
      "metadata": {
        "id": "eTZZsL9_LtrS"
      },
      "source": [
        "2. To test the relationship between education and income"
      ]
    },
    {
      "cell_type": "markdown",
      "metadata": {
        "id": "eqwWx4x8L2v-"
      },
      "source": [
        "**H0 :** There is no relationship between education and income\\\n",
        "**H1 :** There is a relationship between educaion and income"
      ]
    },
    {
      "cell_type": "code",
      "metadata": {
        "colab": {
          "base_uri": "https://localhost:8080/",
          "height": 432
        },
        "id": "lLXz84-sMDt5",
        "outputId": "14e56680-9c6f-485c-bfac-2992a3d822d7"
      },
      "source": [
        "# Contingency table\n",
        "\n",
        "contingency_table = pd.crosstab(train['education'].sample(frac=0.002, replace=True, random_state=1),\n",
        "                                train['income'].sample(frac=0.002, replace=True, random_state=1),margins = False) \n",
        "contingency_table"
      ],
      "execution_count": null,
      "outputs": [
        {
          "output_type": "execute_result",
          "data": {
            "text/html": [
              "<div>\n",
              "<style scoped>\n",
              "    .dataframe tbody tr th:only-of-type {\n",
              "        vertical-align: middle;\n",
              "    }\n",
              "\n",
              "    .dataframe tbody tr th {\n",
              "        vertical-align: top;\n",
              "    }\n",
              "\n",
              "    .dataframe thead th {\n",
              "        text-align: right;\n",
              "    }\n",
              "</style>\n",
              "<table border=\"1\" class=\"dataframe\">\n",
              "  <thead>\n",
              "    <tr style=\"text-align: right;\">\n",
              "      <th>income</th>\n",
              "      <th>&lt;=50K</th>\n",
              "      <th>&gt;50K</th>\n",
              "    </tr>\n",
              "    <tr>\n",
              "      <th>education</th>\n",
              "      <th></th>\n",
              "      <th></th>\n",
              "    </tr>\n",
              "  </thead>\n",
              "  <tbody>\n",
              "    <tr>\n",
              "      <th>10th</th>\n",
              "      <td>1</td>\n",
              "      <td>0</td>\n",
              "    </tr>\n",
              "    <tr>\n",
              "      <th>11th</th>\n",
              "      <td>4</td>\n",
              "      <td>0</td>\n",
              "    </tr>\n",
              "    <tr>\n",
              "      <th>7th-8th</th>\n",
              "      <td>1</td>\n",
              "      <td>0</td>\n",
              "    </tr>\n",
              "    <tr>\n",
              "      <th>9th</th>\n",
              "      <td>3</td>\n",
              "      <td>0</td>\n",
              "    </tr>\n",
              "    <tr>\n",
              "      <th>Assoc-acdm</th>\n",
              "      <td>2</td>\n",
              "      <td>0</td>\n",
              "    </tr>\n",
              "    <tr>\n",
              "      <th>Assoc-voc</th>\n",
              "      <td>2</td>\n",
              "      <td>2</td>\n",
              "    </tr>\n",
              "    <tr>\n",
              "      <th>Bachelors</th>\n",
              "      <td>7</td>\n",
              "      <td>4</td>\n",
              "    </tr>\n",
              "    <tr>\n",
              "      <th>Doctorate</th>\n",
              "      <td>1</td>\n",
              "      <td>0</td>\n",
              "    </tr>\n",
              "    <tr>\n",
              "      <th>HS-grad</th>\n",
              "      <td>22</td>\n",
              "      <td>1</td>\n",
              "    </tr>\n",
              "    <tr>\n",
              "      <th>Masters</th>\n",
              "      <td>2</td>\n",
              "      <td>2</td>\n",
              "    </tr>\n",
              "    <tr>\n",
              "      <th>Prof-school</th>\n",
              "      <td>1</td>\n",
              "      <td>0</td>\n",
              "    </tr>\n",
              "    <tr>\n",
              "      <th>Some-college</th>\n",
              "      <td>7</td>\n",
              "      <td>3</td>\n",
              "    </tr>\n",
              "  </tbody>\n",
              "</table>\n",
              "</div>"
            ],
            "text/plain": [
              "income          <=50K   >50K\n",
              "education                   \n",
              " 10th               1      0\n",
              " 11th               4      0\n",
              " 7th-8th            1      0\n",
              " 9th                3      0\n",
              " Assoc-acdm         2      0\n",
              " Assoc-voc          2      2\n",
              " Bachelors          7      4\n",
              " Doctorate          1      0\n",
              " HS-grad           22      1\n",
              " Masters            2      2\n",
              " Prof-school        1      0\n",
              " Some-college       7      3"
            ]
          },
          "metadata": {
            "tags": []
          },
          "execution_count": 46
        }
      ]
    },
    {
      "cell_type": "code",
      "metadata": {
        "colab": {
          "base_uri": "https://localhost:8080/"
        },
        "id": "GSjidPARMJJx",
        "outputId": "51fee0b3-d9f4-4f49-fb51-17ed628881d0"
      },
      "source": [
        "stat, p, dof, expected = chi2_contingency(contingency_table)\n",
        "print('degrees of freedom=%d' % dof)\n",
        "print('p_value', p)\n",
        "print(expected)\n",
        "\n",
        "# interpret test-statistic\n",
        "prob = 0.95\n",
        "critical = chi2.ppf(prob, dof)\n",
        "print('probability=%.3f, critical value=%.3f, statistic=%.3f' % (prob, critical, stat))\n",
        "if abs(stat) >= critical:\n",
        "    print('Result : Dependent (reject H0)')\n",
        "else:\n",
        "    print('Result : Independent (fail to reject H0)')"
      ],
      "execution_count": null,
      "outputs": [
        {
          "output_type": "stream",
          "text": [
            "degrees of freedom=11\n",
            "p_value 0.20657766122750312\n",
            "[[ 0.81538462  0.18461538]\n",
            " [ 3.26153846  0.73846154]\n",
            " [ 0.81538462  0.18461538]\n",
            " [ 2.44615385  0.55384615]\n",
            " [ 1.63076923  0.36923077]\n",
            " [ 3.26153846  0.73846154]\n",
            " [ 8.96923077  2.03076923]\n",
            " [ 0.81538462  0.18461538]\n",
            " [18.75384615  4.24615385]\n",
            " [ 3.26153846  0.73846154]\n",
            " [ 0.81538462  0.18461538]\n",
            " [ 8.15384615  1.84615385]]\n",
            "probability=0.950, critical value=19.675, statistic=14.499\n",
            "Result : Independent (fail to reject H0)\n"
          ],
          "name": "stdout"
        }
      ]
    },
    {
      "cell_type": "markdown",
      "metadata": {
        "id": "uuOLrBhvMTIG"
      },
      "source": [
        "**Conclusion :** As we have accept the null hypothesis, that is, H0 we can conclude that there is no dependency between education and income"
      ]
    },
    {
      "cell_type": "markdown",
      "metadata": {
        "id": "At67UkVjNIwN"
      },
      "source": [
        "3. To test the relationship between gender and income"
      ]
    },
    {
      "cell_type": "markdown",
      "metadata": {
        "id": "60A6s_fBNVp0"
      },
      "source": [
        "**H0 :** There is no relationship between gender and income\\\n",
        "**H1 :** There is a relationship between gender and income"
      ]
    },
    {
      "cell_type": "code",
      "metadata": {
        "colab": {
          "base_uri": "https://localhost:8080/",
          "height": 136
        },
        "id": "n0o1wB2ONRjj",
        "outputId": "1ec149d2-b6dd-4f5c-aed7-d79ccc4ac6cd"
      },
      "source": [
        "# Contingency table\n",
        "\n",
        "contingency_table = pd.crosstab(train['sex'].sample(frac=0.002, replace=True, random_state=1),\n",
        "                                train['income'].sample(frac=0.002, replace=True, random_state=1),margins = False) \n",
        "contingency_table"
      ],
      "execution_count": null,
      "outputs": [
        {
          "output_type": "execute_result",
          "data": {
            "text/html": [
              "<div>\n",
              "<style scoped>\n",
              "    .dataframe tbody tr th:only-of-type {\n",
              "        vertical-align: middle;\n",
              "    }\n",
              "\n",
              "    .dataframe tbody tr th {\n",
              "        vertical-align: top;\n",
              "    }\n",
              "\n",
              "    .dataframe thead th {\n",
              "        text-align: right;\n",
              "    }\n",
              "</style>\n",
              "<table border=\"1\" class=\"dataframe\">\n",
              "  <thead>\n",
              "    <tr style=\"text-align: right;\">\n",
              "      <th>income</th>\n",
              "      <th>&lt;=50K</th>\n",
              "      <th>&gt;50K</th>\n",
              "    </tr>\n",
              "    <tr>\n",
              "      <th>sex</th>\n",
              "      <th></th>\n",
              "      <th></th>\n",
              "    </tr>\n",
              "  </thead>\n",
              "  <tbody>\n",
              "    <tr>\n",
              "      <th>Female</th>\n",
              "      <td>17</td>\n",
              "      <td>0</td>\n",
              "    </tr>\n",
              "    <tr>\n",
              "      <th>Male</th>\n",
              "      <td>36</td>\n",
              "      <td>12</td>\n",
              "    </tr>\n",
              "  </tbody>\n",
              "</table>\n",
              "</div>"
            ],
            "text/plain": [
              "income    <=50K   >50K\n",
              "sex                   \n",
              " Female      17      0\n",
              " Male        36     12"
            ]
          },
          "metadata": {
            "tags": []
          },
          "execution_count": 48
        }
      ]
    },
    {
      "cell_type": "code",
      "metadata": {
        "colab": {
          "base_uri": "https://localhost:8080/"
        },
        "id": "hMp4rp9NNRWX",
        "outputId": "63e9f1da-bcf5-4255-eb5c-3f596bf9d0a3"
      },
      "source": [
        "stat, p, dof, expected = chi2_contingency(contingency_table)\n",
        "print('degrees of freedom=%d' % dof)\n",
        "print('p_value', p)\n",
        "print(expected)\n",
        "\n",
        "# interpret test-statistic\n",
        "prob = 0.95\n",
        "critical = chi2.ppf(prob, dof)\n",
        "print('probability=%.3f, critical value=%.3f, statistic=%.3f' % (prob, critical, stat))\n",
        "if abs(stat) >= critical:\n",
        "    print('Result : Dependent (reject H0)')\n",
        "else:\n",
        "    print('Result : Independent (fail to reject H0)')"
      ],
      "execution_count": null,
      "outputs": [
        {
          "output_type": "stream",
          "text": [
            "degrees of freedom=1\n",
            "p_value 0.05494397325265139\n",
            "[[13.86153846  3.13846154]\n",
            " [39.13846154  8.86153846]]\n",
            "probability=0.950, critical value=3.841, statistic=3.684\n",
            "Result : Independent (fail to reject H0)\n"
          ],
          "name": "stdout"
        }
      ]
    },
    {
      "cell_type": "markdown",
      "metadata": {
        "id": "ofPukyj9N7ll"
      },
      "source": [
        "**Conclusion :** As we have accept the null hypothesis, that is, H0 we can conclude that there is no dependency between gender and income"
      ]
    },
    {
      "cell_type": "markdown",
      "metadata": {
        "id": "3bAV3-WlPZju"
      },
      "source": [
        "### 4. Correlation"
      ]
    },
    {
      "cell_type": "markdown",
      "metadata": {
        "id": "bqtI4vBcPcm0"
      },
      "source": [
        "Correlation between the numerical variables"
      ]
    },
    {
      "cell_type": "code",
      "metadata": {
        "colab": {
          "base_uri": "https://localhost:8080/",
          "height": 619
        },
        "id": "HWSSizuqPi-7",
        "outputId": "d45569cc-4e03-4e99-8c1c-7dc9c65bb5aa"
      },
      "source": [
        "plt.figure(figsize=(15,10))  \n",
        "sns.heatmap(num_columns.corr(),annot=True,linewidths=.5, cmap=\"Blues\")\n",
        "plt.title('Heatmap showing correlations between numerical data')\n",
        "plt.show()\n"
      ],
      "execution_count": null,
      "outputs": [
        {
          "output_type": "display_data",
          "data": {
            "image/png": "[encoded data removed]",
            "text/plain": [
              "<Figure size 1080x720 with 2 Axes>"
            ]
          },
          "metadata": {
            "tags": [],
            "needs_background": "light"
          }
        }
      ]
    },
    {
      "cell_type": "markdown",
      "metadata": {
        "id": "Fk0Q9kHvQ7_l"
      },
      "source": [
        "**Interpretation :** \n",
        "1. There is no strong correlation between the numerical attributes\n",
        "2. There is neither strong positive correlation nor strong negative correlation between the variables.\n",
        "3. The strongest correlation is 0.078, which is between capital-gain and hours_per_week, which is also less than 0.1."
      ]
    },
    {
      "cell_type": "markdown",
      "metadata": {
        "id": "GiY3oDc_STqC"
      },
      "source": [
        "# Data Preprocessing"
      ]
    },
    {
      "cell_type": "markdown",
      "metadata": {
        "id": "o_fKoFofgW2z"
      },
      "source": [
        "### 1. Encoding:\n",
        "Encoding the categorical variable"
      ]
    },
    {
      "cell_type": "code",
      "metadata": {
        "id": "P2QsxHaGtgJ4"
      },
      "source": [
        "# Income for train data\n",
        "\n",
        "train.income = train.income.replace(\" <=50K\", 0)\n",
        "train.income = train.income.replace(\" >50K\", 1)"
      ],
      "execution_count": null,
      "outputs": []
    },
    {
      "cell_type": "code",
      "metadata": {
        "colab": {
          "base_uri": "https://localhost:8080/",
          "height": 383
        },
        "id": "5CeKn76olISz",
        "outputId": "abb06b49-9622-4fbd-c258-48a66fef8466"
      },
      "source": [
        "train.head()"
      ],
      "execution_count": null,
      "outputs": [
        {
          "output_type": "execute_result",
          "data": {
            "text/html": [
              "<div>\n",
              "<style scoped>\n",
              "    .dataframe tbody tr th:only-of-type {\n",
              "        vertical-align: middle;\n",
              "    }\n",
              "\n",
              "    .dataframe tbody tr th {\n",
              "        vertical-align: top;\n",
              "    }\n",
              "\n",
              "    .dataframe thead th {\n",
              "        text-align: right;\n",
              "    }\n",
              "</style>\n",
              "<table border=\"1\" class=\"dataframe\">\n",
              "  <thead>\n",
              "    <tr style=\"text-align: right;\">\n",
              "      <th></th>\n",
              "      <th>age</th>\n",
              "      <th>workclass</th>\n",
              "      <th>fnlwgt</th>\n",
              "      <th>education</th>\n",
              "      <th>education_num</th>\n",
              "      <th>marital-status</th>\n",
              "      <th>occupation</th>\n",
              "      <th>relationship</th>\n",
              "      <th>race</th>\n",
              "      <th>sex</th>\n",
              "      <th>capital-gain</th>\n",
              "      <th>capital-loss</th>\n",
              "      <th>hours-per-week</th>\n",
              "      <th>native-country</th>\n",
              "      <th>income</th>\n",
              "    </tr>\n",
              "  </thead>\n",
              "  <tbody>\n",
              "    <tr>\n",
              "      <th>0</th>\n",
              "      <td>39</td>\n",
              "      <td>State-gov</td>\n",
              "      <td>77516</td>\n",
              "      <td>Bachelors</td>\n",
              "      <td>13</td>\n",
              "      <td>Never-married</td>\n",
              "      <td>Adm-clerical</td>\n",
              "      <td>Not-in-family</td>\n",
              "      <td>White</td>\n",
              "      <td>Male</td>\n",
              "      <td>2174</td>\n",
              "      <td>0</td>\n",
              "      <td>40</td>\n",
              "      <td>United-States</td>\n",
              "      <td>0</td>\n",
              "    </tr>\n",
              "    <tr>\n",
              "      <th>1</th>\n",
              "      <td>50</td>\n",
              "      <td>Self-emp-not-inc</td>\n",
              "      <td>83311</td>\n",
              "      <td>Bachelors</td>\n",
              "      <td>13</td>\n",
              "      <td>Married-civ-spouse</td>\n",
              "      <td>Exec-managerial</td>\n",
              "      <td>Husband</td>\n",
              "      <td>White</td>\n",
              "      <td>Male</td>\n",
              "      <td>0</td>\n",
              "      <td>0</td>\n",
              "      <td>13</td>\n",
              "      <td>United-States</td>\n",
              "      <td>0</td>\n",
              "    </tr>\n",
              "    <tr>\n",
              "      <th>2</th>\n",
              "      <td>38</td>\n",
              "      <td>Private</td>\n",
              "      <td>215646</td>\n",
              "      <td>HS-grad</td>\n",
              "      <td>9</td>\n",
              "      <td>Divorced</td>\n",
              "      <td>Handlers-cleaners</td>\n",
              "      <td>Not-in-family</td>\n",
              "      <td>White</td>\n",
              "      <td>Male</td>\n",
              "      <td>0</td>\n",
              "      <td>0</td>\n",
              "      <td>40</td>\n",
              "      <td>United-States</td>\n",
              "      <td>0</td>\n",
              "    </tr>\n",
              "    <tr>\n",
              "      <th>3</th>\n",
              "      <td>53</td>\n",
              "      <td>Private</td>\n",
              "      <td>234721</td>\n",
              "      <td>11th</td>\n",
              "      <td>7</td>\n",
              "      <td>Married-civ-spouse</td>\n",
              "      <td>Handlers-cleaners</td>\n",
              "      <td>Husband</td>\n",
              "      <td>Black</td>\n",
              "      <td>Male</td>\n",
              "      <td>0</td>\n",
              "      <td>0</td>\n",
              "      <td>40</td>\n",
              "      <td>United-States</td>\n",
              "      <td>0</td>\n",
              "    </tr>\n",
              "    <tr>\n",
              "      <th>4</th>\n",
              "      <td>28</td>\n",
              "      <td>Private</td>\n",
              "      <td>338409</td>\n",
              "      <td>Bachelors</td>\n",
              "      <td>13</td>\n",
              "      <td>Married-civ-spouse</td>\n",
              "      <td>Prof-specialty</td>\n",
              "      <td>Wife</td>\n",
              "      <td>Black</td>\n",
              "      <td>Female</td>\n",
              "      <td>0</td>\n",
              "      <td>0</td>\n",
              "      <td>40</td>\n",
              "      <td>Cuba</td>\n",
              "      <td>0</td>\n",
              "    </tr>\n",
              "  </tbody>\n",
              "</table>\n",
              "</div>"
            ],
            "text/plain": [
              "   age          workclass  fnlwgt  ... hours-per-week  native-country income\n",
              "0   39          State-gov   77516  ...             40   United-States      0\n",
              "1   50   Self-emp-not-inc   83311  ...             13   United-States      0\n",
              "2   38            Private  215646  ...             40   United-States      0\n",
              "3   53            Private  234721  ...             40   United-States      0\n",
              "4   28            Private  338409  ...             40            Cuba      0\n",
              "\n",
              "[5 rows x 15 columns]"
            ]
          },
          "metadata": {
            "tags": []
          },
          "execution_count": 32
        }
      ]
    },
    {
      "cell_type": "code",
      "metadata": {
        "id": "9GNUvCqic5l_"
      },
      "source": [
        "# Income for test data\n",
        "\n",
        "test.income = test.income.replace(\" <=50K.\", 0)\n",
        "test.income = test.income.replace(\" >50K.\", 1)"
      ],
      "execution_count": null,
      "outputs": []
    },
    {
      "cell_type": "code",
      "metadata": {
        "colab": {
          "base_uri": "https://localhost:8080/",
          "height": 383
        },
        "id": "eBrvufvulE3O",
        "outputId": "c8111517-c8b6-4219-da73-9df15c13c86c"
      },
      "source": [
        "test.head()"
      ],
      "execution_count": null,
      "outputs": [
        {
          "output_type": "execute_result",
          "data": {
            "text/html": [
              "<div>\n",
              "<style scoped>\n",
              "    .dataframe tbody tr th:only-of-type {\n",
              "        vertical-align: middle;\n",
              "    }\n",
              "\n",
              "    .dataframe tbody tr th {\n",
              "        vertical-align: top;\n",
              "    }\n",
              "\n",
              "    .dataframe thead th {\n",
              "        text-align: right;\n",
              "    }\n",
              "</style>\n",
              "<table border=\"1\" class=\"dataframe\">\n",
              "  <thead>\n",
              "    <tr style=\"text-align: right;\">\n",
              "      <th></th>\n",
              "      <th>age</th>\n",
              "      <th>workclass</th>\n",
              "      <th>fnlwgt</th>\n",
              "      <th>education</th>\n",
              "      <th>education_num</th>\n",
              "      <th>marital-status</th>\n",
              "      <th>occupation</th>\n",
              "      <th>relationship</th>\n",
              "      <th>race</th>\n",
              "      <th>sex</th>\n",
              "      <th>capital-gain</th>\n",
              "      <th>capital-loss</th>\n",
              "      <th>hours-per-week</th>\n",
              "      <th>native-country</th>\n",
              "      <th>income</th>\n",
              "    </tr>\n",
              "  </thead>\n",
              "  <tbody>\n",
              "    <tr>\n",
              "      <th>0</th>\n",
              "      <td>25</td>\n",
              "      <td>Private</td>\n",
              "      <td>226802</td>\n",
              "      <td>11th</td>\n",
              "      <td>7</td>\n",
              "      <td>Never-married</td>\n",
              "      <td>Machine-op-inspct</td>\n",
              "      <td>Own-child</td>\n",
              "      <td>Black</td>\n",
              "      <td>Male</td>\n",
              "      <td>0</td>\n",
              "      <td>0</td>\n",
              "      <td>40</td>\n",
              "      <td>United-States</td>\n",
              "      <td>0</td>\n",
              "    </tr>\n",
              "    <tr>\n",
              "      <th>1</th>\n",
              "      <td>38</td>\n",
              "      <td>Private</td>\n",
              "      <td>89814</td>\n",
              "      <td>HS-grad</td>\n",
              "      <td>9</td>\n",
              "      <td>Married-civ-spouse</td>\n",
              "      <td>Farming-fishing</td>\n",
              "      <td>Husband</td>\n",
              "      <td>White</td>\n",
              "      <td>Male</td>\n",
              "      <td>0</td>\n",
              "      <td>0</td>\n",
              "      <td>50</td>\n",
              "      <td>United-States</td>\n",
              "      <td>0</td>\n",
              "    </tr>\n",
              "    <tr>\n",
              "      <th>2</th>\n",
              "      <td>28</td>\n",
              "      <td>Local-gov</td>\n",
              "      <td>336951</td>\n",
              "      <td>Assoc-acdm</td>\n",
              "      <td>12</td>\n",
              "      <td>Married-civ-spouse</td>\n",
              "      <td>Protective-serv</td>\n",
              "      <td>Husband</td>\n",
              "      <td>White</td>\n",
              "      <td>Male</td>\n",
              "      <td>0</td>\n",
              "      <td>0</td>\n",
              "      <td>40</td>\n",
              "      <td>United-States</td>\n",
              "      <td>1</td>\n",
              "    </tr>\n",
              "    <tr>\n",
              "      <th>3</th>\n",
              "      <td>44</td>\n",
              "      <td>Private</td>\n",
              "      <td>160323</td>\n",
              "      <td>Some-college</td>\n",
              "      <td>10</td>\n",
              "      <td>Married-civ-spouse</td>\n",
              "      <td>Machine-op-inspct</td>\n",
              "      <td>Husband</td>\n",
              "      <td>Black</td>\n",
              "      <td>Male</td>\n",
              "      <td>7688</td>\n",
              "      <td>0</td>\n",
              "      <td>40</td>\n",
              "      <td>United-States</td>\n",
              "      <td>1</td>\n",
              "    </tr>\n",
              "    <tr>\n",
              "      <th>4</th>\n",
              "      <td>18</td>\n",
              "      <td>Private</td>\n",
              "      <td>103497</td>\n",
              "      <td>Some-college</td>\n",
              "      <td>10</td>\n",
              "      <td>Never-married</td>\n",
              "      <td>Prof-specialty</td>\n",
              "      <td>Own-child</td>\n",
              "      <td>White</td>\n",
              "      <td>Female</td>\n",
              "      <td>0</td>\n",
              "      <td>0</td>\n",
              "      <td>30</td>\n",
              "      <td>United-States</td>\n",
              "      <td>0</td>\n",
              "    </tr>\n",
              "  </tbody>\n",
              "</table>\n",
              "</div>"
            ],
            "text/plain": [
              "   age   workclass  fnlwgt  ... hours-per-week  native-country income\n",
              "0   25     Private  226802  ...             40   United-States      0\n",
              "1   38     Private   89814  ...             50   United-States      0\n",
              "2   28   Local-gov  336951  ...             40   United-States      1\n",
              "3   44     Private  160323  ...             40   United-States      1\n",
              "4   18     Private  103497  ...             30   United-States      0\n",
              "\n",
              "[5 rows x 15 columns]"
            ]
          },
          "metadata": {
            "tags": []
          },
          "execution_count": 34
        }
      ]
    },
    {
      "cell_type": "code",
      "metadata": {
        "id": "LGvGkNzzlZ_c"
      },
      "source": [
        "# list of the categorial columns\n",
        "categorical = [\"workclass\", \"education\", \"marital-status\", \"occupation\", \"relationship\", \"race\", \"sex\", \"native-country\"]\n",
        "\n",
        "# function for encoding the categorical columns\n",
        "for features in categorical:\n",
        "  le = preprocessing.LabelEncoder()\n",
        "  train[features] = le.fit_transform(train[features])\n",
        "  test[features] = le.transform(test[features])\n"
      ],
      "execution_count": null,
      "outputs": []
    },
    {
      "cell_type": "markdown",
      "metadata": {
        "id": "oQCRXcAOnQmh"
      },
      "source": [
        "### 2. Train and test data split"
      ]
    },
    {
      "cell_type": "code",
      "metadata": {
        "id": "XIHYV4nJnK_2"
      },
      "source": [
        "x_train = train.drop('income', axis = 1)\n",
        "y_train = train['income']\n",
        "\n",
        "x_test = test.drop('income', axis = 1)\n",
        "y_test = test['income']"
      ],
      "execution_count": null,
      "outputs": []
    },
    {
      "cell_type": "markdown",
      "metadata": {
        "id": "ynHh72d5o4qO"
      },
      "source": [
        "### 3. Standardization"
      ]
    },
    {
      "cell_type": "code",
      "metadata": {
        "colab": {
          "base_uri": "https://localhost:8080/",
          "height": 450
        },
        "id": "c_655VlKoPqS",
        "outputId": "b420ecd3-f048-4cdf-f64e-a9aecda78ab2"
      },
      "source": [
        "scaler = StandardScaler()\n",
        "x_train = pd.DataFrame(scaler.fit_transform(x_train), columns=x_train.columns) \n",
        "x_test = pd.DataFrame(scaler.transform(x_test), columns=x_test.columns)\n",
        "\n",
        "plt.hist(x_train)"
      ],
      "execution_count": null,
      "outputs": [
        {
          "output_type": "execute_result",
          "data": {
            "text/plain": [
              "(array([[0., 0., 5., ..., 0., 0., 0.],\n",
              "        [0., 1., 6., ..., 0., 0., 0.],\n",
              "        [0., 0., 6., ..., 0., 0., 0.],\n",
              "        ...,\n",
              "        [0., 0., 6., ..., 0., 0., 0.],\n",
              "        [0., 0., 6., ..., 0., 0., 0.],\n",
              "        [0., 0., 5., ..., 0., 0., 0.]]),\n",
              " array([-5.99554116, -4.05652925, -2.11751734, -0.17850544,  1.76050647,\n",
              "         3.69951838,  5.63853028,  7.57754219,  9.5165541 , 11.455566  ,\n",
              "        13.39457791]),\n",
              " <a list of 32561 Lists of Patches objects>)"
            ]
          },
          "metadata": {
            "tags": []
          },
          "execution_count": 37
        },
        {
          "output_type": "display_data",
          "data": {
            "image/png": "[encoded data removed]",
            "text/plain": [
              "<Figure size 432x288 with 1 Axes>"
            ]
          },
          "metadata": {
            "tags": [],
            "needs_background": "light"
          }
        }
      ]
    },
    {
      "cell_type": "code",
      "metadata": {
        "colab": {
          "base_uri": "https://localhost:8080/",
          "height": 232
        },
        "id": "0uuzq0RXiJ7D",
        "outputId": "777a5037-78c6-4ea8-fd02-e4928b3b3f6d"
      },
      "source": [
        "x_train.head()"
      ],
      "execution_count": null,
      "outputs": [
        {
          "output_type": "execute_result",
          "data": {
            "text/html": [
              "<div>\n",
              "<style scoped>\n",
              "    .dataframe tbody tr th:only-of-type {\n",
              "        vertical-align: middle;\n",
              "    }\n",
              "\n",
              "    .dataframe tbody tr th {\n",
              "        vertical-align: top;\n",
              "    }\n",
              "\n",
              "    .dataframe thead th {\n",
              "        text-align: right;\n",
              "    }\n",
              "</style>\n",
              "<table border=\"1\" class=\"dataframe\">\n",
              "  <thead>\n",
              "    <tr style=\"text-align: right;\">\n",
              "      <th></th>\n",
              "      <th>age</th>\n",
              "      <th>workclass</th>\n",
              "      <th>fnlwgt</th>\n",
              "      <th>education</th>\n",
              "      <th>education_num</th>\n",
              "      <th>marital-status</th>\n",
              "      <th>occupation</th>\n",
              "      <th>relationship</th>\n",
              "      <th>race</th>\n",
              "      <th>sex</th>\n",
              "      <th>capital-gain</th>\n",
              "      <th>capital-loss</th>\n",
              "      <th>hours-per-week</th>\n",
              "      <th>native-country</th>\n",
              "    </tr>\n",
              "  </thead>\n",
              "  <tbody>\n",
              "    <tr>\n",
              "      <th>0</th>\n",
              "      <td>0.030671</td>\n",
              "      <td>1.658412</td>\n",
              "      <td>-1.063611</td>\n",
              "      <td>-0.335437</td>\n",
              "      <td>1.134739</td>\n",
              "      <td>0.921634</td>\n",
              "      <td>-1.483582</td>\n",
              "      <td>-0.277805</td>\n",
              "      <td>0.393668</td>\n",
              "      <td>0.703071</td>\n",
              "      <td>0.148453</td>\n",
              "      <td>-0.21666</td>\n",
              "      <td>-0.035429</td>\n",
              "      <td>0.251378</td>\n",
              "    </tr>\n",
              "    <tr>\n",
              "      <th>1</th>\n",
              "      <td>0.837109</td>\n",
              "      <td>1.026306</td>\n",
              "      <td>-1.008707</td>\n",
              "      <td>-0.335437</td>\n",
              "      <td>1.134739</td>\n",
              "      <td>-0.406212</td>\n",
              "      <td>-0.790510</td>\n",
              "      <td>-0.900181</td>\n",
              "      <td>0.393668</td>\n",
              "      <td>0.703071</td>\n",
              "      <td>-0.145920</td>\n",
              "      <td>-0.21666</td>\n",
              "      <td>-2.222153</td>\n",
              "      <td>0.251378</td>\n",
              "    </tr>\n",
              "    <tr>\n",
              "      <th>2</th>\n",
              "      <td>-0.042642</td>\n",
              "      <td>-0.237906</td>\n",
              "      <td>0.245079</td>\n",
              "      <td>0.181332</td>\n",
              "      <td>-0.420060</td>\n",
              "      <td>-1.734058</td>\n",
              "      <td>-0.328461</td>\n",
              "      <td>-0.277805</td>\n",
              "      <td>0.393668</td>\n",
              "      <td>0.703071</td>\n",
              "      <td>-0.145920</td>\n",
              "      <td>-0.21666</td>\n",
              "      <td>-0.035429</td>\n",
              "      <td>0.251378</td>\n",
              "    </tr>\n",
              "    <tr>\n",
              "      <th>3</th>\n",
              "      <td>1.057047</td>\n",
              "      <td>-0.237906</td>\n",
              "      <td>0.425801</td>\n",
              "      <td>-2.402511</td>\n",
              "      <td>-1.197459</td>\n",
              "      <td>-0.406212</td>\n",
              "      <td>-0.328461</td>\n",
              "      <td>-0.900181</td>\n",
              "      <td>-1.962621</td>\n",
              "      <td>0.703071</td>\n",
              "      <td>-0.145920</td>\n",
              "      <td>-0.21666</td>\n",
              "      <td>-0.035429</td>\n",
              "      <td>0.251378</td>\n",
              "    </tr>\n",
              "    <tr>\n",
              "      <th>4</th>\n",
              "      <td>-0.775768</td>\n",
              "      <td>-0.237906</td>\n",
              "      <td>1.408176</td>\n",
              "      <td>-0.335437</td>\n",
              "      <td>1.134739</td>\n",
              "      <td>-0.406212</td>\n",
              "      <td>0.595635</td>\n",
              "      <td>2.211698</td>\n",
              "      <td>-1.962621</td>\n",
              "      <td>-1.422331</td>\n",
              "      <td>-0.145920</td>\n",
              "      <td>-0.21666</td>\n",
              "      <td>-0.035429</td>\n",
              "      <td>-5.337971</td>\n",
              "    </tr>\n",
              "  </tbody>\n",
              "</table>\n",
              "</div>"
            ],
            "text/plain": [
              "        age  workclass    fnlwgt  ...  capital-loss  hours-per-week  native-country\n",
              "0  0.030671   1.658412 -1.063611  ...      -0.21666       -0.035429        0.251378\n",
              "1  0.837109   1.026306 -1.008707  ...      -0.21666       -2.222153        0.251378\n",
              "2 -0.042642  -0.237906  0.245079  ...      -0.21666       -0.035429        0.251378\n",
              "3  1.057047  -0.237906  0.425801  ...      -0.21666       -0.035429        0.251378\n",
              "4 -0.775768  -0.237906  1.408176  ...      -0.21666       -0.035429       -5.337971\n",
              "\n",
              "[5 rows x 14 columns]"
            ]
          },
          "metadata": {
            "tags": []
          },
          "execution_count": 56
        }
      ]
    },
    {
      "cell_type": "code",
      "metadata": {
        "colab": {
          "base_uri": "https://localhost:8080/",
          "height": 232
        },
        "id": "1oSnpMqFJzfx",
        "outputId": "461a5932-86a2-4942-fdae-53004e82c984"
      },
      "source": [
        "x_test.head()"
      ],
      "execution_count": null,
      "outputs": [
        {
          "output_type": "execute_result",
          "data": {
            "text/html": [
              "<div>\n",
              "<style scoped>\n",
              "    .dataframe tbody tr th:only-of-type {\n",
              "        vertical-align: middle;\n",
              "    }\n",
              "\n",
              "    .dataframe tbody tr th {\n",
              "        vertical-align: top;\n",
              "    }\n",
              "\n",
              "    .dataframe thead th {\n",
              "        text-align: right;\n",
              "    }\n",
              "</style>\n",
              "<table border=\"1\" class=\"dataframe\">\n",
              "  <thead>\n",
              "    <tr style=\"text-align: right;\">\n",
              "      <th></th>\n",
              "      <th>age</th>\n",
              "      <th>workclass</th>\n",
              "      <th>fnlwgt</th>\n",
              "      <th>education</th>\n",
              "      <th>education_num</th>\n",
              "      <th>marital-status</th>\n",
              "      <th>occupation</th>\n",
              "      <th>relationship</th>\n",
              "      <th>race</th>\n",
              "      <th>sex</th>\n",
              "      <th>capital-gain</th>\n",
              "      <th>capital-loss</th>\n",
              "      <th>hours-per-week</th>\n",
              "      <th>native-country</th>\n",
              "    </tr>\n",
              "  </thead>\n",
              "  <tbody>\n",
              "    <tr>\n",
              "      <th>0</th>\n",
              "      <td>-0.995706</td>\n",
              "      <td>-0.237906</td>\n",
              "      <td>0.350774</td>\n",
              "      <td>-2.402511</td>\n",
              "      <td>-1.197459</td>\n",
              "      <td>0.921634</td>\n",
              "      <td>-0.097437</td>\n",
              "      <td>0.966947</td>\n",
              "      <td>-1.962621</td>\n",
              "      <td>0.703071</td>\n",
              "      <td>-0.145920</td>\n",
              "      <td>-0.21666</td>\n",
              "      <td>-0.035429</td>\n",
              "      <td>0.251378</td>\n",
              "    </tr>\n",
              "    <tr>\n",
              "      <th>1</th>\n",
              "      <td>-0.042642</td>\n",
              "      <td>-0.237906</td>\n",
              "      <td>-0.947095</td>\n",
              "      <td>0.181332</td>\n",
              "      <td>-0.420060</td>\n",
              "      <td>-0.406212</td>\n",
              "      <td>-0.559485</td>\n",
              "      <td>-0.900181</td>\n",
              "      <td>0.393668</td>\n",
              "      <td>0.703071</td>\n",
              "      <td>-0.145920</td>\n",
              "      <td>-0.21666</td>\n",
              "      <td>0.774468</td>\n",
              "      <td>0.251378</td>\n",
              "    </tr>\n",
              "    <tr>\n",
              "      <th>2</th>\n",
              "      <td>-0.775768</td>\n",
              "      <td>-1.502118</td>\n",
              "      <td>1.394362</td>\n",
              "      <td>-0.852205</td>\n",
              "      <td>0.746039</td>\n",
              "      <td>-0.406212</td>\n",
              "      <td>0.826659</td>\n",
              "      <td>-0.900181</td>\n",
              "      <td>0.393668</td>\n",
              "      <td>0.703071</td>\n",
              "      <td>-0.145920</td>\n",
              "      <td>-0.21666</td>\n",
              "      <td>-0.035429</td>\n",
              "      <td>0.251378</td>\n",
              "    </tr>\n",
              "    <tr>\n",
              "      <th>3</th>\n",
              "      <td>0.397233</td>\n",
              "      <td>-0.237906</td>\n",
              "      <td>-0.279070</td>\n",
              "      <td>1.214869</td>\n",
              "      <td>-0.031360</td>\n",
              "      <td>-0.406212</td>\n",
              "      <td>-0.097437</td>\n",
              "      <td>-0.900181</td>\n",
              "      <td>-1.962621</td>\n",
              "      <td>0.703071</td>\n",
              "      <td>0.895083</td>\n",
              "      <td>-0.21666</td>\n",
              "      <td>-0.035429</td>\n",
              "      <td>0.251378</td>\n",
              "    </tr>\n",
              "    <tr>\n",
              "      <th>4</th>\n",
              "      <td>-1.508894</td>\n",
              "      <td>2.922623</td>\n",
              "      <td>-0.817458</td>\n",
              "      <td>1.214869</td>\n",
              "      <td>-0.031360</td>\n",
              "      <td>0.921634</td>\n",
              "      <td>1.750756</td>\n",
              "      <td>0.966947</td>\n",
              "      <td>0.393668</td>\n",
              "      <td>-1.422331</td>\n",
              "      <td>-0.145920</td>\n",
              "      <td>-0.21666</td>\n",
              "      <td>-0.845327</td>\n",
              "      <td>0.251378</td>\n",
              "    </tr>\n",
              "  </tbody>\n",
              "</table>\n",
              "</div>"
            ],
            "text/plain": [
              "        age  workclass    fnlwgt  ...  capital-loss  hours-per-week  native-country\n",
              "0 -0.995706  -0.237906  0.350774  ...      -0.21666       -0.035429        0.251378\n",
              "1 -0.042642  -0.237906 -0.947095  ...      -0.21666        0.774468        0.251378\n",
              "2 -0.775768  -1.502118  1.394362  ...      -0.21666       -0.035429        0.251378\n",
              "3  0.397233  -0.237906 -0.279070  ...      -0.21666       -0.035429        0.251378\n",
              "4 -1.508894   2.922623 -0.817458  ...      -0.21666       -0.845327        0.251378\n",
              "\n",
              "[5 rows x 14 columns]"
            ]
          },
          "metadata": {
            "tags": []
          },
          "execution_count": 57
        }
      ]
    },
    {
      "cell_type": "markdown",
      "metadata": {
        "id": "UzOFl6iDqEjz"
      },
      "source": [
        "# Building ML model"
      ]
    },
    {
      "cell_type": "markdown",
      "metadata": {
        "id": "kyQ3ypFFkOL-"
      },
      "source": [
        "### 1. Logistic Regression"
      ]
    },
    {
      "cell_type": "code",
      "metadata": {
        "colab": {
          "base_uri": "https://localhost:8080/"
        },
        "id": "9ANKClsopSYL",
        "outputId": "953267f6-a47e-4712-c1bf-4f785dc27f5f"
      },
      "source": [
        "lr = LogisticRegression()\n",
        "\n",
        "model_lr = lr.fit(x_train, y_train)\n",
        "prediction_lr = model_lr.predict(x_test)\n",
        "lr_acc_train_score = lr.score(x_train, y_train)\n",
        "lr_acc_test_score = lr.score(x_test, y_test)\n",
        "print(\"Accuracy on the training data: {:,.4f}\".format(lr_acc_train_score))\n",
        "print(\"Accuracy on the test data: {:,.4f}\".format(lr_acc_test_score))\n"
      ],
      "execution_count": null,
      "outputs": [
        {
          "output_type": "stream",
          "text": [
            "Accuracy on the training data: 0.8249\n",
            "Accuracy on the test data: 0.8253\n"
          ],
          "name": "stdout"
        }
      ]
    },
    {
      "cell_type": "code",
      "metadata": {
        "colab": {
          "base_uri": "https://localhost:8080/",
          "height": 265
        },
        "id": "XusCPMBHmmCM",
        "outputId": "6ead8764-df5e-45e8-ef02-f794971d1ab3"
      },
      "source": [
        "# Plotting the AUC Curve\n",
        "\n",
        "y_pred_proba = lr.predict_proba(x_test)[::,1]\n",
        "fpr, tpr, _ = metrics.roc_curve(y_test,  y_pred_proba)\n",
        "auc = metrics.roc_auc_score(y_test, y_pred_proba)\n",
        "plt.plot(fpr,tpr,label=\"census, auc=\"+str(auc))\n",
        "plt.legend(loc=4)\n",
        "plt.show()"
      ],
      "execution_count": null,
      "outputs": [
        {
          "output_type": "display_data",
          "data": {
            "image/png": "[encoded data removed]",
            "text/plain": [
              "<Figure size 432x288 with 1 Axes>"
            ]
          },
          "metadata": {
            "tags": []
          }
        }
      ]
    },
    {
      "cell_type": "markdown",
      "metadata": {
        "id": "f4i_RRFwmgge"
      },
      "source": [
        "### 2. Random Forest"
      ]
    },
    {
      "cell_type": "code",
      "metadata": {
        "colab": {
          "base_uri": "https://localhost:8080/"
        },
        "id": "jZ0cpWigmJ0u",
        "outputId": "8636f53b-a6d5-41db-f4d0-4b6ad588265f"
      },
      "source": [
        "rfc = RandomForestClassifier()\n",
        "\n",
        "model_rfc = rfc.fit(x_train, y_train)\n",
        "prediction_rfc = model_rfc.predict(x_test)\n",
        "rfc_acc_train_score = rfc.score(x_train, y_train)\n",
        "rfc_acc_test_score = rfc.score(x_test, y_test)\n",
        "print(\"Accuracy on the training data: {:,.4f}\".format(rfc_acc_train_score))\n",
        "print(\"Accuracy on the test data: {:,.4f}\".format(rfc_acc_test_score))"
      ],
      "execution_count": null,
      "outputs": [
        {
          "output_type": "stream",
          "text": [
            "Accuracy on the training data: 0.9999\n",
            "Accuracy on the test data: 0.8529\n"
          ],
          "name": "stdout"
        }
      ]
    },
    {
      "cell_type": "code",
      "metadata": {
        "colab": {
          "base_uri": "https://localhost:8080/",
          "height": 265
        },
        "id": "Ja-vYQOvnf3m",
        "outputId": "3e442811-4a41-4b4b-8edf-5796a7ea93d3"
      },
      "source": [
        "# Plotting the AUC Curve\n",
        "\n",
        "y_pred_proba = rfc.predict_proba(x_test)[::,1]\n",
        "fpr, tpr, _ = metrics.roc_curve(y_test,  y_pred_proba)\n",
        "auc = metrics.roc_auc_score(y_test, y_pred_proba)\n",
        "plt.plot(fpr,tpr,label=\"census, auc=\"+str(auc))\n",
        "plt.legend(loc=4)\n",
        "plt.show()"
      ],
      "execution_count": null,
      "outputs": [
        {
          "output_type": "display_data",
          "data": {
            "image/png": "[encoded data removed]",
            "text/plain": [
              "<Figure size 432x288 with 1 Axes>"
            ]
          },
          "metadata": {
            "tags": []
          }
        }
      ]
    },
    {
      "cell_type": "markdown",
      "metadata": {
        "id": "9adggUPYunK_"
      },
      "source": [
        "### 3. K Nearest Neighbor"
      ]
    },
    {
      "cell_type": "code",
      "metadata": {
        "colab": {
          "base_uri": "https://localhost:8080/"
        },
        "id": "iZbN0OAbumvh",
        "outputId": "c8a70f2d-98c4-4475-ae34-0fdbbfa9448d"
      },
      "source": [
        "knn = KNeighborsClassifier(n_neighbors = 3) \n",
        "model_knn = knn.fit(x_train, y_train)  \n",
        "prediction_knn = model_knn.predict(x_test) \n",
        "knn_acc_train_score = knn.score(x_train, y_train)\n",
        "knn_acc_test_score = knn.score(x_test, y_test)\n",
        "print(\"Accuracy on the training data: {:,.4f}\".format(knn_acc_train_score))\n",
        "print(\"Accuracy on the test data: {:,.4f}\".format(knn_acc_test_score))"
      ],
      "execution_count": null,
      "outputs": [
        {
          "output_type": "stream",
          "text": [
            "Accuracy on the training data: 0.8975\n",
            "Accuracy on the test data: 0.8218\n"
          ],
          "name": "stdout"
        }
      ]
    },
    {
      "cell_type": "code",
      "metadata": {
        "colab": {
          "base_uri": "https://localhost:8080/",
          "height": 265
        },
        "id": "ZV9FxCbknpT_",
        "outputId": "a95344d0-778a-4c90-fea9-111e367be4e6"
      },
      "source": [
        "# Plotting the AUC Curve\n",
        "\n",
        "y_pred_proba = knn.predict_proba(x_test)[::,1]\n",
        "fpr, tpr, _ = metrics.roc_curve(y_test,  y_pred_proba)\n",
        "auc = metrics.roc_auc_score(y_test, y_pred_proba)\n",
        "plt.plot(fpr,tpr,label=\"census, auc=\"+str(auc))\n",
        "plt.legend(loc=4)\n",
        "plt.show()"
      ],
      "execution_count": null,
      "outputs": [
        {
          "output_type": "display_data",
          "data": {
            "image/png": "[encoded data removed]",
            "text/plain": [
              "<Figure size 432x288 with 1 Axes>"
            ]
          },
          "metadata": {
            "tags": []
          }
        }
      ]
    },
    {
      "cell_type": "markdown",
      "metadata": {
        "id": "ktIGCEWOvgRW"
      },
      "source": [
        "### 4. Decision Tree Classifier"
      ]
    },
    {
      "cell_type": "code",
      "metadata": {
        "colab": {
          "base_uri": "https://localhost:8080/"
        },
        "id": "Qpx5MI6gvhQ0",
        "outputId": "3d442008-67d0-4c42-cfb3-60864b10168d"
      },
      "source": [
        "dtc = DecisionTreeClassifier() \n",
        "model_dtc = dtc.fit(x_train, y_train)  \n",
        "prediction_dtc = model_dtc.predict(x_test)  \n",
        "dtc_acc_train_score = dtc.score(x_train, y_train)\n",
        "dtc_acc_test_score = dtc.score(x_test, y_test)\n",
        "print(\"Accuracy on the training data: {:,.4f}\".format(dtc_acc_train_score))\n",
        "print(\"Accuracy on the test data: {:,.4f}\".format(dtc_acc_test_score ))"
      ],
      "execution_count": null,
      "outputs": [
        {
          "output_type": "stream",
          "text": [
            "Accuracy on the training data: 1.0000\n",
            "Accuracy on the test data: 0.8084\n"
          ],
          "name": "stdout"
        }
      ]
    },
    {
      "cell_type": "code",
      "metadata": {
        "colab": {
          "base_uri": "https://localhost:8080/",
          "height": 265
        },
        "id": "GF1QZnkmn4-E",
        "outputId": "e5e845e2-5dd5-4429-ab63-e3a063eedf87"
      },
      "source": [
        "# Plotting the AUC Curve\n",
        "\n",
        "y_pred_proba = dtc.predict_proba(x_test)[::,1]\n",
        "fpr, tpr, _ = metrics.roc_curve(y_test,  y_pred_proba)\n",
        "auc = metrics.roc_auc_score(y_test, y_pred_proba)\n",
        "plt.plot(fpr,tpr,label=\"census, auc=\"+str(auc))\n",
        "plt.legend(loc=4)\n",
        "plt.show()"
      ],
      "execution_count": null,
      "outputs": [
        {
          "output_type": "display_data",
          "data": {
            "image/png": "[encoded data removed]",
            "text/plain": [
              "<Figure size 432x288 with 1 Axes>"
            ]
          },
          "metadata": {
            "tags": []
          }
        }
      ]
    },
    {
      "cell_type": "markdown",
      "metadata": {
        "id": "chvwZ7fYI7V8"
      },
      "source": [
        "### 5. Gaussian Naive Bayes"
      ]
    },
    {
      "cell_type": "code",
      "metadata": {
        "colab": {
          "base_uri": "https://localhost:8080/"
        },
        "id": "zGVPVxdzwegE",
        "outputId": "fc997534-63d2-4eb3-ab24-8f3835785bee"
      },
      "source": [
        "gnb = GaussianNB()\n",
        "\n",
        "model_gnb = gnb.fit(x_train, y_train)\n",
        "prediction_gnb = model_gnb.predict(x_test)\n",
        "gnb_acc_train_score = gnb.score(x_train, y_train)\n",
        "gnb_acc_test_score = gnb.score(x_test, y_test)\n",
        "print(\"Accuracy on the training data: {:,.4f}\".format(gnb_acc_train_score))\n",
        "print(\"Accuracy on the test data: {:,.4f}\".format(gnb_acc_test_score))"
      ],
      "execution_count": null,
      "outputs": [
        {
          "output_type": "stream",
          "text": [
            "Accuracy on the training data: 0.8040\n",
            "Accuracy on the test data: 0.8051\n"
          ],
          "name": "stdout"
        }
      ]
    },
    {
      "cell_type": "code",
      "metadata": {
        "colab": {
          "base_uri": "https://localhost:8080/",
          "height": 265
        },
        "id": "nU6Yb0dFn_N8",
        "outputId": "41cba92d-32b8-4319-f589-3364b6a29801"
      },
      "source": [
        "# Plotting the AUC Curve\n",
        "\n",
        "y_pred_proba = gnb.predict_proba(x_test)[::,1]\n",
        "fpr, tpr, _ = metrics.roc_curve(y_test,  y_pred_proba)\n",
        "auc = metrics.roc_auc_score(y_test, y_pred_proba)\n",
        "plt.plot(fpr,tpr,label=\"census, auc=\"+str(auc))\n",
        "plt.legend(loc=4)\n",
        "plt.show()"
      ],
      "execution_count": null,
      "outputs": [
        {
          "output_type": "display_data",
          "data": {
            "image/png": "[encoded data removed]",
            "text/plain": [
              "<Figure size 432x288 with 1 Axes>"
            ]
          },
          "metadata": {
            "tags": []
          }
        }
      ]
    },
    {
      "cell_type": "markdown",
      "metadata": {
        "id": "IxUoCbNw8tKK"
      },
      "source": [
        "### 6. Neural Network"
      ]
    },
    {
      "cell_type": "code",
      "metadata": {
        "id": "pS5g6ofLSgo1"
      },
      "source": [
        "classifier = Sequential()\n",
        "\n",
        "# Adding the input layer and the first hidden layer\n",
        "classifier.add(Dense(units = 128, activation = 'relu', input_dim = 14))\n",
        "# Adding the second hidden layer\n",
        "classifier.add(Dense(units = 8, kernel_initializer = 'uniform', activation = 'relu'))\n",
        "# Adding the output layer\n",
        "classifier.add(Dense(units = 1, kernel_initializer = 'uniform', activation = 'sigmoid'))\n",
        "# Compiling the NN\n",
        "classifier.compile(optimizer = 'adam', loss = 'binary_crossentropy', metrics = ['accuracy'])"
      ],
      "execution_count": null,
      "outputs": []
    },
    {
      "cell_type": "code",
      "metadata": {
        "id": "q0xEZwcTeVgd"
      },
      "source": [
        "# Fitting the NN to the training set\n",
        "\n",
        "fitting = classifier.fit(x_train, y_train, validation_data=(x_test, y_test), batch_size=32, epochs = 50)\n"
      ],
      "execution_count": null,
      "outputs": []
    },
    {
      "cell_type": "code",
      "metadata": {
        "colab": {
          "base_uri": "https://localhost:8080/",
          "height": 299
        },
        "id": "lPVlcAOIiFNw",
        "outputId": "687f3c60-d1c0-48b7-b5bd-22201a95d18d"
      },
      "source": [
        "# plot the training loss and accuracy for each epoch\n",
        "\n",
        "N = np.arange(0, 50)\n",
        "plt.style.use(\"ggplot\")\n",
        "plt.figure()\n",
        "plt.plot(N, fitting.history[\"loss\"], label=\"train_loss\")\n",
        "plt.plot(N, fitting.history[\"val_loss\"], label=\"val_loss\")\n",
        "plt.plot(N, fitting.history[\"accuracy\"], label=\"train_acc\")\n",
        "plt.plot(N, fitting.history[\"val_accuracy\"], label=\"val_acc\")\n",
        "plt.title(\"Training Loss and Accuracy (simple_multiclass_classifcation)\")\n",
        "plt.xlabel(\"Epoch\")\n",
        "plt.ylabel(\"Loss/Accuracy\")\n",
        "plt.legend()\n",
        "plt.savefig(\"training_performance.png\")"
      ],
      "execution_count": null,
      "outputs": [
        {
          "output_type": "display_data",
          "data": {
            "image/png": "[encoded data removed]",
            "text/plain": [
              "<Figure size 432x288 with 1 Axes>"
            ]
          },
          "metadata": {
            "tags": []
          }
        }
      ]
    },
    {
      "cell_type": "code",
      "metadata": {
        "colab": {
          "base_uri": "https://localhost:8080/"
        },
        "id": "R6ykownTk0kl",
        "outputId": "5afa24ec-53f0-474c-8bdf-1ef9556800fa"
      },
      "source": [
        "nn_acc_train_score = classifier.evaluate(x_train, y_train, verbose = 1)\n",
        "nn_acc_test_score = classifier.evaluate(x_test, y_test, verbose = 1)\n"
      ],
      "execution_count": null,
      "outputs": [
        {
          "output_type": "stream",
          "text": [
            "1018/1018 [==============================] - 1s 856us/step - loss: 0.2722 - accuracy: 0.8721\n",
            "509/509 [==============================] - 0s 843us/step - loss: 0.3336 - accuracy: 0.8469\n"
          ],
          "name": "stdout"
        }
      ]
    },
    {
      "cell_type": "markdown",
      "metadata": {
        "id": "_GhinQkdIggQ"
      },
      "source": [
        "# Comparing the ML model"
      ]
    },
    {
      "cell_type": "code",
      "metadata": {
        "colab": {
          "base_uri": "https://localhost:8080/",
          "height": 225
        },
        "id": "6pR0SjigIno7",
        "outputId": "17e903ad-3bd8-4fd4-d6df-b2de601fb26e"
      },
      "source": [
        "results = pd.DataFrame({\n",
        "    'Model': ['Logistic Regression',  'Random Forest', 'KNN', 'Decision Tree', 'Gaussian Naive Bayes', 'Neural Network'],\n",
        "    'Train_Score': [lr_acc_train_score, rfc_acc_train_score, knn_acc_train_score, dtc_acc_train_score,\n",
        "              gnb_acc_train_score, nn_acc_train_score[1]],\n",
        "    'Test_Score': [lr_acc_test_score, rfc_acc_test_score, knn_acc_test_score, dtc_acc_test_score,\n",
        "                   gnb_acc_test_score, nn_acc_test_score[1]] \n",
        "              })\n",
        "\n",
        "result_df = results.sort_values(by='Train_Score', ascending=False)\n",
        "result_df"
      ],
      "execution_count": null,
      "outputs": [
        {
          "output_type": "execute_result",
          "data": {
            "text/html": [
              "<div>\n",
              "<style scoped>\n",
              "    .dataframe tbody tr th:only-of-type {\n",
              "        vertical-align: middle;\n",
              "    }\n",
              "\n",
              "    .dataframe tbody tr th {\n",
              "        vertical-align: top;\n",
              "    }\n",
              "\n",
              "    .dataframe thead th {\n",
              "        text-align: right;\n",
              "    }\n",
              "</style>\n",
              "<table border=\"1\" class=\"dataframe\">\n",
              "  <thead>\n",
              "    <tr style=\"text-align: right;\">\n",
              "      <th></th>\n",
              "      <th>Model</th>\n",
              "      <th>Train_Score</th>\n",
              "      <th>Test_Score</th>\n",
              "    </tr>\n",
              "  </thead>\n",
              "  <tbody>\n",
              "    <tr>\n",
              "      <th>3</th>\n",
              "      <td>Decision Tree</td>\n",
              "      <td>0.999969</td>\n",
              "      <td>0.808366</td>\n",
              "    </tr>\n",
              "    <tr>\n",
              "      <th>1</th>\n",
              "      <td>Random Forest</td>\n",
              "      <td>0.999939</td>\n",
              "      <td>0.852896</td>\n",
              "    </tr>\n",
              "    <tr>\n",
              "      <th>2</th>\n",
              "      <td>KNN</td>\n",
              "      <td>0.897515</td>\n",
              "      <td>0.821817</td>\n",
              "    </tr>\n",
              "    <tr>\n",
              "      <th>5</th>\n",
              "      <td>Neural Network</td>\n",
              "      <td>0.872117</td>\n",
              "      <td>0.846877</td>\n",
              "    </tr>\n",
              "    <tr>\n",
              "      <th>0</th>\n",
              "      <td>Logistic Regression</td>\n",
              "      <td>0.824913</td>\n",
              "      <td>0.825318</td>\n",
              "    </tr>\n",
              "    <tr>\n",
              "      <th>4</th>\n",
              "      <td>Gaussian Naive Bayes</td>\n",
              "      <td>0.803999</td>\n",
              "      <td>0.805110</td>\n",
              "    </tr>\n",
              "  </tbody>\n",
              "</table>\n",
              "</div>"
            ],
            "text/plain": [
              "                  Model  Train_Score  Test_Score\n",
              "3         Decision Tree     0.999969    0.808366\n",
              "1         Random Forest     0.999939    0.852896\n",
              "2                   KNN     0.897515    0.821817\n",
              "5        Neural Network     0.872117    0.846877\n",
              "0   Logistic Regression     0.824913    0.825318\n",
              "4  Gaussian Naive Bayes     0.803999    0.805110"
            ]
          },
          "metadata": {
            "tags": []
          },
          "execution_count": 136
        }
      ]
    },
    {
      "cell_type": "markdown",
      "metadata": {
        "id": "DK_KPb5e0AHz"
      },
      "source": [
        "From the train and validaion score it is evident that there is no overfitting. If we observe closely, we can see that for logistic regression and gaussian naive bayes the accuracy of training data seems to be slighly low than the accuracy of the test data."
      ]
    },
    {
      "cell_type": "markdown",
      "metadata": {
        "id": "Nc4ifg0b_Pob"
      },
      "source": [
        "# Pycaret library"
      ]
    },
    {
      "cell_type": "markdown",
      "metadata": {
        "id": "3_5vxanF_Toq"
      },
      "source": [
        "### 1. Checking whether imbalance or not"
      ]
    },
    {
      "cell_type": "code",
      "metadata": {
        "colab": {
          "base_uri": "https://localhost:8080/"
        },
        "id": "xRfcN2ou_ptC",
        "outputId": "cd40ea46-0091-4b0f-bfe1-8b93b656a23a"
      },
      "source": [
        "len(train[train['income']==0])"
      ],
      "execution_count": null,
      "outputs": [
        {
          "output_type": "execute_result",
          "data": {
            "text/plain": [
              "24720"
            ]
          },
          "metadata": {
            "tags": []
          },
          "execution_count": 18
        }
      ]
    },
    {
      "cell_type": "code",
      "metadata": {
        "colab": {
          "base_uri": "https://localhost:8080/"
        },
        "id": "Z7ZqrJyeAA7h",
        "outputId": "54e30389-f6d8-464b-e6ae-76054cc8975d"
      },
      "source": [
        "len(train[train['income']==1])"
      ],
      "execution_count": null,
      "outputs": [
        {
          "output_type": "execute_result",
          "data": {
            "text/plain": [
              "7841"
            ]
          },
          "metadata": {
            "tags": []
          },
          "execution_count": 19
        }
      ]
    },
    {
      "cell_type": "code",
      "metadata": {
        "colab": {
          "base_uri": "https://localhost:8080/",
          "height": 513
        },
        "id": "iop6tEbVc7ig",
        "outputId": "176c7422-13ec-4f6a-e5df-778fe64aff89"
      },
      "source": [
        "explode = (0.1,0)  \n",
        "fig1, ax1 = plt.subplots(figsize=(12,7))\n",
        "ax1.pie(train['income'].value_counts(), explode=explode,labels=[0,1], autopct='%1.1f%%',\n",
        "        shadow=True)\n",
        "# Equal aspect ratio ensures that pie is drawn as a circle\n",
        "ax1.axis('equal')  \n",
        "plt.tight_layout()\n",
        "plt.legend()\n",
        "plt.show()"
      ],
      "execution_count": null,
      "outputs": [
        {
          "output_type": "display_data",
          "data": {
            "image/png": "[encoded data removed]",
            "text/plain": [
              "<Figure size 864x504 with 1 Axes>"
            ]
          },
          "metadata": {
            "tags": []
          }
        }
      ]
    },
    {
      "cell_type": "markdown",
      "metadata": {
        "id": "WWr-8fsrAFra"
      },
      "source": [
        "The number of person having income <=50K is 24720 and the number of person having income >50K is 7841. From this, it is evident that the dataset is imbalanced"
      ]
    },
    {
      "cell_type": "code",
      "metadata": {
        "colab": {
          "base_uri": "https://localhost:8080/",
          "height": 1000,
          "referenced_widgets": [
            "1aba723f901e415d88dc60c522e37b31",
            "3f2250f225004d9aabd44c2996b52121",
            "e0250a8f07804569bc2e95f3959d1b40",
            "c5397b133fa2453b9f4a76f41e3e8b1a",
            "d107d6ba74ab477b852f2d8a8533c178",
            "6eafffbbd8d048d5a86d8bbfee83b306"
          ]
        },
        "id": "hBvWDfDSspGY",
        "outputId": "7b94abde-db00-441a-a6d0-dd6aa21b5b19"
      },
      "source": [
        "# importing module and initilizing setup\n",
        "from pycaret.classification import *\n",
        "reg = setup(data = train, target = \"income\")\n"
      ],
      "execution_count": null,
      "outputs": [
        {
          "output_type": "display_data",
          "data": {
            "text/html": [
              "<div>\n",
              "<style scoped>\n",
              "    .dataframe tbody tr th:only-of-type {\n",
              "        vertical-align: middle;\n",
              "    }\n",
              "\n",
              "    .dataframe tbody tr th {\n",
              "        vertical-align: top;\n",
              "    }\n",
              "\n",
              "    .dataframe thead th {\n",
              "        text-align: right;\n",
              "    }\n",
              "</style>\n",
              "<table border=\"1\" class=\"dataframe\">\n",
              "  <thead>\n",
              "    <tr style=\"text-align: right;\">\n",
              "      <th></th>\n",
              "      <th>Description</th>\n",
              "      <th>Value</th>\n",
              "    </tr>\n",
              "  </thead>\n",
              "  <tbody>\n",
              "    <tr>\n",
              "      <th>0</th>\n",
              "      <td>session_id</td>\n",
              "      <td>6885</td>\n",
              "    </tr>\n",
              "    <tr>\n",
              "      <th>1</th>\n",
              "      <td>Target</td>\n",
              "      <td>income</td>\n",
              "    </tr>\n",
              "    <tr>\n",
              "      <th>2</th>\n",
              "      <td>Target Type</td>\n",
              "      <td>Binary</td>\n",
              "    </tr>\n",
              "    <tr>\n",
              "      <th>3</th>\n",
              "      <td>Label Encoded</td>\n",
              "      <td>&lt;=50K: 0,  &gt;50K: 1</td>\n",
              "    </tr>\n",
              "    <tr>\n",
              "      <th>4</th>\n",
              "      <td>Original Data</td>\n",
              "      <td>(32561, 15)</td>\n",
              "    </tr>\n",
              "    <tr>\n",
              "      <th>5</th>\n",
              "      <td>Missing Values</td>\n",
              "      <td>False</td>\n",
              "    </tr>\n",
              "    <tr>\n",
              "      <th>6</th>\n",
              "      <td>Numeric Features</td>\n",
              "      <td>5</td>\n",
              "    </tr>\n",
              "    <tr>\n",
              "      <th>7</th>\n",
              "      <td>Categorical Features</td>\n",
              "      <td>9</td>\n",
              "    </tr>\n",
              "    <tr>\n",
              "      <th>8</th>\n",
              "      <td>Ordinal Features</td>\n",
              "      <td>False</td>\n",
              "    </tr>\n",
              "    <tr>\n",
              "      <th>9</th>\n",
              "      <td>High Cardinality Features</td>\n",
              "      <td>False</td>\n",
              "    </tr>\n",
              "    <tr>\n",
              "      <th>10</th>\n",
              "      <td>High Cardinality Method</td>\n",
              "      <td>None</td>\n",
              "    </tr>\n",
              "    <tr>\n",
              "      <th>11</th>\n",
              "      <td>Transformed Train Set</td>\n",
              "      <td>(22792, 104)</td>\n",
              "    </tr>\n",
              "    <tr>\n",
              "      <th>12</th>\n",
              "      <td>Transformed Test Set</td>\n",
              "      <td>(9769, 104)</td>\n",
              "    </tr>\n",
              "    <tr>\n",
              "      <th>13</th>\n",
              "      <td>Shuffle Train-Test</td>\n",
              "      <td>True</td>\n",
              "    </tr>\n",
              "    <tr>\n",
              "      <th>14</th>\n",
              "      <td>Stratify Train-Test</td>\n",
              "      <td>False</td>\n",
              "    </tr>\n",
              "    <tr>\n",
              "      <th>15</th>\n",
              "      <td>Fold Generator</td>\n",
              "      <td>StratifiedKFold</td>\n",
              "    </tr>\n",
              "    <tr>\n",
              "      <th>16</th>\n",
              "      <td>Fold Number</td>\n",
              "      <td>10</td>\n",
              "    </tr>\n",
              "    <tr>\n",
              "      <th>17</th>\n",
              "      <td>CPU Jobs</td>\n",
              "      <td>-1</td>\n",
              "    </tr>\n",
              "    <tr>\n",
              "      <th>18</th>\n",
              "      <td>Use GPU</td>\n",
              "      <td>False</td>\n",
              "    </tr>\n",
              "    <tr>\n",
              "      <th>19</th>\n",
              "      <td>Log Experiment</td>\n",
              "      <td>False</td>\n",
              "    </tr>\n",
              "    <tr>\n",
              "      <th>20</th>\n",
              "      <td>Experiment Name</td>\n",
              "      <td>clf-default-name</td>\n",
              "    </tr>\n",
              "    <tr>\n",
              "      <th>21</th>\n",
              "      <td>USI</td>\n",
              "      <td>cb68</td>\n",
              "    </tr>\n",
              "    <tr>\n",
              "      <th>22</th>\n",
              "      <td>Imputation Type</td>\n",
              "      <td>simple</td>\n",
              "    </tr>\n",
              "    <tr>\n",
              "      <th>23</th>\n",
              "      <td>Iterative Imputation Iteration</td>\n",
              "      <td>None</td>\n",
              "    </tr>\n",
              "    <tr>\n",
              "      <th>24</th>\n",
              "      <td>Numeric Imputer</td>\n",
              "      <td>mean</td>\n",
              "    </tr>\n",
              "    <tr>\n",
              "      <th>25</th>\n",
              "      <td>Iterative Imputation Numeric Model</td>\n",
              "      <td>None</td>\n",
              "    </tr>\n",
              "    <tr>\n",
              "      <th>26</th>\n",
              "      <td>Categorical Imputer</td>\n",
              "      <td>constant</td>\n",
              "    </tr>\n",
              "    <tr>\n",
              "      <th>27</th>\n",
              "      <td>Iterative Imputation Categorical Model</td>\n",
              "      <td>None</td>\n",
              "    </tr>\n",
              "    <tr>\n",
              "      <th>28</th>\n",
              "      <td>Unknown Categoricals Handling</td>\n",
              "      <td>least_frequent</td>\n",
              "    </tr>\n",
              "    <tr>\n",
              "      <th>29</th>\n",
              "      <td>Normalize</td>\n",
              "      <td>False</td>\n",
              "    </tr>\n",
              "    <tr>\n",
              "      <th>30</th>\n",
              "      <td>Normalize Method</td>\n",
              "      <td>None</td>\n",
              "    </tr>\n",
              "    <tr>\n",
              "      <th>31</th>\n",
              "      <td>Transformation</td>\n",
              "      <td>False</td>\n",
              "    </tr>\n",
              "    <tr>\n",
              "      <th>32</th>\n",
              "      <td>Transformation Method</td>\n",
              "      <td>None</td>\n",
              "    </tr>\n",
              "    <tr>\n",
              "      <th>33</th>\n",
              "      <td>PCA</td>\n",
              "      <td>False</td>\n",
              "    </tr>\n",
              "    <tr>\n",
              "      <th>34</th>\n",
              "      <td>PCA Method</td>\n",
              "      <td>None</td>\n",
              "    </tr>\n",
              "    <tr>\n",
              "      <th>35</th>\n",
              "      <td>PCA Components</td>\n",
              "      <td>None</td>\n",
              "    </tr>\n",
              "    <tr>\n",
              "      <th>36</th>\n",
              "      <td>Ignore Low Variance</td>\n",
              "      <td>False</td>\n",
              "    </tr>\n",
              "    <tr>\n",
              "      <th>37</th>\n",
              "      <td>Combine Rare Levels</td>\n",
              "      <td>False</td>\n",
              "    </tr>\n",
              "    <tr>\n",
              "      <th>38</th>\n",
              "      <td>Rare Level Threshold</td>\n",
              "      <td>None</td>\n",
              "    </tr>\n",
              "    <tr>\n",
              "      <th>39</th>\n",
              "      <td>Numeric Binning</td>\n",
              "      <td>False</td>\n",
              "    </tr>\n",
              "    <tr>\n",
              "      <th>40</th>\n",
              "      <td>Remove Outliers</td>\n",
              "      <td>False</td>\n",
              "    </tr>\n",
              "    <tr>\n",
              "      <th>41</th>\n",
              "      <td>Outliers Threshold</td>\n",
              "      <td>None</td>\n",
              "    </tr>\n",
              "    <tr>\n",
              "      <th>42</th>\n",
              "      <td>Remove Multicollinearity</td>\n",
              "      <td>False</td>\n",
              "    </tr>\n",
              "    <tr>\n",
              "      <th>43</th>\n",
              "      <td>Multicollinearity Threshold</td>\n",
              "      <td>None</td>\n",
              "    </tr>\n",
              "    <tr>\n",
              "      <th>44</th>\n",
              "      <td>Clustering</td>\n",
              "      <td>False</td>\n",
              "    </tr>\n",
              "    <tr>\n",
              "      <th>45</th>\n",
              "      <td>Clustering Iteration</td>\n",
              "      <td>None</td>\n",
              "    </tr>\n",
              "    <tr>\n",
              "      <th>46</th>\n",
              "      <td>Polynomial Features</td>\n",
              "      <td>False</td>\n",
              "    </tr>\n",
              "    <tr>\n",
              "      <th>47</th>\n",
              "      <td>Polynomial Degree</td>\n",
              "      <td>None</td>\n",
              "    </tr>\n",
              "    <tr>\n",
              "      <th>48</th>\n",
              "      <td>Trignometry Features</td>\n",
              "      <td>False</td>\n",
              "    </tr>\n",
              "    <tr>\n",
              "      <th>49</th>\n",
              "      <td>Polynomial Threshold</td>\n",
              "      <td>None</td>\n",
              "    </tr>\n",
              "    <tr>\n",
              "      <th>50</th>\n",
              "      <td>Group Features</td>\n",
              "      <td>False</td>\n",
              "    </tr>\n",
              "    <tr>\n",
              "      <th>51</th>\n",
              "      <td>Feature Selection</td>\n",
              "      <td>False</td>\n",
              "    </tr>\n",
              "    <tr>\n",
              "      <th>52</th>\n",
              "      <td>Features Selection Threshold</td>\n",
              "      <td>None</td>\n",
              "    </tr>\n",
              "    <tr>\n",
              "      <th>53</th>\n",
              "      <td>Feature Interaction</td>\n",
              "      <td>False</td>\n",
              "    </tr>\n",
              "    <tr>\n",
              "      <th>54</th>\n",
              "      <td>Feature Ratio</td>\n",
              "      <td>False</td>\n",
              "    </tr>\n",
              "    <tr>\n",
              "      <th>55</th>\n",
              "      <td>Interaction Threshold</td>\n",
              "      <td>None</td>\n",
              "    </tr>\n",
              "    <tr>\n",
              "      <th>56</th>\n",
              "      <td>Fix Imbalance</td>\n",
              "      <td>False</td>\n",
              "    </tr>\n",
              "    <tr>\n",
              "      <th>57</th>\n",
              "      <td>Fix Imbalance Method</td>\n",
              "      <td>SMOTE</td>\n",
              "    </tr>\n",
              "  </tbody>\n",
              "</table>\n",
              "</div>"
            ],
            "text/plain": [
              "                               Description                Value\n",
              "0                               session_id                 6885\n",
              "1                                   Target               income\n",
              "2                              Target Type               Binary\n",
              "3                            Label Encoded   <=50K: 0,  >50K: 1\n",
              "4                            Original Data          (32561, 15)\n",
              "5                           Missing Values                False\n",
              "6                         Numeric Features                    5\n",
              "7                     Categorical Features                    9\n",
              "8                         Ordinal Features                False\n",
              "9                High Cardinality Features                False\n",
              "10                 High Cardinality Method                 None\n",
              "11                   Transformed Train Set         (22792, 104)\n",
              "12                    Transformed Test Set          (9769, 104)\n",
              "13                      Shuffle Train-Test                 True\n",
              "14                     Stratify Train-Test                False\n",
              "15                          Fold Generator      StratifiedKFold\n",
              "16                             Fold Number                   10\n",
              "17                                CPU Jobs                   -1\n",
              "18                                 Use GPU                False\n",
              "19                          Log Experiment                False\n",
              "20                         Experiment Name     clf-default-name\n",
              "21                                     USI                 cb68\n",
              "22                         Imputation Type               simple\n",
              "23          Iterative Imputation Iteration                 None\n",
              "24                         Numeric Imputer                 mean\n",
              "25      Iterative Imputation Numeric Model                 None\n",
              "26                     Categorical Imputer             constant\n",
              "27  Iterative Imputation Categorical Model                 None\n",
              "28           Unknown Categoricals Handling       least_frequent\n",
              "29                               Normalize                False\n",
              "30                        Normalize Method                 None\n",
              "31                          Transformation                False\n",
              "32                   Transformation Method                 None\n",
              "33                                     PCA                False\n",
              "34                              PCA Method                 None\n",
              "35                          PCA Components                 None\n",
              "36                     Ignore Low Variance                False\n",
              "37                     Combine Rare Levels                False\n",
              "38                    Rare Level Threshold                 None\n",
              "39                         Numeric Binning                False\n",
              "40                         Remove Outliers                False\n",
              "41                      Outliers Threshold                 None\n",
              "42                Remove Multicollinearity                False\n",
              "43             Multicollinearity Threshold                 None\n",
              "44                              Clustering                False\n",
              "45                    Clustering Iteration                 None\n",
              "46                     Polynomial Features                False\n",
              "47                       Polynomial Degree                 None\n",
              "48                    Trignometry Features                False\n",
              "49                    Polynomial Threshold                 None\n",
              "50                          Group Features                False\n",
              "51                       Feature Selection                False\n",
              "52            Features Selection Threshold                 None\n",
              "53                     Feature Interaction                False\n",
              "54                           Feature Ratio                False\n",
              "55                   Interaction Threshold                 None\n",
              "56                           Fix Imbalance                False\n",
              "57                    Fix Imbalance Method                SMOTE"
            ]
          },
          "metadata": {
            "tags": []
          }
        }
      ]
    },
    {
      "cell_type": "markdown",
      "metadata": {
        "id": "CoFbhgZXFRZm"
      },
      "source": [
        "### 2. Creating model using pycaret"
      ]
    },
    {
      "cell_type": "code",
      "metadata": {
        "colab": {
          "base_uri": "https://localhost:8080/",
          "height": 402,
          "referenced_widgets": [
            "6bf52610750b4d13bb62416de56462a3",
            "0f2f5faf73c34798bb8de934a0fcfc12",
            "bd33f94ee5cf4945906ba3d90f32157e"
          ]
        },
        "id": "keerJq2_FP52",
        "outputId": "4f4a2204-06cb-4228-c6c1-14965311e014"
      },
      "source": [
        "model_1 = create_model('lr')"
      ],
      "execution_count": null,
      "outputs": [
        {
          "output_type": "display_data",
          "data": {
            "text/html": [
              "<div>\n",
              "<style scoped>\n",
              "    .dataframe tbody tr th:only-of-type {\n",
              "        vertical-align: middle;\n",
              "    }\n",
              "\n",
              "    .dataframe tbody tr th {\n",
              "        vertical-align: top;\n",
              "    }\n",
              "\n",
              "    .dataframe thead th {\n",
              "        text-align: right;\n",
              "    }\n",
              "</style>\n",
              "<table border=\"1\" class=\"dataframe\">\n",
              "  <thead>\n",
              "    <tr style=\"text-align: right;\">\n",
              "      <th></th>\n",
              "      <th>Accuracy</th>\n",
              "      <th>AUC</th>\n",
              "      <th>Recall</th>\n",
              "      <th>Prec.</th>\n",
              "      <th>F1</th>\n",
              "      <th>Kappa</th>\n",
              "      <th>MCC</th>\n",
              "    </tr>\n",
              "  </thead>\n",
              "  <tbody>\n",
              "    <tr>\n",
              "      <th>0</th>\n",
              "      <td>0.7956</td>\n",
              "      <td>0.6294</td>\n",
              "      <td>0.2368</td>\n",
              "      <td>0.7345</td>\n",
              "      <td>0.3581</td>\n",
              "      <td>0.2727</td>\n",
              "      <td>0.3350</td>\n",
              "    </tr>\n",
              "    <tr>\n",
              "      <th>1</th>\n",
              "      <td>0.8048</td>\n",
              "      <td>0.6059</td>\n",
              "      <td>0.2842</td>\n",
              "      <td>0.7500</td>\n",
              "      <td>0.4122</td>\n",
              "      <td>0.3225</td>\n",
              "      <td>0.3773</td>\n",
              "    </tr>\n",
              "    <tr>\n",
              "      <th>2</th>\n",
              "      <td>0.7894</td>\n",
              "      <td>0.5648</td>\n",
              "      <td>0.2336</td>\n",
              "      <td>0.6809</td>\n",
              "      <td>0.3478</td>\n",
              "      <td>0.2565</td>\n",
              "      <td>0.3090</td>\n",
              "    </tr>\n",
              "    <tr>\n",
              "      <th>3</th>\n",
              "      <td>0.7898</td>\n",
              "      <td>0.5685</td>\n",
              "      <td>0.2482</td>\n",
              "      <td>0.6700</td>\n",
              "      <td>0.3622</td>\n",
              "      <td>0.2669</td>\n",
              "      <td>0.3143</td>\n",
              "    </tr>\n",
              "    <tr>\n",
              "      <th>4</th>\n",
              "      <td>0.7867</td>\n",
              "      <td>0.5575</td>\n",
              "      <td>0.2409</td>\n",
              "      <td>0.6535</td>\n",
              "      <td>0.3520</td>\n",
              "      <td>0.2556</td>\n",
              "      <td>0.3014</td>\n",
              "    </tr>\n",
              "    <tr>\n",
              "      <th>5</th>\n",
              "      <td>0.7995</td>\n",
              "      <td>0.5946</td>\n",
              "      <td>0.2701</td>\n",
              "      <td>0.7220</td>\n",
              "      <td>0.3931</td>\n",
              "      <td>0.3017</td>\n",
              "      <td>0.3542</td>\n",
              "    </tr>\n",
              "    <tr>\n",
              "      <th>6</th>\n",
              "      <td>0.8069</td>\n",
              "      <td>0.6195</td>\n",
              "      <td>0.2969</td>\n",
              "      <td>0.7512</td>\n",
              "      <td>0.4256</td>\n",
              "      <td>0.3348</td>\n",
              "      <td>0.3871</td>\n",
              "    </tr>\n",
              "    <tr>\n",
              "      <th>7</th>\n",
              "      <td>0.7946</td>\n",
              "      <td>0.5954</td>\n",
              "      <td>0.2641</td>\n",
              "      <td>0.6938</td>\n",
              "      <td>0.3826</td>\n",
              "      <td>0.2880</td>\n",
              "      <td>0.3365</td>\n",
              "    </tr>\n",
              "    <tr>\n",
              "      <th>8</th>\n",
              "      <td>0.7999</td>\n",
              "      <td>0.6301</td>\n",
              "      <td>0.2696</td>\n",
              "      <td>0.7291</td>\n",
              "      <td>0.3936</td>\n",
              "      <td>0.3030</td>\n",
              "      <td>0.3570</td>\n",
              "    </tr>\n",
              "    <tr>\n",
              "      <th>9</th>\n",
              "      <td>0.7973</td>\n",
              "      <td>0.5622</td>\n",
              "      <td>0.2222</td>\n",
              "      <td>0.7771</td>\n",
              "      <td>0.3456</td>\n",
              "      <td>0.2671</td>\n",
              "      <td>0.3411</td>\n",
              "    </tr>\n",
              "    <tr>\n",
              "      <th>Mean</th>\n",
              "      <td>0.7965</td>\n",
              "      <td>0.5928</td>\n",
              "      <td>0.2566</td>\n",
              "      <td>0.7162</td>\n",
              "      <td>0.3773</td>\n",
              "      <td>0.2869</td>\n",
              "      <td>0.3413</td>\n",
              "    </tr>\n",
              "    <tr>\n",
              "      <th>SD</th>\n",
              "      <td>0.0063</td>\n",
              "      <td>0.0268</td>\n",
              "      <td>0.0228</td>\n",
              "      <td>0.0380</td>\n",
              "      <td>0.0268</td>\n",
              "      <td>0.0263</td>\n",
              "      <td>0.0269</td>\n",
              "    </tr>\n",
              "  </tbody>\n",
              "</table>\n",
              "</div>"
            ],
            "text/plain": [
              "      Accuracy     AUC  Recall   Prec.      F1   Kappa     MCC\n",
              "0       0.7956  0.6294  0.2368  0.7345  0.3581  0.2727  0.3350\n",
              "1       0.8048  0.6059  0.2842  0.7500  0.4122  0.3225  0.3773\n",
              "2       0.7894  0.5648  0.2336  0.6809  0.3478  0.2565  0.3090\n",
              "3       0.7898  0.5685  0.2482  0.6700  0.3622  0.2669  0.3143\n",
              "4       0.7867  0.5575  0.2409  0.6535  0.3520  0.2556  0.3014\n",
              "5       0.7995  0.5946  0.2701  0.7220  0.3931  0.3017  0.3542\n",
              "6       0.8069  0.6195  0.2969  0.7512  0.4256  0.3348  0.3871\n",
              "7       0.7946  0.5954  0.2641  0.6938  0.3826  0.2880  0.3365\n",
              "8       0.7999  0.6301  0.2696  0.7291  0.3936  0.3030  0.3570\n",
              "9       0.7973  0.5622  0.2222  0.7771  0.3456  0.2671  0.3411\n",
              "Mean    0.7965  0.5928  0.2566  0.7162  0.3773  0.2869  0.3413\n",
              "SD      0.0063  0.0268  0.0228  0.0380  0.0268  0.0263  0.0269"
            ]
          },
          "metadata": {
            "tags": []
          }
        }
      ]
    },
    {
      "cell_type": "code",
      "metadata": {
        "colab": {
          "base_uri": "https://localhost:8080/"
        },
        "id": "a8AIyM3DGI7z",
        "outputId": "7c48a930-cfc7-49a6-b215-7081099a286d"
      },
      "source": [
        "model_1"
      ],
      "execution_count": null,
      "outputs": [
        {
          "output_type": "execute_result",
          "data": {
            "text/plain": [
              "LogisticRegression(C=1.0, class_weight=None, dual=False, fit_intercept=True,\n",
              "                   intercept_scaling=1, l1_ratio=None, max_iter=1000,\n",
              "                   multi_class='auto', n_jobs=None, penalty='l2',\n",
              "                   random_state=6885, solver='lbfgs', tol=0.0001, verbose=0,\n",
              "                   warm_start=False)"
            ]
          },
          "metadata": {
            "tags": []
          },
          "execution_count": 29
        }
      ]
    },
    {
      "cell_type": "code",
      "metadata": {
        "colab": {
          "base_uri": "https://localhost:8080/",
          "height": 402,
          "referenced_widgets": [
            "6178632a2c324f4eaf7f4253d8a4f6b9",
            "dd599166251f4e4cbe6b236345d60952",
            "91d9dfefcfdb4490b6c2154f18f37ca4"
          ]
        },
        "id": "7BYa7XhDGeu8",
        "outputId": "3337c2db-468d-4ba3-a02b-ce70964b8eb9"
      },
      "source": [
        "model_2 = create_model('knn')"
      ],
      "execution_count": null,
      "outputs": [
        {
          "output_type": "display_data",
          "data": {
            "text/html": [
              "<div>\n",
              "<style scoped>\n",
              "    .dataframe tbody tr th:only-of-type {\n",
              "        vertical-align: middle;\n",
              "    }\n",
              "\n",
              "    .dataframe tbody tr th {\n",
              "        vertical-align: top;\n",
              "    }\n",
              "\n",
              "    .dataframe thead th {\n",
              "        text-align: right;\n",
              "    }\n",
              "</style>\n",
              "<table border=\"1\" class=\"dataframe\">\n",
              "  <thead>\n",
              "    <tr style=\"text-align: right;\">\n",
              "      <th></th>\n",
              "      <th>Accuracy</th>\n",
              "      <th>AUC</th>\n",
              "      <th>Recall</th>\n",
              "      <th>Prec.</th>\n",
              "      <th>F1</th>\n",
              "      <th>Kappa</th>\n",
              "      <th>MCC</th>\n",
              "    </tr>\n",
              "  </thead>\n",
              "  <tbody>\n",
              "    <tr>\n",
              "      <th>0</th>\n",
              "      <td>0.7662</td>\n",
              "      <td>0.6578</td>\n",
              "      <td>0.2914</td>\n",
              "      <td>0.5263</td>\n",
              "      <td>0.3751</td>\n",
              "      <td>0.2457</td>\n",
              "      <td>0.2619</td>\n",
              "    </tr>\n",
              "    <tr>\n",
              "      <th>1</th>\n",
              "      <td>0.7754</td>\n",
              "      <td>0.6588</td>\n",
              "      <td>0.3206</td>\n",
              "      <td>0.5587</td>\n",
              "      <td>0.4074</td>\n",
              "      <td>0.2812</td>\n",
              "      <td>0.2977</td>\n",
              "    </tr>\n",
              "    <tr>\n",
              "      <th>2</th>\n",
              "      <td>0.7679</td>\n",
              "      <td>0.6572</td>\n",
              "      <td>0.2865</td>\n",
              "      <td>0.5322</td>\n",
              "      <td>0.3725</td>\n",
              "      <td>0.2455</td>\n",
              "      <td>0.2632</td>\n",
              "    </tr>\n",
              "    <tr>\n",
              "      <th>3</th>\n",
              "      <td>0.7626</td>\n",
              "      <td>0.6406</td>\n",
              "      <td>0.2938</td>\n",
              "      <td>0.5111</td>\n",
              "      <td>0.3731</td>\n",
              "      <td>0.2396</td>\n",
              "      <td>0.2536</td>\n",
              "    </tr>\n",
              "    <tr>\n",
              "      <th>4</th>\n",
              "      <td>0.7661</td>\n",
              "      <td>0.6618</td>\n",
              "      <td>0.2719</td>\n",
              "      <td>0.5265</td>\n",
              "      <td>0.3586</td>\n",
              "      <td>0.2330</td>\n",
              "      <td>0.2520</td>\n",
              "    </tr>\n",
              "    <tr>\n",
              "      <th>5</th>\n",
              "      <td>0.7828</td>\n",
              "      <td>0.6787</td>\n",
              "      <td>0.3102</td>\n",
              "      <td>0.5923</td>\n",
              "      <td>0.4072</td>\n",
              "      <td>0.2898</td>\n",
              "      <td>0.3125</td>\n",
              "    </tr>\n",
              "    <tr>\n",
              "      <th>6</th>\n",
              "      <td>0.7841</td>\n",
              "      <td>0.6691</td>\n",
              "      <td>0.3260</td>\n",
              "      <td>0.5947</td>\n",
              "      <td>0.4212</td>\n",
              "      <td>0.3021</td>\n",
              "      <td>0.3227</td>\n",
              "    </tr>\n",
              "    <tr>\n",
              "      <th>7</th>\n",
              "      <td>0.7626</td>\n",
              "      <td>0.6367</td>\n",
              "      <td>0.3024</td>\n",
              "      <td>0.5123</td>\n",
              "      <td>0.3803</td>\n",
              "      <td>0.2454</td>\n",
              "      <td>0.2584</td>\n",
              "    </tr>\n",
              "    <tr>\n",
              "      <th>8</th>\n",
              "      <td>0.7635</td>\n",
              "      <td>0.6522</td>\n",
              "      <td>0.2987</td>\n",
              "      <td>0.5157</td>\n",
              "      <td>0.3783</td>\n",
              "      <td>0.2449</td>\n",
              "      <td>0.2588</td>\n",
              "    </tr>\n",
              "    <tr>\n",
              "      <th>9</th>\n",
              "      <td>0.7762</td>\n",
              "      <td>0.6451</td>\n",
              "      <td>0.2914</td>\n",
              "      <td>0.5694</td>\n",
              "      <td>0.3855</td>\n",
              "      <td>0.2658</td>\n",
              "      <td>0.2881</td>\n",
              "    </tr>\n",
              "    <tr>\n",
              "      <th>Mean</th>\n",
              "      <td>0.7708</td>\n",
              "      <td>0.6558</td>\n",
              "      <td>0.2993</td>\n",
              "      <td>0.5439</td>\n",
              "      <td>0.3859</td>\n",
              "      <td>0.2593</td>\n",
              "      <td>0.2769</td>\n",
              "    </tr>\n",
              "    <tr>\n",
              "      <th>SD</th>\n",
              "      <td>0.0078</td>\n",
              "      <td>0.0121</td>\n",
              "      <td>0.0154</td>\n",
              "      <td>0.0307</td>\n",
              "      <td>0.0186</td>\n",
              "      <td>0.0227</td>\n",
              "      <td>0.0248</td>\n",
              "    </tr>\n",
              "  </tbody>\n",
              "</table>\n",
              "</div>"
            ],
            "text/plain": [
              "      Accuracy     AUC  Recall   Prec.      F1   Kappa     MCC\n",
              "0       0.7662  0.6578  0.2914  0.5263  0.3751  0.2457  0.2619\n",
              "1       0.7754  0.6588  0.3206  0.5587  0.4074  0.2812  0.2977\n",
              "2       0.7679  0.6572  0.2865  0.5322  0.3725  0.2455  0.2632\n",
              "3       0.7626  0.6406  0.2938  0.5111  0.3731  0.2396  0.2536\n",
              "4       0.7661  0.6618  0.2719  0.5265  0.3586  0.2330  0.2520\n",
              "5       0.7828  0.6787  0.3102  0.5923  0.4072  0.2898  0.3125\n",
              "6       0.7841  0.6691  0.3260  0.5947  0.4212  0.3021  0.3227\n",
              "7       0.7626  0.6367  0.3024  0.5123  0.3803  0.2454  0.2584\n",
              "8       0.7635  0.6522  0.2987  0.5157  0.3783  0.2449  0.2588\n",
              "9       0.7762  0.6451  0.2914  0.5694  0.3855  0.2658  0.2881\n",
              "Mean    0.7708  0.6558  0.2993  0.5439  0.3859  0.2593  0.2769\n",
              "SD      0.0078  0.0121  0.0154  0.0307  0.0186  0.0227  0.0248"
            ]
          },
          "metadata": {
            "tags": []
          }
        }
      ]
    },
    {
      "cell_type": "code",
      "metadata": {
        "colab": {
          "base_uri": "https://localhost:8080/"
        },
        "id": "NSVij_h0GxP3",
        "outputId": "2f9bbebc-e972-49fd-b60e-bcd135dfb5a0"
      },
      "source": [
        "model_2"
      ],
      "execution_count": null,
      "outputs": [
        {
          "output_type": "execute_result",
          "data": {
            "text/plain": [
              "KNeighborsClassifier(algorithm='auto', leaf_size=30, metric='minkowski',\n",
              "                     metric_params=None, n_jobs=-1, n_neighbors=5, p=2,\n",
              "                     weights='uniform')"
            ]
          },
          "metadata": {
            "tags": []
          },
          "execution_count": 31
        }
      ]
    },
    {
      "cell_type": "markdown",
      "metadata": {
        "id": "RGdEMEHFIDSA"
      },
      "source": [
        "### 3. Visualization using pycaret"
      ]
    },
    {
      "cell_type": "code",
      "metadata": {
        "colab": {
          "base_uri": "https://localhost:8080/",
          "height": 376
        },
        "id": "Y3FN7f4ZIC7X",
        "outputId": "85f36200-1c2e-43c0-8be0-60ef29277110"
      },
      "source": [
        "plot_1 = plot_model(model_1)"
      ],
      "execution_count": null,
      "outputs": [
        {
          "output_type": "display_data",
          "data": {
            "image/png": "[encoded data removed]",
            "text/plain": [
              "<Figure size 576x396 with 1 Axes>"
            ]
          },
          "metadata": {
            "tags": []
          }
        }
      ]
    },
    {
      "cell_type": "code",
      "metadata": {
        "colab": {
          "base_uri": "https://localhost:8080/",
          "height": 376,
          "referenced_widgets": [
            "eefd39af256146d990b55b99be697d89",
            "b582f8826d5445eaa854f5a273c87e4a",
            "930d8ae7e8a849ab91a5b9f851305c2f"
          ]
        },
        "id": "cn4ewXyRIT4E",
        "outputId": "8efd1d11-9081-4d0a-8202-633fc3460b76"
      },
      "source": [
        "plot_2 = plot_model(model_2)"
      ],
      "execution_count": null,
      "outputs": [
        {
          "output_type": "display_data",
          "data": {
            "image/png": "[encoded data removed]",
            "text/plain": [
              "<Figure size 576x396 with 1 Axes>"
            ]
          },
          "metadata": {
            "tags": []
          }
        }
      ]
    },
    {
      "cell_type": "markdown",
      "metadata": {
        "id": "3MQ_HcPOGcBF"
      },
      "source": [
        "### 4. Hyperparameter tuning using pycaret"
      ]
    },
    {
      "cell_type": "code",
      "metadata": {
        "colab": {
          "base_uri": "https://localhost:8080/",
          "height": 402,
          "referenced_widgets": [
            "09a5bd8d47df4faf9f77b93591682561",
            "e895f66e3e3f428592038be2354bdbd0",
            "56e2a508ed9e47e3bb5879eb8a5b5862"
          ]
        },
        "id": "FX-L_Jf9GZ4W",
        "outputId": "ff3c09d1-84a0-4a39-b390-49ef263e35fc"
      },
      "source": [
        "hypertune_1 = tune_model(model_1)"
      ],
      "execution_count": null,
      "outputs": [
        {
          "output_type": "display_data",
          "data": {
            "text/html": [
              "<div>\n",
              "<style scoped>\n",
              "    .dataframe tbody tr th:only-of-type {\n",
              "        vertical-align: middle;\n",
              "    }\n",
              "\n",
              "    .dataframe tbody tr th {\n",
              "        vertical-align: top;\n",
              "    }\n",
              "\n",
              "    .dataframe thead th {\n",
              "        text-align: right;\n",
              "    }\n",
              "</style>\n",
              "<table border=\"1\" class=\"dataframe\">\n",
              "  <thead>\n",
              "    <tr style=\"text-align: right;\">\n",
              "      <th></th>\n",
              "      <th>Accuracy</th>\n",
              "      <th>AUC</th>\n",
              "      <th>Recall</th>\n",
              "      <th>Prec.</th>\n",
              "      <th>F1</th>\n",
              "      <th>Kappa</th>\n",
              "      <th>MCC</th>\n",
              "    </tr>\n",
              "  </thead>\n",
              "  <tbody>\n",
              "    <tr>\n",
              "      <th>0</th>\n",
              "      <td>0.7956</td>\n",
              "      <td>0.6294</td>\n",
              "      <td>0.2368</td>\n",
              "      <td>0.7345</td>\n",
              "      <td>0.3581</td>\n",
              "      <td>0.2727</td>\n",
              "      <td>0.3350</td>\n",
              "    </tr>\n",
              "    <tr>\n",
              "      <th>1</th>\n",
              "      <td>0.8048</td>\n",
              "      <td>0.6059</td>\n",
              "      <td>0.2842</td>\n",
              "      <td>0.7500</td>\n",
              "      <td>0.4122</td>\n",
              "      <td>0.3225</td>\n",
              "      <td>0.3773</td>\n",
              "    </tr>\n",
              "    <tr>\n",
              "      <th>2</th>\n",
              "      <td>0.7894</td>\n",
              "      <td>0.5648</td>\n",
              "      <td>0.2336</td>\n",
              "      <td>0.6809</td>\n",
              "      <td>0.3478</td>\n",
              "      <td>0.2565</td>\n",
              "      <td>0.3090</td>\n",
              "    </tr>\n",
              "    <tr>\n",
              "      <th>3</th>\n",
              "      <td>0.7898</td>\n",
              "      <td>0.5685</td>\n",
              "      <td>0.2482</td>\n",
              "      <td>0.6700</td>\n",
              "      <td>0.3622</td>\n",
              "      <td>0.2669</td>\n",
              "      <td>0.3143</td>\n",
              "    </tr>\n",
              "    <tr>\n",
              "      <th>4</th>\n",
              "      <td>0.7867</td>\n",
              "      <td>0.5575</td>\n",
              "      <td>0.2409</td>\n",
              "      <td>0.6535</td>\n",
              "      <td>0.3520</td>\n",
              "      <td>0.2556</td>\n",
              "      <td>0.3014</td>\n",
              "    </tr>\n",
              "    <tr>\n",
              "      <th>5</th>\n",
              "      <td>0.7995</td>\n",
              "      <td>0.5946</td>\n",
              "      <td>0.2701</td>\n",
              "      <td>0.7220</td>\n",
              "      <td>0.3931</td>\n",
              "      <td>0.3017</td>\n",
              "      <td>0.3542</td>\n",
              "    </tr>\n",
              "    <tr>\n",
              "      <th>6</th>\n",
              "      <td>0.8069</td>\n",
              "      <td>0.6195</td>\n",
              "      <td>0.2969</td>\n",
              "      <td>0.7512</td>\n",
              "      <td>0.4256</td>\n",
              "      <td>0.3348</td>\n",
              "      <td>0.3871</td>\n",
              "    </tr>\n",
              "    <tr>\n",
              "      <th>7</th>\n",
              "      <td>0.7946</td>\n",
              "      <td>0.5954</td>\n",
              "      <td>0.2641</td>\n",
              "      <td>0.6938</td>\n",
              "      <td>0.3826</td>\n",
              "      <td>0.2880</td>\n",
              "      <td>0.3365</td>\n",
              "    </tr>\n",
              "    <tr>\n",
              "      <th>8</th>\n",
              "      <td>0.7999</td>\n",
              "      <td>0.6301</td>\n",
              "      <td>0.2696</td>\n",
              "      <td>0.7291</td>\n",
              "      <td>0.3936</td>\n",
              "      <td>0.3030</td>\n",
              "      <td>0.3570</td>\n",
              "    </tr>\n",
              "    <tr>\n",
              "      <th>9</th>\n",
              "      <td>0.7973</td>\n",
              "      <td>0.5622</td>\n",
              "      <td>0.2222</td>\n",
              "      <td>0.7771</td>\n",
              "      <td>0.3456</td>\n",
              "      <td>0.2671</td>\n",
              "      <td>0.3411</td>\n",
              "    </tr>\n",
              "    <tr>\n",
              "      <th>Mean</th>\n",
              "      <td>0.7965</td>\n",
              "      <td>0.5928</td>\n",
              "      <td>0.2566</td>\n",
              "      <td>0.7162</td>\n",
              "      <td>0.3773</td>\n",
              "      <td>0.2869</td>\n",
              "      <td>0.3413</td>\n",
              "    </tr>\n",
              "    <tr>\n",
              "      <th>SD</th>\n",
              "      <td>0.0063</td>\n",
              "      <td>0.0268</td>\n",
              "      <td>0.0228</td>\n",
              "      <td>0.0380</td>\n",
              "      <td>0.0268</td>\n",
              "      <td>0.0263</td>\n",
              "      <td>0.0269</td>\n",
              "    </tr>\n",
              "  </tbody>\n",
              "</table>\n",
              "</div>"
            ],
            "text/plain": [
              "      Accuracy     AUC  Recall   Prec.      F1   Kappa     MCC\n",
              "0       0.7956  0.6294  0.2368  0.7345  0.3581  0.2727  0.3350\n",
              "1       0.8048  0.6059  0.2842  0.7500  0.4122  0.3225  0.3773\n",
              "2       0.7894  0.5648  0.2336  0.6809  0.3478  0.2565  0.3090\n",
              "3       0.7898  0.5685  0.2482  0.6700  0.3622  0.2669  0.3143\n",
              "4       0.7867  0.5575  0.2409  0.6535  0.3520  0.2556  0.3014\n",
              "5       0.7995  0.5946  0.2701  0.7220  0.3931  0.3017  0.3542\n",
              "6       0.8069  0.6195  0.2969  0.7512  0.4256  0.3348  0.3871\n",
              "7       0.7946  0.5954  0.2641  0.6938  0.3826  0.2880  0.3365\n",
              "8       0.7999  0.6301  0.2696  0.7291  0.3936  0.3030  0.3570\n",
              "9       0.7973  0.5622  0.2222  0.7771  0.3456  0.2671  0.3411\n",
              "Mean    0.7965  0.5928  0.2566  0.7162  0.3773  0.2869  0.3413\n",
              "SD      0.0063  0.0268  0.0228  0.0380  0.0268  0.0263  0.0269"
            ]
          },
          "metadata": {
            "tags": []
          }
        }
      ]
    },
    {
      "cell_type": "code",
      "metadata": {
        "colab": {
          "base_uri": "https://localhost:8080/",
          "height": 402,
          "referenced_widgets": [
            "8d63a00045514a69867c748b004b791b",
            "baefe0eec87941e5852951e9f77d5226",
            "535ce7e3ea1e486cba3d491eebf21a98"
          ]
        },
        "id": "-gNF8hWWG-ur",
        "outputId": "a757f3cc-40e9-44dc-8f0f-2d1a7f919475"
      },
      "source": [
        "hypertune_2 = tune_model(model_2)"
      ],
      "execution_count": null,
      "outputs": [
        {
          "output_type": "display_data",
          "data": {
            "text/html": [
              "<div>\n",
              "<style scoped>\n",
              "    .dataframe tbody tr th:only-of-type {\n",
              "        vertical-align: middle;\n",
              "    }\n",
              "\n",
              "    .dataframe tbody tr th {\n",
              "        vertical-align: top;\n",
              "    }\n",
              "\n",
              "    .dataframe thead th {\n",
              "        text-align: right;\n",
              "    }\n",
              "</style>\n",
              "<table border=\"1\" class=\"dataframe\">\n",
              "  <thead>\n",
              "    <tr style=\"text-align: right;\">\n",
              "      <th></th>\n",
              "      <th>Accuracy</th>\n",
              "      <th>AUC</th>\n",
              "      <th>Recall</th>\n",
              "      <th>Prec.</th>\n",
              "      <th>F1</th>\n",
              "      <th>Kappa</th>\n",
              "      <th>MCC</th>\n",
              "    </tr>\n",
              "  </thead>\n",
              "  <tbody>\n",
              "    <tr>\n",
              "      <th>0</th>\n",
              "      <td>0.7969</td>\n",
              "      <td>0.6940</td>\n",
              "      <td>0.2149</td>\n",
              "      <td>0.7867</td>\n",
              "      <td>0.3376</td>\n",
              "      <td>0.2613</td>\n",
              "      <td>0.3388</td>\n",
              "    </tr>\n",
              "    <tr>\n",
              "      <th>1</th>\n",
              "      <td>0.8009</td>\n",
              "      <td>0.6753</td>\n",
              "      <td>0.2441</td>\n",
              "      <td>0.7746</td>\n",
              "      <td>0.3712</td>\n",
              "      <td>0.2892</td>\n",
              "      <td>0.3577</td>\n",
              "    </tr>\n",
              "    <tr>\n",
              "      <th>2</th>\n",
              "      <td>0.7986</td>\n",
              "      <td>0.6915</td>\n",
              "      <td>0.2226</td>\n",
              "      <td>0.7871</td>\n",
              "      <td>0.3471</td>\n",
              "      <td>0.2696</td>\n",
              "      <td>0.3455</td>\n",
              "    </tr>\n",
              "    <tr>\n",
              "      <th>3</th>\n",
              "      <td>0.7960</td>\n",
              "      <td>0.6712</td>\n",
              "      <td>0.2391</td>\n",
              "      <td>0.7318</td>\n",
              "      <td>0.3604</td>\n",
              "      <td>0.2745</td>\n",
              "      <td>0.3357</td>\n",
              "    </tr>\n",
              "    <tr>\n",
              "      <th>4</th>\n",
              "      <td>0.7933</td>\n",
              "      <td>0.7001</td>\n",
              "      <td>0.2117</td>\n",
              "      <td>0.7484</td>\n",
              "      <td>0.3300</td>\n",
              "      <td>0.2505</td>\n",
              "      <td>0.3211</td>\n",
              "    </tr>\n",
              "    <tr>\n",
              "      <th>5</th>\n",
              "      <td>0.8047</td>\n",
              "      <td>0.7178</td>\n",
              "      <td>0.2427</td>\n",
              "      <td>0.8160</td>\n",
              "      <td>0.3741</td>\n",
              "      <td>0.2966</td>\n",
              "      <td>0.3738</td>\n",
              "    </tr>\n",
              "    <tr>\n",
              "      <th>6</th>\n",
              "      <td>0.8100</td>\n",
              "      <td>0.7038</td>\n",
              "      <td>0.2550</td>\n",
              "      <td>0.8537</td>\n",
              "      <td>0.3927</td>\n",
              "      <td>0.3170</td>\n",
              "      <td>0.3990</td>\n",
              "    </tr>\n",
              "    <tr>\n",
              "      <th>7</th>\n",
              "      <td>0.7986</td>\n",
              "      <td>0.6758</td>\n",
              "      <td>0.2459</td>\n",
              "      <td>0.7500</td>\n",
              "      <td>0.3704</td>\n",
              "      <td>0.2854</td>\n",
              "      <td>0.3486</td>\n",
              "    </tr>\n",
              "    <tr>\n",
              "      <th>8</th>\n",
              "      <td>0.7999</td>\n",
              "      <td>0.6947</td>\n",
              "      <td>0.2495</td>\n",
              "      <td>0.7569</td>\n",
              "      <td>0.3753</td>\n",
              "      <td>0.2906</td>\n",
              "      <td>0.3544</td>\n",
              "    </tr>\n",
              "    <tr>\n",
              "      <th>9</th>\n",
              "      <td>0.7999</td>\n",
              "      <td>0.6810</td>\n",
              "      <td>0.2204</td>\n",
              "      <td>0.8121</td>\n",
              "      <td>0.3467</td>\n",
              "      <td>0.2718</td>\n",
              "      <td>0.3533</td>\n",
              "    </tr>\n",
              "    <tr>\n",
              "      <th>Mean</th>\n",
              "      <td>0.7999</td>\n",
              "      <td>0.6905</td>\n",
              "      <td>0.2346</td>\n",
              "      <td>0.7817</td>\n",
              "      <td>0.3606</td>\n",
              "      <td>0.2806</td>\n",
              "      <td>0.3528</td>\n",
              "    </tr>\n",
              "    <tr>\n",
              "      <th>SD</th>\n",
              "      <td>0.0044</td>\n",
              "      <td>0.0140</td>\n",
              "      <td>0.0148</td>\n",
              "      <td>0.0355</td>\n",
              "      <td>0.0186</td>\n",
              "      <td>0.0181</td>\n",
              "      <td>0.0204</td>\n",
              "    </tr>\n",
              "  </tbody>\n",
              "</table>\n",
              "</div>"
            ],
            "text/plain": [
              "      Accuracy     AUC  Recall   Prec.      F1   Kappa     MCC\n",
              "0       0.7969  0.6940  0.2149  0.7867  0.3376  0.2613  0.3388\n",
              "1       0.8009  0.6753  0.2441  0.7746  0.3712  0.2892  0.3577\n",
              "2       0.7986  0.6915  0.2226  0.7871  0.3471  0.2696  0.3455\n",
              "3       0.7960  0.6712  0.2391  0.7318  0.3604  0.2745  0.3357\n",
              "4       0.7933  0.7001  0.2117  0.7484  0.3300  0.2505  0.3211\n",
              "5       0.8047  0.7178  0.2427  0.8160  0.3741  0.2966  0.3738\n",
              "6       0.8100  0.7038  0.2550  0.8537  0.3927  0.3170  0.3990\n",
              "7       0.7986  0.6758  0.2459  0.7500  0.3704  0.2854  0.3486\n",
              "8       0.7999  0.6947  0.2495  0.7569  0.3753  0.2906  0.3544\n",
              "9       0.7999  0.6810  0.2204  0.8121  0.3467  0.2718  0.3533\n",
              "Mean    0.7999  0.6905  0.2346  0.7817  0.3606  0.2806  0.3528\n",
              "SD      0.0044  0.0140  0.0148  0.0355  0.0186  0.0181  0.0204"
            ]
          },
          "metadata": {
            "tags": []
          }
        }
      ]
    },
    {
      "cell_type": "markdown",
      "metadata": {
        "id": "to8j5lsyFGCG"
      },
      "source": [
        "### 5. Comparing different models using pycaret"
      ]
    },
    {
      "cell_type": "code",
      "metadata": {
        "colab": {
          "base_uri": "https://localhost:8080/",
          "height": 508,
          "referenced_widgets": [
            "9324d6fc8a9a42bd90ef851839c3a2dd",
            "54bfe4d42d584a2f8155b2087274ae49",
            "15940e7101424401b7d5eff97479c0de"
          ]
        },
        "id": "PYsIh27ZuIXs",
        "outputId": "8203ed09-0e41-49b7-ebd8-a4151e9e62a4"
      },
      "source": [
        "compare_models()"
      ],
      "execution_count": null,
      "outputs": [
        {
          "output_type": "display_data",
          "data": {
            "text/html": [
              "<div>\n",
              "<style scoped>\n",
              "    .dataframe tbody tr th:only-of-type {\n",
              "        vertical-align: middle;\n",
              "    }\n",
              "\n",
              "    .dataframe tbody tr th {\n",
              "        vertical-align: top;\n",
              "    }\n",
              "\n",
              "    .dataframe thead th {\n",
              "        text-align: right;\n",
              "    }\n",
              "</style>\n",
              "<table border=\"1\" class=\"dataframe\">\n",
              "  <thead>\n",
              "    <tr style=\"text-align: right;\">\n",
              "      <th></th>\n",
              "      <th>Model</th>\n",
              "      <th>Accuracy</th>\n",
              "      <th>AUC</th>\n",
              "      <th>Recall</th>\n",
              "      <th>Prec.</th>\n",
              "      <th>F1</th>\n",
              "      <th>Kappa</th>\n",
              "      <th>MCC</th>\n",
              "      <th>TT (Sec)</th>\n",
              "    </tr>\n",
              "  </thead>\n",
              "  <tbody>\n",
              "    <tr>\n",
              "      <th>catboost</th>\n",
              "      <td>CatBoost Classifier</td>\n",
              "      <td>0.8722</td>\n",
              "      <td>0.9278</td>\n",
              "      <td>0.6511</td>\n",
              "      <td>0.7820</td>\n",
              "      <td>0.7104</td>\n",
              "      <td>0.6294</td>\n",
              "      <td>0.6338</td>\n",
              "      <td>10.835</td>\n",
              "    </tr>\n",
              "    <tr>\n",
              "      <th>lightgbm</th>\n",
              "      <td>Light Gradient Boosting Machine</td>\n",
              "      <td>0.8717</td>\n",
              "      <td>0.9258</td>\n",
              "      <td>0.6566</td>\n",
              "      <td>0.7765</td>\n",
              "      <td>0.7113</td>\n",
              "      <td>0.6295</td>\n",
              "      <td>0.6333</td>\n",
              "      <td>0.312</td>\n",
              "    </tr>\n",
              "    <tr>\n",
              "      <th>xgboost</th>\n",
              "      <td>Extreme Gradient Boosting</td>\n",
              "      <td>0.8706</td>\n",
              "      <td>0.9254</td>\n",
              "      <td>0.6528</td>\n",
              "      <td>0.7745</td>\n",
              "      <td>0.7083</td>\n",
              "      <td>0.6259</td>\n",
              "      <td>0.6298</td>\n",
              "      <td>10.037</td>\n",
              "    </tr>\n",
              "    <tr>\n",
              "      <th>gbc</th>\n",
              "      <td>Gradient Boosting Classifier</td>\n",
              "      <td>0.8622</td>\n",
              "      <td>0.9168</td>\n",
              "      <td>0.5817</td>\n",
              "      <td>0.7911</td>\n",
              "      <td>0.6703</td>\n",
              "      <td>0.5857</td>\n",
              "      <td>0.5969</td>\n",
              "      <td>3.963</td>\n",
              "    </tr>\n",
              "    <tr>\n",
              "      <th>ada</th>\n",
              "      <td>Ada Boost Classifier</td>\n",
              "      <td>0.8605</td>\n",
              "      <td>0.9121</td>\n",
              "      <td>0.6121</td>\n",
              "      <td>0.7618</td>\n",
              "      <td>0.6786</td>\n",
              "      <td>0.5909</td>\n",
              "      <td>0.5968</td>\n",
              "      <td>1.397</td>\n",
              "    </tr>\n",
              "    <tr>\n",
              "      <th>rf</th>\n",
              "      <td>Random Forest Classifier</td>\n",
              "      <td>0.8542</td>\n",
              "      <td>0.9030</td>\n",
              "      <td>0.6147</td>\n",
              "      <td>0.7362</td>\n",
              "      <td>0.6698</td>\n",
              "      <td>0.5772</td>\n",
              "      <td>0.5812</td>\n",
              "      <td>2.748</td>\n",
              "    </tr>\n",
              "    <tr>\n",
              "      <th>lda</th>\n",
              "      <td>Linear Discriminant Analysis</td>\n",
              "      <td>0.8406</td>\n",
              "      <td>0.8915</td>\n",
              "      <td>0.5642</td>\n",
              "      <td>0.7139</td>\n",
              "      <td>0.6301</td>\n",
              "      <td>0.5304</td>\n",
              "      <td>0.5364</td>\n",
              "      <td>0.415</td>\n",
              "    </tr>\n",
              "    <tr>\n",
              "      <th>ridge</th>\n",
              "      <td>Ridge Classifier</td>\n",
              "      <td>0.8391</td>\n",
              "      <td>0.0000</td>\n",
              "      <td>0.5035</td>\n",
              "      <td>0.7453</td>\n",
              "      <td>0.6008</td>\n",
              "      <td>0.5048</td>\n",
              "      <td>0.5201</td>\n",
              "      <td>0.055</td>\n",
              "    </tr>\n",
              "    <tr>\n",
              "      <th>et</th>\n",
              "      <td>Extra Trees Classifier</td>\n",
              "      <td>0.8342</td>\n",
              "      <td>0.8782</td>\n",
              "      <td>0.5964</td>\n",
              "      <td>0.6766</td>\n",
              "      <td>0.6339</td>\n",
              "      <td>0.5273</td>\n",
              "      <td>0.5292</td>\n",
              "      <td>3.417</td>\n",
              "    </tr>\n",
              "    <tr>\n",
              "      <th>dt</th>\n",
              "      <td>Decision Tree Classifier</td>\n",
              "      <td>0.8114</td>\n",
              "      <td>0.7448</td>\n",
              "      <td>0.6165</td>\n",
              "      <td>0.6071</td>\n",
              "      <td>0.6114</td>\n",
              "      <td>0.4870</td>\n",
              "      <td>0.4872</td>\n",
              "      <td>0.251</td>\n",
              "    </tr>\n",
              "    <tr>\n",
              "      <th>lr</th>\n",
              "      <td>Logistic Regression</td>\n",
              "      <td>0.7965</td>\n",
              "      <td>0.5928</td>\n",
              "      <td>0.2566</td>\n",
              "      <td>0.7162</td>\n",
              "      <td>0.3773</td>\n",
              "      <td>0.2869</td>\n",
              "      <td>0.3413</td>\n",
              "      <td>0.550</td>\n",
              "    </tr>\n",
              "    <tr>\n",
              "      <th>nb</th>\n",
              "      <td>Naive Bayes</td>\n",
              "      <td>0.7923</td>\n",
              "      <td>0.8031</td>\n",
              "      <td>0.3057</td>\n",
              "      <td>0.6456</td>\n",
              "      <td>0.4144</td>\n",
              "      <td>0.3073</td>\n",
              "      <td>0.3393</td>\n",
              "      <td>0.057</td>\n",
              "    </tr>\n",
              "    <tr>\n",
              "      <th>knn</th>\n",
              "      <td>K Neighbors Classifier</td>\n",
              "      <td>0.7708</td>\n",
              "      <td>0.6558</td>\n",
              "      <td>0.2993</td>\n",
              "      <td>0.5439</td>\n",
              "      <td>0.3859</td>\n",
              "      <td>0.2593</td>\n",
              "      <td>0.2769</td>\n",
              "      <td>0.681</td>\n",
              "    </tr>\n",
              "    <tr>\n",
              "      <th>qda</th>\n",
              "      <td>Quadratic Discriminant Analysis</td>\n",
              "      <td>0.6089</td>\n",
              "      <td>0.5838</td>\n",
              "      <td>0.5355</td>\n",
              "      <td>0.3139</td>\n",
              "      <td>0.3808</td>\n",
              "      <td>0.1305</td>\n",
              "      <td>0.1477</td>\n",
              "      <td>0.211</td>\n",
              "    </tr>\n",
              "    <tr>\n",
              "      <th>svm</th>\n",
              "      <td>SVM - Linear Kernel</td>\n",
              "      <td>0.5116</td>\n",
              "      <td>0.0000</td>\n",
              "      <td>0.6342</td>\n",
              "      <td>0.4452</td>\n",
              "      <td>0.3767</td>\n",
              "      <td>0.1307</td>\n",
              "      <td>0.1516</td>\n",
              "      <td>1.127</td>\n",
              "    </tr>\n",
              "  </tbody>\n",
              "</table>\n",
              "</div>"
            ],
            "text/plain": [
              "                                    Model  Accuracy     AUC  Recall   Prec.  \\\n",
              "catboost              CatBoost Classifier    0.8722  0.9278  0.6511  0.7820   \n",
              "lightgbm  Light Gradient Boosting Machine    0.8717  0.9258  0.6566  0.7765   \n",
              "xgboost         Extreme Gradient Boosting    0.8706  0.9254  0.6528  0.7745   \n",
              "gbc          Gradient Boosting Classifier    0.8622  0.9168  0.5817  0.7911   \n",
              "ada                  Ada Boost Classifier    0.8605  0.9121  0.6121  0.7618   \n",
              "rf               Random Forest Classifier    0.8542  0.9030  0.6147  0.7362   \n",
              "lda          Linear Discriminant Analysis    0.8406  0.8915  0.5642  0.7139   \n",
              "ridge                    Ridge Classifier    0.8391  0.0000  0.5035  0.7453   \n",
              "et                 Extra Trees Classifier    0.8342  0.8782  0.5964  0.6766   \n",
              "dt               Decision Tree Classifier    0.8114  0.7448  0.6165  0.6071   \n",
              "lr                    Logistic Regression    0.7965  0.5928  0.2566  0.7162   \n",
              "nb                            Naive Bayes    0.7923  0.8031  0.3057  0.6456   \n",
              "knn                K Neighbors Classifier    0.7708  0.6558  0.2993  0.5439   \n",
              "qda       Quadratic Discriminant Analysis    0.6089  0.5838  0.5355  0.3139   \n",
              "svm                   SVM - Linear Kernel    0.5116  0.0000  0.6342  0.4452   \n",
              "\n",
              "              F1   Kappa     MCC  TT (Sec)  \n",
              "catboost  0.7104  0.6294  0.6338    10.835  \n",
              "lightgbm  0.7113  0.6295  0.6333     0.312  \n",
              "xgboost   0.7083  0.6259  0.6298    10.037  \n",
              "gbc       0.6703  0.5857  0.5969     3.963  \n",
              "ada       0.6786  0.5909  0.5968     1.397  \n",
              "rf        0.6698  0.5772  0.5812     2.748  \n",
              "lda       0.6301  0.5304  0.5364     0.415  \n",
              "ridge     0.6008  0.5048  0.5201     0.055  \n",
              "et        0.6339  0.5273  0.5292     3.417  \n",
              "dt        0.6114  0.4870  0.4872     0.251  \n",
              "lr        0.3773  0.2869  0.3413     0.550  \n",
              "nb        0.4144  0.3073  0.3393     0.057  \n",
              "knn       0.3859  0.2593  0.2769     0.681  \n",
              "qda       0.3808  0.1305  0.1477     0.211  \n",
              "svm       0.3767  0.1307  0.1516     1.127  "
            ]
          },
          "metadata": {
            "tags": []
          }
        },
        {
          "output_type": "execute_result",
          "data": {
            "text/plain": [
              "<catboost.core.CatBoostClassifier at 0x7f3fd754db70>"
            ]
          },
          "metadata": {
            "tags": []
          },
          "execution_count": 12
        }
      ]
    },
    {
      "cell_type": "markdown",
      "metadata": {
        "id": "26c9-cWEv1iv"
      },
      "source": [
        "# Metrics"
      ]
    },
    {
      "cell_type": "markdown",
      "metadata": {
        "id": "o5su82XGn3u4"
      },
      "source": [
        "### 1. Classification metrics"
      ]
    },
    {
      "cell_type": "markdown",
      "metadata": {
        "id": "M4O-Ig6UrtXg"
      },
      "source": [
        "Confusion matrix"
      ]
    },
    {
      "cell_type": "code",
      "metadata": {
        "colab": {
          "base_uri": "https://localhost:8080/"
        },
        "id": "txNM3o3DsoXC",
        "outputId": "87cf8af8-4155-4cc3-e133-5d7ec02cfc0a"
      },
      "source": [
        "# Confusion matrix for decision tree\n",
        "\n",
        "confusion_matrix(y_test, prediction_dtc)\n"
      ],
      "execution_count": null,
      "outputs": [
        {
          "output_type": "execute_result",
          "data": {
            "text/plain": [
              "array([[10813,  1622],\n",
              "       [ 1498,  2348]])"
            ]
          },
          "metadata": {
            "tags": []
          },
          "execution_count": 142
        }
      ]
    },
    {
      "cell_type": "markdown",
      "metadata": {
        "id": "B0RQBZwKwUqD"
      },
      "source": [
        "Precision and Recall"
      ]
    },
    {
      "cell_type": "code",
      "metadata": {
        "colab": {
          "base_uri": "https://localhost:8080/"
        },
        "id": "kBVwnqKZwTxG",
        "outputId": "e1473ed4-c2de-47ef-d80e-b58cd624d596"
      },
      "source": [
        "# Precision and recall for decision tree\n",
        "print(\"Precision:\", precision_score(y_test, prediction_dtc))\n",
        "print(\"Recall:\",recall_score(y_test, prediction_dtc))"
      ],
      "execution_count": null,
      "outputs": [
        {
          "output_type": "stream",
          "text": [
            "Precision: 0.5914357682619648\n",
            "Recall: 0.6105044201768071\n"
          ],
          "name": "stdout"
        }
      ]
    },
    {
      "cell_type": "markdown",
      "metadata": {
        "id": "Gk2fCnvawqBC"
      },
      "source": [
        "F1 score"
      ]
    },
    {
      "cell_type": "code",
      "metadata": {
        "colab": {
          "base_uri": "https://localhost:8080/"
        },
        "id": "kP_3XZW9wTuZ",
        "outputId": "ca25cf19-89bd-4a57-be7a-32a20b8b98a5"
      },
      "source": [
        "# f1_score of decision tree\n",
        "f1_score(y_test, prediction_dtc)"
      ],
      "execution_count": null,
      "outputs": [
        {
          "output_type": "execute_result",
          "data": {
            "text/plain": [
              "0.6008188331627431"
            ]
          },
          "metadata": {
            "tags": []
          },
          "execution_count": 146
        }
      ]
    },
    {
      "cell_type": "code",
      "metadata": {
        "colab": {
          "base_uri": "https://localhost:8080/"
        },
        "id": "S73tz9xlxt4Y",
        "outputId": "ea453b12-fe06-438e-ea77-22385e13d9d6"
      },
      "source": [
        "r2_score(y_test, prediction_dtc)"
      ],
      "execution_count": null,
      "outputs": [
        {
          "output_type": "execute_result",
          "data": {
            "text/plain": [
              "-0.06213715376118101"
            ]
          },
          "metadata": {
            "tags": []
          },
          "execution_count": 151
        }
      ]
    },
    {
      "cell_type": "markdown",
      "metadata": {
        "id": "Mvtudm9ax-s5"
      },
      "source": [
        "### 2. Cross Validation"
      ]
    },
    {
      "cell_type": "code",
      "metadata": {
        "colab": {
          "base_uri": "https://localhost:8080/"
        },
        "id": "p_FnkSuxoICo",
        "outputId": "76723726-b1cf-4db9-e693-bd01a9cb68d2"
      },
      "source": [
        "print(cross_val_score(knn, x_train, y_train, cv=4))\n",
        "print(cross_val_score(rfc, x_train, y_train, cv=2))"
      ],
      "execution_count": null,
      "outputs": [
        {
          "output_type": "stream",
          "text": [
            "[0.81341359 0.82248157 0.82727273 0.82272727]\n",
            "[0.85172901 0.85804668]\n"
          ],
          "name": "stdout"
        }
      ]
    },
    {
      "cell_type": "markdown",
      "metadata": {
        "id": "pfgHS4ARzKU2"
      },
      "source": [
        "# Hyperparameter tuning"
      ]
    },
    {
      "cell_type": "markdown",
      "metadata": {
        "id": "Bckku_a81fvc"
      },
      "source": [
        "### 1. Hyperparameter tuning for logistic regression"
      ]
    },
    {
      "cell_type": "code",
      "metadata": {
        "colab": {
          "base_uri": "https://localhost:8080/"
        },
        "id": "LlLGP144orjx",
        "outputId": "79b74bf6-a140-4700-d19d-072ed256b59b"
      },
      "source": [
        "cv_method = RepeatedStratifiedKFold(n_splits=5, \n",
        "                                    n_repeats=3, \n",
        "                                    random_state=999)\n",
        "LR = LogisticRegression()\n",
        "LRparam_grid = [    \n",
        "    {'penalty' : ['l1', 'l2', 'elasticnet', 'none'],\n",
        "    'C' : np.logspace(-4, 4, 20),\n",
        "    'solver' : ['lbfgs','newton-cg','liblinear','sag','saga'],\n",
        "    'max_iter' : [100, 1000, 2500]\n",
        "    }]\n",
        "\n",
        "LR_search = GridSearchCV(LR, param_grid = LRparam_grid, cv = cv_method, verbose=True, n_jobs=-1)\n",
        "\n",
        "# fitting the model for grid search \n",
        "best_LR = LR_search.fit(x_train , y_train)\n",
        "best_LR.best_estimator_\n",
        "\n",
        "# summarize\n",
        "print(f'Accuracy on training data - : {best_LR.score(x_train, y_train):.5f}')\n",
        "print(f'Accuracy on test data - : {best_LR.score(x_test, y_test):.5f}')\n"
      ],
      "execution_count": null,
      "outputs": [
        {
          "output_type": "stream",
          "text": [
            "Fitting 15 folds for each of 1200 candidates, totalling 18000 fits\n"
          ],
          "name": "stdout"
        },
        {
          "output_type": "stream",
          "text": [
            "[Parallel(n_jobs=-1)]: Using backend LokyBackend with 2 concurrent workers.\n",
            "[Parallel(n_jobs=-1)]: Done 202 tasks      | elapsed:    8.2s\n",
            "[Parallel(n_jobs=-1)]: Done 970 tasks      | elapsed:   39.9s\n",
            "[Parallel(n_jobs=-1)]: Done 2101 tasks      | elapsed:  1.5min\n",
            "[Parallel(n_jobs=-1)]: Done 3454 tasks      | elapsed:  2.7min\n",
            "[Parallel(n_jobs=-1)]: Done 5218 tasks      | elapsed:  4.1min\n",
            "[Parallel(n_jobs=-1)]: Done 7554 tasks      | elapsed:  6.2min\n",
            "[Parallel(n_jobs=-1)]: Done 10076 tasks      | elapsed:  8.4min\n",
            "[Parallel(n_jobs=-1)]: Done 13362 tasks      | elapsed: 11.4min\n",
            "[Parallel(n_jobs=-1)]: Done 16930 tasks      | elapsed: 14.6min\n",
            "[Parallel(n_jobs=-1)]: Done 18000 out of 18000 | elapsed: 15.5min finished\n"
          ],
          "name": "stderr"
        },
        {
          "output_type": "stream",
          "text": [
            "Accuracy on training data - : 0.82501\n",
            "Accuracy on test data - : 0.82624\n"
          ],
          "name": "stdout"
        }
      ]
    },
    {
      "cell_type": "markdown",
      "metadata": {
        "id": "6Q5oIb2Og_jD"
      },
      "source": [
        "There is a slight change in the accuracy of the training data after hyperparameter tuning"
      ]
    },
    {
      "cell_type": "markdown",
      "metadata": {
        "id": "OCxt2SRAfXK_"
      },
      "source": [
        "### 2. Hyperparameter tuning for Gaussian Naive Bayes"
      ]
    },
    {
      "cell_type": "code",
      "metadata": {
        "colab": {
          "base_uri": "https://localhost:8080/"
        },
        "id": "n9eBxGB4117A",
        "outputId": "81849a92-0ecd-47fb-e617-2fa5eaf24379"
      },
      "source": [
        "cv_method = RepeatedStratifiedKFold(n_splits=5, \n",
        "                                    n_repeats=3, \n",
        "                                    random_state=999)\n",
        "GNB = GaussianNB()\n",
        "\n",
        "GNBparams_grid = {'var_smoothing': np.logspace(0,-9, num=100)}\n",
        "\n",
        "GNB_search = GridSearchCV(estimator=GNB, \n",
        "                     param_grid=GNBparams_grid, \n",
        "                     cv=cv_method,\n",
        "                     verbose=1, \n",
        "                     scoring='accuracy')\n",
        "# fitting the model for grid search \n",
        "best_GNB = GNB_search.fit(x_train , y_train)\n",
        "best_GNB.best_estimator_\n",
        "\n",
        "# summarize\n",
        "print(f'Accuracy on training data - : {best_GNB.score(x_train, y_train):.5f}')\n",
        "print(f'Accuracy on test data - : {best_GNB.score(x_test, y_test):.5f}')\n"
      ],
      "execution_count": null,
      "outputs": [
        {
          "output_type": "stream",
          "text": [
            "Fitting 15 folds for each of 100 candidates, totalling 1500 fits\n"
          ],
          "name": "stdout"
        },
        {
          "output_type": "stream",
          "text": [
            "[Parallel(n_jobs=1)]: Using backend SequentialBackend with 1 concurrent workers.\n"
          ],
          "name": "stderr"
        },
        {
          "output_type": "stream",
          "text": [
            "Accuracy on training data - : 0.81923\n",
            "Accuracy on test data - : 0.81801\n"
          ],
          "name": "stdout"
        },
        {
          "output_type": "stream",
          "text": [
            "[Parallel(n_jobs=1)]: Done 1500 out of 1500 | elapsed:   26.0s finished\n"
          ],
          "name": "stderr"
        }
      ]
    },
    {
      "cell_type": "markdown",
      "metadata": {
        "id": "A3QnO6HhkORv"
      },
      "source": [
        "The accuracy of the training score increases after hyperparameter tuning"
      ]
    }
  ]
}